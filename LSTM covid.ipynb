{
 "cells": [
  {
   "cell_type": "code",
   "execution_count": 1,
   "metadata": {},
   "outputs": [],
   "source": [
    "import numpy as np \n",
    "import pandas as pd \n",
    "import time\n",
    "import seaborn as sns\n",
    "import matplotlib.pyplot as plt\n",
    "import tensorflow as  tf\n",
    "from tensorflow.keras.models import Sequential, Model\n",
    "from tensorflow.keras.layers import Dense, Dropout, LSTM"
   ]
  },
  {
   "cell_type": "code",
   "execution_count": 2,
   "metadata": {},
   "outputs": [],
   "source": [
    "x_train = np.load('./npy_covid64/x_train.npy')\n",
    "y_train = np.load('./npy_covid64/y_train.npy')\n",
    "x_test=np.load('./npy_covid64/x_test.npy')\n",
    "y_test=np.load('./npy_covid64/y_test.npy')"
   ]
  },
  {
   "cell_type": "code",
   "execution_count": 3,
   "metadata": {},
   "outputs": [],
   "source": [
    "x_train = x_train / 255.0\n",
    "x_test = x_test / 255.0"
   ]
  },
  {
   "cell_type": "code",
   "execution_count": 4,
   "metadata": {},
   "outputs": [
    {
     "name": "stdout",
     "output_type": "stream",
     "text": [
      "(64, 64)\n",
      "(64, 64)\n"
     ]
    }
   ],
   "source": [
    "print(x_train[0].shape)\n",
    "print(x_train.shape[1:])"
   ]
  },
  {
   "cell_type": "code",
   "execution_count": 5,
   "metadata": {},
   "outputs": [],
   "source": [
    "# bulid model\n",
    "model = Sequential()\n",
    "model.add(LSTM(128, input_shape=(x_train.shape[1:]), activation='relu', return_sequences=True))\n",
    "model.add(Dropout(0.2))\n",
    "\n",
    "model.add(LSTM(128, activation='relu'))\n",
    "model.add(Dropout(0.2))\n",
    "\n",
    "model.add(Dense(32, activation='relu'))\n",
    "model.add(Dropout(0.5))\n",
    "\n",
    "model.add(Dense(2, activation='softmax'))"
   ]
  },
  {
   "cell_type": "code",
   "execution_count": 6,
   "metadata": {},
   "outputs": [
    {
     "name": "stdout",
     "output_type": "stream",
     "text": [
      "Model: \"sequential\"\n",
      "_________________________________________________________________\n",
      "Layer (type)                 Output Shape              Param #   \n",
      "=================================================================\n",
      "lstm (LSTM)                  (None, 64, 128)           98816     \n",
      "_________________________________________________________________\n",
      "dropout (Dropout)            (None, 64, 128)           0         \n",
      "_________________________________________________________________\n",
      "lstm_1 (LSTM)                (None, 128)               131584    \n",
      "_________________________________________________________________\n",
      "dropout_1 (Dropout)          (None, 128)               0         \n",
      "_________________________________________________________________\n",
      "dense (Dense)                (None, 32)                4128      \n",
      "_________________________________________________________________\n",
      "dropout_2 (Dropout)          (None, 32)                0         \n",
      "_________________________________________________________________\n",
      "dense_1 (Dense)              (None, 2)                 66        \n",
      "=================================================================\n",
      "Total params: 234,594\n",
      "Trainable params: 234,594\n",
      "Non-trainable params: 0\n",
      "_________________________________________________________________\n"
     ]
    }
   ],
   "source": [
    "model.summary()"
   ]
  },
  {
   "cell_type": "code",
   "execution_count": 7,
   "metadata": {},
   "outputs": [],
   "source": [
    "opt = tf.keras.optimizers.Adam(lr=1e-3, decay=1e-5)"
   ]
  },
  {
   "cell_type": "code",
   "execution_count": 8,
   "metadata": {},
   "outputs": [],
   "source": [
    "model.compile(loss='binary_crossentropy', optimizer=opt,\n",
    "             metrics=['accuracy'])"
   ]
  },
  {
   "cell_type": "code",
   "execution_count": 9,
   "metadata": {},
   "outputs": [
    {
     "name": "stdout",
     "output_type": "stream",
     "text": [
      "Epoch 1/5\n",
      "363/363 [==============================] - 36s 99ms/step - loss: 0.7015 - accuracy: 0.5304 - val_loss: 0.6813 - val_accuracy: 0.5231\n",
      "Epoch 2/5\n",
      "363/363 [==============================] - 39s 107ms/step - loss: 1.9653 - accuracy: 0.6797 - val_loss: 7.4833 - val_accuracy: 0.5121\n",
      "Epoch 3/5\n",
      "363/363 [==============================] - 38s 104ms/step - loss: 7.4516 - accuracy: 0.5141 - val_loss: 7.4833 - val_accuracy: 0.5121\n",
      "Epoch 4/5\n",
      "363/363 [==============================] - 38s 103ms/step - loss: 7.5085 - accuracy: 0.5104 - val_loss: 7.4833 - val_accuracy: 0.5121\n",
      "Epoch 5/5\n",
      "363/363 [==============================] - 36s 101ms/step - loss: 7.4716 - accuracy: 0.5128 - val_loss: 7.4833 - val_accuracy: 0.5121\n",
      "189.25983428955078\n"
     ]
    }
   ],
   "source": [
    "start = time.time() # Measuring the processing time\n",
    "history=model.fit(x_train, y_train, epochs=5,validation_data=(x_test, y_test) )#validation_split=0.3)\n",
    "end = time.time()\n",
    "print(end - start)"
   ]
  },
  {
   "cell_type": "code",
   "execution_count": 10,
   "metadata": {},
   "outputs": [],
   "source": [
    "acc = history.history['accuracy']\n",
    "val_acc = history.history['val_accuracy']\n",
    "loss = history.history['loss']\n",
    "val_loss = history.history['val_loss']"
   ]
  },
  {
   "cell_type": "code",
   "execution_count": 11,
   "metadata": {},
   "outputs": [
    {
     "name": "stdout",
     "output_type": "stream",
     "text": [
      "Test loss: 7.4833149909973145\n",
      "Test accuracy: 0.512077271938324\n"
     ]
    }
   ],
   "source": [
    "#                      EVALUATE TRAINED MODEL\n",
    "score = model.evaluate(x_test, y_test, verbose=0)\n",
    "print('Test loss:', score[0])\n",
    "print('Test accuracy:', score[1])"
   ]
  },
  {
   "cell_type": "code",
   "execution_count": 12,
   "metadata": {},
   "outputs": [],
   "source": [
    "from keras import metrics\n",
    "from sklearn.metrics import confusion_matrix"
   ]
  },
  {
   "cell_type": "code",
   "execution_count": 13,
   "metadata": {},
   "outputs": [
    {
     "name": "stdout",
     "output_type": "stream",
     "text": [
      "WARNING:tensorflow:From <ipython-input-13-dba21467f350>:1: Sequential.predict_classes (from tensorflow.python.keras.engine.sequential) is deprecated and will be removed after 2021-01-01.\n",
      "Instructions for updating:\n",
      "Please use instead:* `np.argmax(model.predict(x), axis=-1)`,   if your model does multi-class classification   (e.g. if it uses a `softmax` last-layer activation).* `(model.predict(x) > 0.5).astype(\"int32\")`,   if your model does binary classification   (e.g. if it uses a `sigmoid` last-layer activation).\n"
     ]
    }
   ],
   "source": [
    "pred = model.predict_classes(x_test)"
   ]
  },
  {
   "cell_type": "code",
   "execution_count": 14,
   "metadata": {},
   "outputs": [
    {
     "data": {
      "text/plain": [
       "array([[1342, 1374],\n",
       "       [  40,  142]], dtype=int64)"
      ]
     },
     "execution_count": 14,
     "metadata": {},
     "output_type": "execute_result"
    }
   ],
   "source": [
    "confusion_matrix(pred, np.argmax(y_test,axis =1))"
   ]
  },
  {
   "cell_type": "code",
   "execution_count": 15,
   "metadata": {},
   "outputs": [],
   "source": [
    "import seaborn as sns"
   ]
  },
  {
   "cell_type": "code",
   "execution_count": 16,
   "metadata": {},
   "outputs": [],
   "source": [
    "def plot_heatmap(cm,title):\n",
    "    df_cm2 = pd.DataFrame(cm, index = ['No Covid','Covid'])\n",
    "    df_cm2.columns=['No Covid','Covid']\n",
    "    f,ax = plt.subplots(figsize=(12, 12))\n",
    "    #ax = plt.axes()\n",
    "    sns.heatmap(df_cm2, annot=True, fmt=\"d\", linewidths=.5,ax=ax)\n",
    "    ax.set_title(title)\n",
    "    plt.show()    \n",
    "    return"
   ]
  },
  {
   "cell_type": "code",
   "execution_count": 17,
   "metadata": {},
   "outputs": [
    {
     "data": {
      "image/png": "[encoded data removed]",
      "text/plain": [
       "<Figure size 864x864 with 2 Axes>"
      ]
     },
     "metadata": {
      "needs_background": "light"
     },
     "output_type": "display_data"
    }
   ],
   "source": [
    "plot_heatmap(confusion_matrix(pred, np.argmax(y_test,axis =1)),' LSTM')"
   ]
  },
  {
   "cell_type": "code",
   "execution_count": 18,
   "metadata": {},
   "outputs": [
    {
     "name": "stdout",
     "output_type": "stream",
     "text": [
      "              precision    recall  f1-score   support\n",
      "\n",
      "           0     0.9711    0.4941    0.6550      2716\n",
      "           1     0.0937    0.7802    0.1673       182\n",
      "\n",
      "    accuracy                         0.5121      2898\n",
      "   macro avg     0.5324    0.6372    0.4111      2898\n",
      "weighted avg     0.9160    0.5121    0.6243      2898\n",
      "\n"
     ]
    }
   ],
   "source": [
    "from sklearn.metrics import classification_report\n",
    "print(classification_report(pred, np.argmax(y_test,axis =1),digits=4))"
   ]
  },
  {
   "cell_type": "code",
   "execution_count": 19,
   "metadata": {},
   "outputs": [
    {
     "data": {
      "image/png": "[encoded data removed]",
      "text/plain": [
       "<Figure size 432x288 with 1 Axes>"
      ]
     },
     "metadata": {
      "needs_background": "light"
     },
     "output_type": "display_data"
    }
   ],
   "source": [
    "plt.plot(history.history['val_loss'], color='b', label=\"validation loss\")\n",
    "plt.plot(history.history['loss'], color='r', label=\"training loss\")\n",
    "plt.title(\"Test Loss\")\n",
    "plt.xlabel(\"Number of Epochs\")\n",
    "plt.ylabel(\"Loss\")\n",
    "plt.legend()\n",
    "plt.show()"
   ]
  },
  {
   "cell_type": "code",
   "execution_count": 20,
   "metadata": {},
   "outputs": [
    {
     "data": {
      "image/png": "[encoded data removed]",
      "text/plain": [
       "<Figure size 432x288 with 1 Axes>"
      ]
     },
     "metadata": {
      "needs_background": "light"
     },
     "output_type": "display_data"
    }
   ],
   "source": [
    "# Plot the accuracy curve for validation \n",
    "plt.plot(history.history['val_accuracy'], color='g', label=\"validation accuracy\")\n",
    "plt.plot(history.history['accuracy'], color='r', label=\"training accuracy\")\n",
    "plt.title(\"Validation Accuracy\")\n",
    "plt.xlabel(\"Number of Epochs\")\n",
    "plt.ylabel(\"Accuracy\")\n",
    "plt.legend()\n",
    "plt.show()"
   ]
  },
  {
   "cell_type": "code",
   "execution_count": 21,
   "metadata": {},
   "outputs": [
    {
     "name": "stdout",
     "output_type": "stream",
     "text": [
      "(11588, 2)\n",
      "(2898, 2)\n"
     ]
    }
   ],
   "source": [
    "model.save('LSTM_weights_2.h5')\n",
    "model.load_weights('LSTM_weights_2.h5')\n",
    "model_feat = Model(inputs=model.input,outputs=model.get_layer('dense_1').output)\n",
    "\n",
    "feat_train = model_feat.predict(x_train)\n",
    "print(feat_train.shape)\n",
    "\n",
    "#feat_val = model_feat.predict(x_val)\n",
    "#print(feat_val.shape)\n",
    "\n",
    "feat_test = model_feat.predict(x_test)\n",
    "print(feat_test.shape)"
   ]
  },
  {
   "cell_type": "code",
   "execution_count": 22,
   "metadata": {},
   "outputs": [],
   "source": [
    "from keras import metrics\n",
    "from sklearn.metrics import confusion_matrix\n",
    "pred = model.predict_classes(x_test)"
   ]
  },
  {
   "cell_type": "code",
   "execution_count": 23,
   "metadata": {},
   "outputs": [
    {
     "name": "stdout",
     "output_type": "stream",
     "text": [
      "2.0593950748443604\n",
      "fitting done !!!\n"
     ]
    }
   ],
   "source": [
    "from sklearn.svm import SVC\n",
    "\n",
    "svm = SVC(kernel='rbf')\n",
    "start = time.time() # Measuring the processing time\n",
    "svm.fit(feat_train,np.argmax(y_train,axis=1))\n",
    "end = time.time()\n",
    "print(end - start)\n",
    "print('fitting done !!!')"
   ]
  },
  {
   "cell_type": "code",
   "execution_count": 24,
   "metadata": {},
   "outputs": [
    {
     "name": "stdout",
     "output_type": "stream",
     "text": [
      "              precision    recall  f1-score   support\n",
      "\n",
      "           0     0.0000    0.0000    0.0000         0\n",
      "           1     1.0000    0.5231    0.6869      2898\n",
      "\n",
      "    accuracy                         0.5231      2898\n",
      "   macro avg     0.5000    0.2616    0.3435      2898\n",
      "weighted avg     1.0000    0.5231    0.6869      2898\n",
      "\n"
     ]
    },
    {
     "name": "stderr",
     "output_type": "stream",
     "text": [
      "C:\\Users\\Eng Kadebu\\.conda\\envs\\images\\lib\\site-packages\\sklearn\\metrics\\_classification.py:1221: UndefinedMetricWarning: Recall and F-score are ill-defined and being set to 0.0 in labels with no true samples. Use `zero_division` parameter to control this behavior.\n",
      "  _warn_prf(average, modifier, msg_start, len(result))\n"
     ]
    }
   ],
   "source": [
    "Pred_labels = svm.predict(feat_test)\n",
    "from sklearn.metrics import classification_report\n",
    "print(classification_report(Pred_labels, np.argmax(y_test,axis =1),digits=4))"
   ]
  },
  {
   "cell_type": "code",
   "execution_count": 25,
   "metadata": {},
   "outputs": [
    {
     "name": "stdout",
     "output_type": "stream",
     "text": [
      "0.06318044662475586\n",
      "fitting done !!!\n"
     ]
    }
   ],
   "source": [
    "import xgboost as xgb\n",
    "\n",
    "xb = xgb.XGBClassifier()\n",
    "start = time.time() # Measuring the processing time\n",
    "xb.fit(feat_train,np.argmax(y_train,axis=1))\n",
    "end = time.time()\n",
    "print(end - start)\n",
    "print('fitting done !!!')"
   ]
  },
  {
   "cell_type": "code",
   "execution_count": 26,
   "metadata": {},
   "outputs": [
    {
     "name": "stdout",
     "output_type": "stream",
     "text": [
      "              precision    recall  f1-score   support\n",
      "\n",
      "           0     0.0000    0.0000    0.0000         0\n",
      "           1     1.0000    0.5231    0.6869      2898\n",
      "\n",
      "    accuracy                         0.5231      2898\n",
      "   macro avg     0.5000    0.2616    0.3435      2898\n",
      "weighted avg     1.0000    0.5231    0.6869      2898\n",
      "\n"
     ]
    }
   ],
   "source": [
    "Pred_labels = xb.predict(feat_test)\n",
    "print(classification_report(Pred_labels, np.argmax(y_test,axis =1),digits=4))"
   ]
  },
  {
   "cell_type": "code",
   "execution_count": 27,
   "metadata": {},
   "outputs": [],
   "source": [
    "from sklearn.ensemble import RandomForestClassifier\n",
    "from sklearn.linear_model import LogisticRegression\n",
    "from sklearn.tree import DecisionTreeClassifier\n",
    "from sklearn.neighbors import KNeighborsClassifier\n",
    "from sklearn.discriminant_analysis import LinearDiscriminantAnalysis\n",
    "from sklearn.naive_bayes import GaussianNB\n",
    "from sklearn.svm import SVC\n",
    "from xgboost import XGBClassifier\n",
    "from sklearn.ensemble import BaggingClassifier, ExtraTreesClassifier\n",
    "from sklearn.ensemble import VotingClassifier\n",
    "from sklearn.ensemble import GradientBoostingClassifier\n",
    "from sklearn import model_selection"
   ]
  },
  {
   "cell_type": "code",
   "execution_count": 28,
   "metadata": {},
   "outputs": [
    {
     "name": "stdout",
     "output_type": "stream",
     "text": [
      "fitting done !!!\n"
     ]
    }
   ],
   "source": [
    "lr = LogisticRegression()\n",
    "start = time.time() # Measuring the processing time\n",
    "lr.fit(feat_train,np.argmax(y_train,axis=1))\n",
    "end = time.time()\n",
    "print('fitting done !!!')"
   ]
  },
  {
   "cell_type": "code",
   "execution_count": 29,
   "metadata": {},
   "outputs": [
    {
     "name": "stdout",
     "output_type": "stream",
     "text": [
      "              precision    recall  f1-score   support\n",
      "\n",
      "           0     0.0000    0.0000    0.0000         0\n",
      "           1     1.0000    0.5231    0.6869      2898\n",
      "\n",
      "    accuracy                         0.5231      2898\n",
      "   macro avg     0.5000    0.2616    0.3435      2898\n",
      "weighted avg     1.0000    0.5231    0.6869      2898\n",
      "\n"
     ]
    },
    {
     "name": "stderr",
     "output_type": "stream",
     "text": [
      "C:\\Users\\Eng Kadebu\\.conda\\envs\\images\\lib\\site-packages\\sklearn\\metrics\\_classification.py:1221: UndefinedMetricWarning: Recall and F-score are ill-defined and being set to 0.0 in labels with no true samples. Use `zero_division` parameter to control this behavior.\n",
      "  _warn_prf(average, modifier, msg_start, len(result))\n"
     ]
    }
   ],
   "source": [
    "Pred_labels = lr.predict(feat_test)\n",
    "print(classification_report(Pred_labels, np.argmax(y_test,axis =1),digits=4))"
   ]
  },
  {
   "cell_type": "code",
   "execution_count": 30,
   "metadata": {},
   "outputs": [
    {
     "name": "stdout",
     "output_type": "stream",
     "text": [
      "0.001994609832763672\n",
      "fitting done !!!\n",
      "              precision    recall  f1-score   support\n",
      "\n",
      "           0     0.0000    0.0000    0.0000         0\n",
      "           1     1.0000    0.5231    0.6869      2898\n",
      "\n",
      "    accuracy                         0.5231      2898\n",
      "   macro avg     0.5000    0.2616    0.3435      2898\n",
      "weighted avg     1.0000    0.5231    0.6869      2898\n",
      "\n"
     ]
    },
    {
     "name": "stderr",
     "output_type": "stream",
     "text": [
      "C:\\Users\\Eng Kadebu\\.conda\\envs\\images\\lib\\site-packages\\sklearn\\metrics\\_classification.py:1221: UndefinedMetricWarning: Recall and F-score are ill-defined and being set to 0.0 in labels with no true samples. Use `zero_division` parameter to control this behavior.\n",
      "  _warn_prf(average, modifier, msg_start, len(result))\n"
     ]
    }
   ],
   "source": [
    "dt = DecisionTreeClassifier()\n",
    "start = time.time() # Measuring the processing time\n",
    "dt.fit(feat_train,np.argmax(y_train,axis=1))\n",
    "end = time.time()\n",
    "print(end - start) # Total \n",
    "print('fitting done !!!')\n",
    "Pred_labels = dt.predict(feat_test)\n",
    "print(classification_report(Pred_labels,np.argmax(y_test,axis =1), digits=4))"
   ]
  },
  {
   "cell_type": "code",
   "execution_count": 31,
   "metadata": {},
   "outputs": [
    {
     "name": "stdout",
     "output_type": "stream",
     "text": [
      "0.10771322250366211\n",
      "fitting done !!!\n",
      "              precision    recall  f1-score   support\n",
      "\n",
      "           0     0.0289    0.2198    0.0512       182\n",
      "           1     0.9063    0.5059    0.6493      2716\n",
      "\n",
      "    accuracy                         0.4879      2898\n",
      "   macro avg     0.4676    0.3628    0.3502      2898\n",
      "weighted avg     0.8512    0.4879    0.6118      2898\n",
      "\n"
     ]
    }
   ],
   "source": [
    "knn = KNeighborsClassifier()\n",
    "start = time.time() # Measuring the processing time\n",
    "knn.fit(feat_train,np.argmax(y_train,axis=1))\n",
    "end = time.time()\n",
    "print(end - start) # Total \n",
    "\n",
    "print('fitting done !!!')\n",
    "Pred_labels = knn.predict(feat_test)\n",
    "print(classification_report(Pred_labels, np.argmax(y_test,axis =1), digits=4))"
   ]
  },
  {
   "cell_type": "code",
   "execution_count": 32,
   "metadata": {},
   "outputs": [
    {
     "name": "stdout",
     "output_type": "stream",
     "text": [
      "0.009016752243041992\n",
      "fitting done !!!\n",
      "              precision    recall  f1-score   support\n",
      "\n",
      "           0     0.0000    0.0000    0.0000         0\n",
      "           1     1.0000    0.5231    0.6869      2898\n",
      "\n",
      "    accuracy                         0.5231      2898\n",
      "   macro avg     0.5000    0.2616    0.3435      2898\n",
      "weighted avg     1.0000    0.5231    0.6869      2898\n",
      "\n"
     ]
    },
    {
     "name": "stderr",
     "output_type": "stream",
     "text": [
      "C:\\Users\\Eng Kadebu\\.conda\\envs\\images\\lib\\site-packages\\sklearn\\metrics\\_classification.py:1221: UndefinedMetricWarning: Recall and F-score are ill-defined and being set to 0.0 in labels with no true samples. Use `zero_division` parameter to control this behavior.\n",
      "  _warn_prf(average, modifier, msg_start, len(result))\n"
     ]
    }
   ],
   "source": [
    "lda = LinearDiscriminantAnalysis()\n",
    "start = time.time() # Measuring the processing time\n",
    "lda.fit(feat_train,np.argmax(y_train,axis=1))\n",
    "end = time.time()\n",
    "print(end - start) # Total \n",
    "\n",
    "print('fitting done !!!')\n",
    "Pred_labels = lda.predict(feat_test)\n",
    "print(classification_report(Pred_labels,np.argmax(y_test,axis =1), digits=4))"
   ]
  },
  {
   "cell_type": "code",
   "execution_count": 33,
   "metadata": {},
   "outputs": [
    {
     "name": "stdout",
     "output_type": "stream",
     "text": [
      "0.003981351852416992\n",
      "fitting done !!!\n",
      "              precision    recall  f1-score   support\n",
      "\n",
      "           0     0.9711    0.4941    0.6550      2716\n",
      "           1     0.0937    0.7802    0.1673       182\n",
      "\n",
      "    accuracy                         0.5121      2898\n",
      "   macro avg     0.5324    0.6372    0.4111      2898\n",
      "weighted avg     0.9160    0.5121    0.6243      2898\n",
      "\n"
     ]
    }
   ],
   "source": [
    "nb = GaussianNB()\n",
    "start = time.time() # Measuring the processing time\n",
    "nb.fit(feat_train,np.argmax(y_train,axis=1))\n",
    "end = time.time()\n",
    "print(end - start) # Total \n",
    "\n",
    "print('fitting done !!!')\n",
    "Pred_labels = nb.predict(feat_test)\n",
    "print(classification_report(Pred_labels,np.argmax(y_test,axis =1), digits=4))"
   ]
  },
  {
   "cell_type": "code",
   "execution_count": 34,
   "metadata": {},
   "outputs": [
    {
     "name": "stdout",
     "output_type": "stream",
     "text": [
      "0.17690563201904297\n",
      "fitting done !!!\n",
      "              precision    recall  f1-score   support\n",
      "\n",
      "           0     0.0000    0.0000    0.0000         0\n",
      "           1     1.0000    0.5231    0.6869      2898\n",
      "\n",
      "    accuracy                         0.5231      2898\n",
      "   macro avg     0.5000    0.2616    0.3435      2898\n",
      "weighted avg     1.0000    0.5231    0.6869      2898\n",
      "\n"
     ]
    },
    {
     "name": "stderr",
     "output_type": "stream",
     "text": [
      "C:\\Users\\Eng Kadebu\\.conda\\envs\\images\\lib\\site-packages\\sklearn\\metrics\\_classification.py:1221: UndefinedMetricWarning: Recall and F-score are ill-defined and being set to 0.0 in labels with no true samples. Use `zero_division` parameter to control this behavior.\n",
      "  _warn_prf(average, modifier, msg_start, len(result))\n"
     ]
    }
   ],
   "source": [
    "et = ExtraTreesClassifier()\n",
    "start = time.time() # Measuring the processing time\n",
    "et.fit(feat_train,np.argmax(y_train,axis=1))\n",
    "end = time.time()\n",
    "print(end - start) # Total\n",
    "\n",
    "print('fitting done !!!')\n",
    "Pred_labels = et.predict(feat_test)\n",
    "print(classification_report(Pred_labels, np.argmax(y_test,axis =1), digits=4))"
   ]
  },
  {
   "cell_type": "code",
   "execution_count": 35,
   "metadata": {},
   "outputs": [
    {
     "data": {
      "image/png": "[encoded data removed]",
      "text/plain": [
       "<Figure size 864x864 with 2 Axes>"
      ]
     },
     "metadata": {
      "needs_background": "light"
     },
     "output_type": "display_data"
    }
   ],
   "source": [
    "plot_heatmap(confusion_matrix(Pred_labels, np.argmax(y_test,axis =1)),'ET')"
   ]
  },
  {
   "cell_type": "code",
   "execution_count": 36,
   "metadata": {},
   "outputs": [
    {
     "name": "stdout",
     "output_type": "stream",
     "text": [
      "0.03108382225036621\n",
      "fitting done !!!\n",
      "              precision    recall  f1-score   support\n",
      "\n",
      "           0     0.0000    0.0000    0.0000         0\n",
      "           1     1.0000    0.5231    0.6869      2898\n",
      "\n",
      "    accuracy                         0.5231      2898\n",
      "   macro avg     0.5000    0.2616    0.3435      2898\n",
      "weighted avg     1.0000    0.5231    0.6869      2898\n",
      "\n"
     ]
    },
    {
     "name": "stderr",
     "output_type": "stream",
     "text": [
      "C:\\Users\\Eng Kadebu\\.conda\\envs\\images\\lib\\site-packages\\sklearn\\metrics\\_classification.py:1221: UndefinedMetricWarning: Recall and F-score are ill-defined and being set to 0.0 in labels with no true samples. Use `zero_division` parameter to control this behavior.\n",
      "  _warn_prf(average, modifier, msg_start, len(result))\n"
     ]
    }
   ],
   "source": [
    "import lightgbm as lgb\n",
    "lg = lgb.LGBMClassifier(boosting_type='gbdt', class_weight=None, colsample_bytree=1.0,\n",
    "               importance_type='split', learning_rate=0.1, max_depth=-1,\n",
    "               min_child_samples=20, min_child_weight=0.001, min_split_gain=0.0,\n",
    "               n_estimators=100, n_jobs=-1, num_leaves=31, objective=None,\n",
    "               random_state=None, reg_alpha=0.0, reg_lambda=0.0, silent=True,\n",
    "               subsample=1.0, subsample_for_bin=200000, subsample_freq=0)\n",
    "start = time.time() # Measuring the processing time\n",
    "lg.fit(feat_train,np.argmax(y_train,axis=1))\n",
    "end = time.time()\n",
    "print(end - start) # Total\n",
    "\n",
    "print('fitting done !!!')\n",
    "Pred_labels = et.predict(feat_test)\n",
    "print(classification_report(Pred_labels, np.argmax(y_test,axis =1), digits=4))"
   ]
  },
  {
   "cell_type": "code",
   "execution_count": 37,
   "metadata": {},
   "outputs": [
    {
     "data": {
      "image/png": "[encoded data removed]",
      "text/plain": [
       "<Figure size 864x864 with 2 Axes>"
      ]
     },
     "metadata": {
      "needs_background": "light"
     },
     "output_type": "display_data"
    }
   ],
   "source": [
    "plot_heatmap(confusion_matrix(Pred_labels, np.argmax(y_test,axis =1)),'LGB')"
   ]
  },
  {
   "cell_type": "code",
   "execution_count": 38,
   "metadata": {},
   "outputs": [
    {
     "name": "stdout",
     "output_type": "stream",
     "text": [
      "Learning rate set to 0.029327\n",
      "0:\tlearn: 0.6927484\ttotal: 168ms\tremaining: 2m 47s\n",
      "1:\tlearn: 0.6923734\ttotal: 172ms\tremaining: 1m 25s\n",
      "2:\tlearn: 0.6920208\ttotal: 176ms\tremaining: 58.6s\n",
      "3:\tlearn: 0.6916893\ttotal: 181ms\tremaining: 45s\n",
      "4:\tlearn: 0.6913777\ttotal: 184ms\tremaining: 36.7s\n",
      "5:\tlearn: 0.6910847\ttotal: 187ms\tremaining: 31s\n",
      "6:\tlearn: 0.6908093\ttotal: 190ms\tremaining: 27s\n",
      "7:\tlearn: 0.6905503\ttotal: 193ms\tremaining: 24s\n",
      "8:\tlearn: 0.6903069\ttotal: 196ms\tremaining: 21.6s\n",
      "9:\tlearn: 0.6900781\ttotal: 200ms\tremaining: 19.8s\n",
      "10:\tlearn: 0.6898629\ttotal: 203ms\tremaining: 18.3s\n",
      "11:\tlearn: 0.6896607\ttotal: 207ms\tremaining: 17s\n",
      "12:\tlearn: 0.6894706\ttotal: 210ms\tremaining: 15.9s\n",
      "13:\tlearn: 0.6892918\ttotal: 213ms\tremaining: 15s\n",
      "14:\tlearn: 0.6891238\ttotal: 217ms\tremaining: 14.2s\n",
      "15:\tlearn: 0.6889658\ttotal: 220ms\tremaining: 13.5s\n",
      "16:\tlearn: 0.6888173\ttotal: 223ms\tremaining: 12.9s\n",
      "17:\tlearn: 0.6886777\ttotal: 226ms\tremaining: 12.4s\n",
      "18:\tlearn: 0.6885464\ttotal: 230ms\tremaining: 11.9s\n",
      "19:\tlearn: 0.6884230\ttotal: 233ms\tremaining: 11.4s\n",
      "20:\tlearn: 0.6883069\ttotal: 236ms\tremaining: 11s\n",
      "21:\tlearn: 0.6881978\ttotal: 239ms\tremaining: 10.6s\n",
      "22:\tlearn: 0.6880952\ttotal: 242ms\tremaining: 10.3s\n",
      "23:\tlearn: 0.6879987\ttotal: 245ms\tremaining: 9.97s\n",
      "24:\tlearn: 0.6879079\ttotal: 249ms\tremaining: 9.7s\n",
      "25:\tlearn: 0.6878226\ttotal: 252ms\tremaining: 9.43s\n",
      "26:\tlearn: 0.6877424\ttotal: 255ms\tremaining: 9.2s\n",
      "27:\tlearn: 0.6876669\ttotal: 258ms\tremaining: 8.97s\n",
      "28:\tlearn: 0.6875960\ttotal: 262ms\tremaining: 8.76s\n",
      "29:\tlearn: 0.6875292\ttotal: 264ms\tremaining: 8.55s\n",
      "30:\tlearn: 0.6874664\ttotal: 268ms\tremaining: 8.37s\n",
      "31:\tlearn: 0.6874074\ttotal: 271ms\tremaining: 8.19s\n",
      "32:\tlearn: 0.6873518\ttotal: 274ms\tremaining: 8.02s\n",
      "33:\tlearn: 0.6872996\ttotal: 277ms\tremaining: 7.87s\n",
      "34:\tlearn: 0.6872504\ttotal: 281ms\tremaining: 7.74s\n",
      "35:\tlearn: 0.6872042\ttotal: 285ms\tremaining: 7.64s\n",
      "36:\tlearn: 0.6871607\ttotal: 289ms\tremaining: 7.51s\n",
      "37:\tlearn: 0.6871198\ttotal: 293ms\tremaining: 7.41s\n",
      "38:\tlearn: 0.6870813\ttotal: 296ms\tremaining: 7.3s\n",
      "39:\tlearn: 0.6870451\ttotal: 300ms\tremaining: 7.2s\n",
      "40:\tlearn: 0.6870110\ttotal: 303ms\tremaining: 7.08s\n",
      "41:\tlearn: 0.6869790\ttotal: 306ms\tremaining: 6.98s\n",
      "42:\tlearn: 0.6869488\ttotal: 310ms\tremaining: 6.9s\n",
      "43:\tlearn: 0.6869204\ttotal: 314ms\tremaining: 6.83s\n",
      "44:\tlearn: 0.6868937\ttotal: 317ms\tremaining: 6.73s\n",
      "45:\tlearn: 0.6868686\ttotal: 321ms\tremaining: 6.65s\n",
      "46:\tlearn: 0.6868449\ttotal: 325ms\tremaining: 6.59s\n",
      "47:\tlearn: 0.6868226\ttotal: 329ms\tremaining: 6.52s\n",
      "48:\tlearn: 0.6868017\ttotal: 331ms\tremaining: 6.43s\n",
      "49:\tlearn: 0.6867820\ttotal: 335ms\tremaining: 6.36s\n",
      "50:\tlearn: 0.6867634\ttotal: 339ms\tremaining: 6.3s\n",
      "51:\tlearn: 0.6867460\ttotal: 343ms\tremaining: 6.26s\n",
      "52:\tlearn: 0.6867295\ttotal: 347ms\tremaining: 6.21s\n",
      "53:\tlearn: 0.6867141\ttotal: 352ms\tremaining: 6.16s\n",
      "54:\tlearn: 0.6866995\ttotal: 356ms\tremaining: 6.11s\n",
      "55:\tlearn: 0.6866858\ttotal: 360ms\tremaining: 6.06s\n",
      "56:\tlearn: 0.6866729\ttotal: 363ms\tremaining: 6s\n",
      "57:\tlearn: 0.6866607\ttotal: 367ms\tremaining: 5.95s\n",
      "58:\tlearn: 0.6866493\ttotal: 370ms\tremaining: 5.91s\n",
      "59:\tlearn: 0.6866385\ttotal: 374ms\tremaining: 5.86s\n",
      "60:\tlearn: 0.6866284\ttotal: 377ms\tremaining: 5.8s\n",
      "61:\tlearn: 0.6866189\ttotal: 381ms\tremaining: 5.76s\n",
      "62:\tlearn: 0.6866099\ttotal: 385ms\tremaining: 5.73s\n",
      "63:\tlearn: 0.6866014\ttotal: 389ms\tremaining: 5.69s\n",
      "64:\tlearn: 0.6865935\ttotal: 392ms\tremaining: 5.64s\n",
      "65:\tlearn: 0.6865860\ttotal: 396ms\tremaining: 5.6s\n",
      "66:\tlearn: 0.6865789\ttotal: 400ms\tremaining: 5.57s\n",
      "67:\tlearn: 0.6865723\ttotal: 404ms\tremaining: 5.54s\n",
      "68:\tlearn: 0.6865660\ttotal: 407ms\tremaining: 5.5s\n",
      "69:\tlearn: 0.6865601\ttotal: 411ms\tremaining: 5.46s\n",
      "70:\tlearn: 0.6865546\ttotal: 415ms\tremaining: 5.43s\n",
      "71:\tlearn: 0.6865494\ttotal: 418ms\tremaining: 5.39s\n",
      "72:\tlearn: 0.6865445\ttotal: 421ms\tremaining: 5.35s\n",
      "73:\tlearn: 0.6865398\ttotal: 424ms\tremaining: 5.31s\n",
      "74:\tlearn: 0.6865355\ttotal: 428ms\tremaining: 5.28s\n",
      "75:\tlearn: 0.6865314\ttotal: 432ms\tremaining: 5.25s\n",
      "76:\tlearn: 0.6865275\ttotal: 435ms\tremaining: 5.22s\n",
      "77:\tlearn: 0.6865239\ttotal: 439ms\tremaining: 5.19s\n",
      "78:\tlearn: 0.6865204\ttotal: 443ms\tremaining: 5.16s\n",
      "79:\tlearn: 0.6865172\ttotal: 446ms\tremaining: 5.13s\n",
      "80:\tlearn: 0.6865142\ttotal: 449ms\tremaining: 5.1s\n",
      "81:\tlearn: 0.6865113\ttotal: 452ms\tremaining: 5.06s\n",
      "82:\tlearn: 0.6865086\ttotal: 457ms\tremaining: 5.05s\n",
      "83:\tlearn: 0.6865061\ttotal: 461ms\tremaining: 5.02s\n",
      "84:\tlearn: 0.6865037\ttotal: 464ms\tremaining: 4.99s\n",
      "85:\tlearn: 0.6865014\ttotal: 466ms\tremaining: 4.96s\n",
      "86:\tlearn: 0.6864993\ttotal: 470ms\tremaining: 4.93s\n",
      "87:\tlearn: 0.6864973\ttotal: 474ms\tremaining: 4.91s\n",
      "88:\tlearn: 0.6864954\ttotal: 478ms\tremaining: 4.89s\n",
      "89:\tlearn: 0.6864936\ttotal: 481ms\tremaining: 4.86s\n",
      "90:\tlearn: 0.6864920\ttotal: 486ms\tremaining: 4.85s\n",
      "91:\tlearn: 0.6864904\ttotal: 490ms\tremaining: 4.83s\n",
      "92:\tlearn: 0.6864889\ttotal: 494ms\tremaining: 4.82s\n",
      "93:\tlearn: 0.6864875\ttotal: 499ms\tremaining: 4.81s\n",
      "94:\tlearn: 0.6864862\ttotal: 502ms\tremaining: 4.78s\n",
      "95:\tlearn: 0.6864850\ttotal: 505ms\tremaining: 4.75s\n",
      "96:\tlearn: 0.6864838\ttotal: 508ms\tremaining: 4.73s\n",
      "97:\tlearn: 0.6864827\ttotal: 512ms\tremaining: 4.71s\n",
      "98:\tlearn: 0.6864817\ttotal: 515ms\tremaining: 4.69s\n",
      "99:\tlearn: 0.6864807\ttotal: 519ms\tremaining: 4.67s\n",
      "100:\tlearn: 0.6864798\ttotal: 523ms\tremaining: 4.66s\n",
      "101:\tlearn: 0.6864789\ttotal: 526ms\tremaining: 4.63s\n",
      "102:\tlearn: 0.6864781\ttotal: 530ms\tremaining: 4.62s\n",
      "103:\tlearn: 0.6864773\ttotal: 533ms\tremaining: 4.59s\n",
      "104:\tlearn: 0.6864766\ttotal: 536ms\tremaining: 4.57s\n",
      "105:\tlearn: 0.6864759\ttotal: 539ms\tremaining: 4.54s\n",
      "106:\tlearn: 0.6864753\ttotal: 542ms\tremaining: 4.52s\n",
      "107:\tlearn: 0.6864747\ttotal: 545ms\tremaining: 4.5s\n",
      "108:\tlearn: 0.6864741\ttotal: 548ms\tremaining: 4.48s\n",
      "109:\tlearn: 0.6864736\ttotal: 551ms\tremaining: 4.45s\n",
      "110:\tlearn: 0.6864731\ttotal: 553ms\tremaining: 4.43s\n",
      "111:\tlearn: 0.6864726\ttotal: 556ms\tremaining: 4.41s\n",
      "112:\tlearn: 0.6864722\ttotal: 559ms\tremaining: 4.39s\n",
      "113:\tlearn: 0.6864717\ttotal: 562ms\tremaining: 4.37s\n",
      "114:\tlearn: 0.6864713\ttotal: 565ms\tremaining: 4.35s\n",
      "115:\tlearn: 0.6864710\ttotal: 567ms\tremaining: 4.32s\n",
      "116:\tlearn: 0.6864706\ttotal: 570ms\tremaining: 4.3s\n",
      "117:\tlearn: 0.6864703\ttotal: 573ms\tremaining: 4.28s\n",
      "118:\tlearn: 0.6864700\ttotal: 576ms\tremaining: 4.26s\n",
      "119:\tlearn: 0.6864697\ttotal: 579ms\tremaining: 4.25s\n",
      "120:\tlearn: 0.6864694\ttotal: 582ms\tremaining: 4.23s\n",
      "121:\tlearn: 0.6864691\ttotal: 585ms\tremaining: 4.21s\n",
      "122:\tlearn: 0.6864689\ttotal: 588ms\tremaining: 4.19s\n",
      "123:\tlearn: 0.6864687\ttotal: 591ms\tremaining: 4.17s\n",
      "124:\tlearn: 0.6864684\ttotal: 594ms\tremaining: 4.16s\n",
      "125:\tlearn: 0.6864682\ttotal: 596ms\tremaining: 4.13s\n",
      "126:\tlearn: 0.6864680\ttotal: 599ms\tremaining: 4.12s\n",
      "127:\tlearn: 0.6864678\ttotal: 602ms\tremaining: 4.1s\n",
      "128:\tlearn: 0.6864677\ttotal: 604ms\tremaining: 4.08s\n",
      "129:\tlearn: 0.6864675\ttotal: 607ms\tremaining: 4.06s\n",
      "130:\tlearn: 0.6864674\ttotal: 609ms\tremaining: 4.04s\n",
      "131:\tlearn: 0.6864673\ttotal: 612ms\tremaining: 4.03s\n",
      "132:\tlearn: 0.6864671\ttotal: 615ms\tremaining: 4.01s\n",
      "133:\tlearn: 0.6864670\ttotal: 618ms\tremaining: 3.99s\n",
      "134:\tlearn: 0.6864669\ttotal: 621ms\tremaining: 3.98s\n",
      "135:\tlearn: 0.6864668\ttotal: 623ms\tremaining: 3.96s\n",
      "136:\tlearn: 0.6864667\ttotal: 626ms\tremaining: 3.94s\n",
      "137:\tlearn: 0.6864666\ttotal: 628ms\tremaining: 3.92s\n",
      "138:\tlearn: 0.6864666\ttotal: 631ms\tremaining: 3.91s\n",
      "139:\tlearn: 0.6864666\ttotal: 633ms\tremaining: 3.89s\n",
      "140:\tlearn: 0.6864666\ttotal: 635ms\tremaining: 3.87s\n",
      "141:\tlearn: 0.6864666\ttotal: 638ms\tremaining: 3.85s\n",
      "142:\tlearn: 0.6864666\ttotal: 640ms\tremaining: 3.83s\n",
      "143:\tlearn: 0.6864666\ttotal: 642ms\tremaining: 3.82s\n",
      "144:\tlearn: 0.6864666\ttotal: 645ms\tremaining: 3.8s\n",
      "145:\tlearn: 0.6864666\ttotal: 647ms\tremaining: 3.78s\n",
      "146:\tlearn: 0.6864666\ttotal: 649ms\tremaining: 3.77s\n",
      "147:\tlearn: 0.6864666\ttotal: 652ms\tremaining: 3.75s\n",
      "148:\tlearn: 0.6864666\ttotal: 654ms\tremaining: 3.73s\n",
      "149:\tlearn: 0.6864666\ttotal: 656ms\tremaining: 3.72s\n",
      "150:\tlearn: 0.6864666\ttotal: 659ms\tremaining: 3.7s\n",
      "151:\tlearn: 0.6864666\ttotal: 661ms\tremaining: 3.69s\n",
      "152:\tlearn: 0.6864666\ttotal: 663ms\tremaining: 3.67s\n",
      "153:\tlearn: 0.6864666\ttotal: 666ms\tremaining: 3.66s\n",
      "154:\tlearn: 0.6864666\ttotal: 668ms\tremaining: 3.64s\n",
      "155:\tlearn: 0.6864666\ttotal: 671ms\tremaining: 3.63s\n",
      "156:\tlearn: 0.6864666\ttotal: 674ms\tremaining: 3.62s\n",
      "157:\tlearn: 0.6864666\ttotal: 677ms\tremaining: 3.61s\n",
      "158:\tlearn: 0.6864666\ttotal: 683ms\tremaining: 3.61s\n",
      "159:\tlearn: 0.6864666\ttotal: 686ms\tremaining: 3.6s\n",
      "160:\tlearn: 0.6864666\ttotal: 689ms\tremaining: 3.59s\n",
      "161:\tlearn: 0.6864666\ttotal: 692ms\tremaining: 3.58s\n",
      "162:\tlearn: 0.6864666\ttotal: 695ms\tremaining: 3.57s\n",
      "163:\tlearn: 0.6864666\ttotal: 698ms\tremaining: 3.56s\n",
      "164:\tlearn: 0.6864666\ttotal: 701ms\tremaining: 3.54s\n",
      "165:\tlearn: 0.6864666\ttotal: 704ms\tremaining: 3.54s\n",
      "166:\tlearn: 0.6864666\ttotal: 710ms\tremaining: 3.54s\n",
      "167:\tlearn: 0.6864666\ttotal: 721ms\tremaining: 3.57s\n",
      "168:\tlearn: 0.6864666\ttotal: 729ms\tremaining: 3.58s\n",
      "169:\tlearn: 0.6864666\ttotal: 744ms\tremaining: 3.63s\n",
      "170:\tlearn: 0.6864666\ttotal: 747ms\tremaining: 3.62s\n",
      "171:\tlearn: 0.6864666\ttotal: 754ms\tremaining: 3.63s\n",
      "172:\tlearn: 0.6864666\ttotal: 759ms\tremaining: 3.63s\n",
      "173:\tlearn: 0.6864666\ttotal: 762ms\tremaining: 3.62s\n",
      "174:\tlearn: 0.6864666\ttotal: 765ms\tremaining: 3.6s\n",
      "175:\tlearn: 0.6864666\ttotal: 767ms\tremaining: 3.59s\n",
      "176:\tlearn: 0.6864666\ttotal: 770ms\tremaining: 3.58s\n",
      "177:\tlearn: 0.6864666\ttotal: 775ms\tremaining: 3.58s\n",
      "178:\tlearn: 0.6864666\ttotal: 777ms\tremaining: 3.56s\n",
      "179:\tlearn: 0.6864666\ttotal: 780ms\tremaining: 3.55s\n",
      "180:\tlearn: 0.6864666\ttotal: 782ms\tremaining: 3.54s\n",
      "181:\tlearn: 0.6864666\ttotal: 784ms\tremaining: 3.52s\n",
      "182:\tlearn: 0.6864666\ttotal: 790ms\tremaining: 3.52s\n",
      "183:\tlearn: 0.6864666\ttotal: 792ms\tremaining: 3.51s\n",
      "184:\tlearn: 0.6864666\ttotal: 795ms\tremaining: 3.5s\n",
      "185:\tlearn: 0.6864666\ttotal: 797ms\tremaining: 3.49s\n",
      "186:\tlearn: 0.6864666\ttotal: 799ms\tremaining: 3.47s\n",
      "187:\tlearn: 0.6864666\ttotal: 806ms\tremaining: 3.48s\n",
      "188:\tlearn: 0.6864666\ttotal: 808ms\tremaining: 3.47s\n",
      "189:\tlearn: 0.6864666\ttotal: 811ms\tremaining: 3.46s\n",
      "190:\tlearn: 0.6864666\ttotal: 813ms\tremaining: 3.44s\n",
      "191:\tlearn: 0.6864666\ttotal: 816ms\tremaining: 3.43s\n",
      "192:\tlearn: 0.6864666\ttotal: 821ms\tremaining: 3.43s\n",
      "193:\tlearn: 0.6864666\ttotal: 824ms\tremaining: 3.42s\n",
      "194:\tlearn: 0.6864666\ttotal: 826ms\tremaining: 3.41s\n",
      "195:\tlearn: 0.6864666\ttotal: 828ms\tremaining: 3.4s\n"
     ]
    },
    {
     "name": "stdout",
     "output_type": "stream",
     "text": [
      "196:\tlearn: 0.6864666\ttotal: 834ms\tremaining: 3.4s\n",
      "197:\tlearn: 0.6864666\ttotal: 837ms\tremaining: 3.39s\n",
      "198:\tlearn: 0.6864666\ttotal: 840ms\tremaining: 3.38s\n",
      "199:\tlearn: 0.6864666\ttotal: 843ms\tremaining: 3.37s\n",
      "200:\tlearn: 0.6864666\ttotal: 847ms\tremaining: 3.37s\n",
      "201:\tlearn: 0.6864666\ttotal: 851ms\tremaining: 3.36s\n",
      "202:\tlearn: 0.6864666\ttotal: 853ms\tremaining: 3.35s\n",
      "203:\tlearn: 0.6864666\ttotal: 855ms\tremaining: 3.34s\n",
      "204:\tlearn: 0.6864666\ttotal: 858ms\tremaining: 3.33s\n",
      "205:\tlearn: 0.6864666\ttotal: 863ms\tremaining: 3.33s\n",
      "206:\tlearn: 0.6864666\ttotal: 866ms\tremaining: 3.32s\n",
      "207:\tlearn: 0.6864666\ttotal: 868ms\tremaining: 3.31s\n",
      "208:\tlearn: 0.6864666\ttotal: 870ms\tremaining: 3.29s\n",
      "209:\tlearn: 0.6864666\ttotal: 873ms\tremaining: 3.28s\n",
      "210:\tlearn: 0.6864666\ttotal: 878ms\tremaining: 3.28s\n",
      "211:\tlearn: 0.6864666\ttotal: 880ms\tremaining: 3.27s\n",
      "212:\tlearn: 0.6864666\ttotal: 883ms\tremaining: 3.26s\n",
      "213:\tlearn: 0.6864666\ttotal: 885ms\tremaining: 3.25s\n",
      "214:\tlearn: 0.6864666\ttotal: 888ms\tremaining: 3.24s\n",
      "215:\tlearn: 0.6864666\ttotal: 893ms\tremaining: 3.24s\n",
      "216:\tlearn: 0.6864666\ttotal: 896ms\tremaining: 3.23s\n",
      "217:\tlearn: 0.6864666\ttotal: 898ms\tremaining: 3.22s\n",
      "218:\tlearn: 0.6864666\ttotal: 901ms\tremaining: 3.21s\n",
      "219:\tlearn: 0.6864666\ttotal: 903ms\tremaining: 3.2s\n",
      "220:\tlearn: 0.6864666\ttotal: 909ms\tremaining: 3.2s\n",
      "221:\tlearn: 0.6864666\ttotal: 911ms\tremaining: 3.19s\n",
      "222:\tlearn: 0.6864666\ttotal: 914ms\tremaining: 3.18s\n",
      "223:\tlearn: 0.6864666\ttotal: 916ms\tremaining: 3.17s\n",
      "224:\tlearn: 0.6864666\ttotal: 918ms\tremaining: 3.16s\n",
      "225:\tlearn: 0.6864666\ttotal: 924ms\tremaining: 3.16s\n",
      "226:\tlearn: 0.6864666\ttotal: 926ms\tremaining: 3.15s\n",
      "227:\tlearn: 0.6864666\ttotal: 929ms\tremaining: 3.14s\n",
      "228:\tlearn: 0.6864666\ttotal: 931ms\tremaining: 3.13s\n",
      "229:\tlearn: 0.6864666\ttotal: 933ms\tremaining: 3.12s\n",
      "230:\tlearn: 0.6864666\ttotal: 939ms\tremaining: 3.13s\n",
      "231:\tlearn: 0.6864666\ttotal: 942ms\tremaining: 3.12s\n",
      "232:\tlearn: 0.6864666\ttotal: 944ms\tremaining: 3.11s\n",
      "233:\tlearn: 0.6864666\ttotal: 947ms\tremaining: 3.1s\n",
      "234:\tlearn: 0.6864666\ttotal: 950ms\tremaining: 3.09s\n",
      "235:\tlearn: 0.6864666\ttotal: 953ms\tremaining: 3.08s\n",
      "236:\tlearn: 0.6864666\ttotal: 955ms\tremaining: 3.08s\n",
      "237:\tlearn: 0.6864666\ttotal: 958ms\tremaining: 3.07s\n",
      "238:\tlearn: 0.6864666\ttotal: 960ms\tremaining: 3.06s\n",
      "239:\tlearn: 0.6864666\ttotal: 965ms\tremaining: 3.06s\n",
      "240:\tlearn: 0.6864666\ttotal: 968ms\tremaining: 3.05s\n",
      "241:\tlearn: 0.6864666\ttotal: 971ms\tremaining: 3.04s\n",
      "242:\tlearn: 0.6864666\ttotal: 973ms\tremaining: 3.03s\n",
      "243:\tlearn: 0.6864666\ttotal: 975ms\tremaining: 3.02s\n",
      "244:\tlearn: 0.6864666\ttotal: 980ms\tremaining: 3.02s\n",
      "245:\tlearn: 0.6864666\ttotal: 983ms\tremaining: 3.01s\n",
      "246:\tlearn: 0.6864666\ttotal: 985ms\tremaining: 3s\n",
      "247:\tlearn: 0.6864666\ttotal: 988ms\tremaining: 2.99s\n",
      "248:\tlearn: 0.6864666\ttotal: 990ms\tremaining: 2.98s\n",
      "249:\tlearn: 0.6864666\ttotal: 994ms\tremaining: 2.98s\n",
      "250:\tlearn: 0.6864666\ttotal: 998ms\tremaining: 2.98s\n",
      "251:\tlearn: 0.6864666\ttotal: 1s\tremaining: 2.97s\n",
      "252:\tlearn: 0.6864666\ttotal: 1s\tremaining: 2.96s\n",
      "253:\tlearn: 0.6864666\ttotal: 1s\tremaining: 2.95s\n",
      "254:\tlearn: 0.6864666\ttotal: 1.01s\tremaining: 2.95s\n",
      "255:\tlearn: 0.6864666\ttotal: 1.01s\tremaining: 2.94s\n",
      "256:\tlearn: 0.6864666\ttotal: 1.01s\tremaining: 2.94s\n",
      "257:\tlearn: 0.6864666\ttotal: 1.02s\tremaining: 2.93s\n",
      "258:\tlearn: 0.6864666\ttotal: 1.02s\tremaining: 2.92s\n",
      "259:\tlearn: 0.6864666\ttotal: 1.02s\tremaining: 2.91s\n",
      "260:\tlearn: 0.6864666\ttotal: 1.02s\tremaining: 2.9s\n",
      "261:\tlearn: 0.6864666\ttotal: 1.03s\tremaining: 2.9s\n",
      "262:\tlearn: 0.6864666\ttotal: 1.03s\tremaining: 2.89s\n",
      "263:\tlearn: 0.6864666\ttotal: 1.03s\tremaining: 2.88s\n",
      "264:\tlearn: 0.6864666\ttotal: 1.03s\tremaining: 2.87s\n",
      "265:\tlearn: 0.6864666\ttotal: 1.04s\tremaining: 2.86s\n",
      "266:\tlearn: 0.6864666\ttotal: 1.04s\tremaining: 2.85s\n",
      "267:\tlearn: 0.6864666\ttotal: 1.04s\tremaining: 2.85s\n",
      "268:\tlearn: 0.6864666\ttotal: 1.04s\tremaining: 2.84s\n",
      "269:\tlearn: 0.6864666\ttotal: 1.05s\tremaining: 2.83s\n",
      "270:\tlearn: 0.6864666\ttotal: 1.05s\tremaining: 2.82s\n",
      "271:\tlearn: 0.6864666\ttotal: 1.05s\tremaining: 2.81s\n",
      "272:\tlearn: 0.6864666\ttotal: 1.05s\tremaining: 2.81s\n",
      "273:\tlearn: 0.6864666\ttotal: 1.05s\tremaining: 2.8s\n",
      "274:\tlearn: 0.6864666\ttotal: 1.06s\tremaining: 2.79s\n",
      "275:\tlearn: 0.6864666\ttotal: 1.06s\tremaining: 2.78s\n",
      "276:\tlearn: 0.6864666\ttotal: 1.06s\tremaining: 2.77s\n",
      "277:\tlearn: 0.6864666\ttotal: 1.06s\tremaining: 2.77s\n",
      "278:\tlearn: 0.6864666\ttotal: 1.07s\tremaining: 2.76s\n",
      "279:\tlearn: 0.6864666\ttotal: 1.07s\tremaining: 2.75s\n",
      "280:\tlearn: 0.6864666\ttotal: 1.07s\tremaining: 2.74s\n",
      "281:\tlearn: 0.6864666\ttotal: 1.07s\tremaining: 2.73s\n",
      "282:\tlearn: 0.6864666\ttotal: 1.08s\tremaining: 2.73s\n",
      "283:\tlearn: 0.6864666\ttotal: 1.08s\tremaining: 2.72s\n",
      "284:\tlearn: 0.6864666\ttotal: 1.08s\tremaining: 2.71s\n",
      "285:\tlearn: 0.6864666\ttotal: 1.08s\tremaining: 2.7s\n",
      "286:\tlearn: 0.6864666\ttotal: 1.08s\tremaining: 2.69s\n",
      "287:\tlearn: 0.6864666\ttotal: 1.09s\tremaining: 2.69s\n",
      "288:\tlearn: 0.6864666\ttotal: 1.09s\tremaining: 2.68s\n",
      "289:\tlearn: 0.6864666\ttotal: 1.09s\tremaining: 2.67s\n",
      "290:\tlearn: 0.6864666\ttotal: 1.09s\tremaining: 2.67s\n",
      "291:\tlearn: 0.6864666\ttotal: 1.1s\tremaining: 2.66s\n",
      "292:\tlearn: 0.6864666\ttotal: 1.1s\tremaining: 2.65s\n",
      "293:\tlearn: 0.6864666\ttotal: 1.1s\tremaining: 2.64s\n",
      "294:\tlearn: 0.6864666\ttotal: 1.1s\tremaining: 2.64s\n",
      "295:\tlearn: 0.6864666\ttotal: 1.1s\tremaining: 2.63s\n",
      "296:\tlearn: 0.6864666\ttotal: 1.11s\tremaining: 2.62s\n",
      "297:\tlearn: 0.6864666\ttotal: 1.11s\tremaining: 2.61s\n",
      "298:\tlearn: 0.6864666\ttotal: 1.11s\tremaining: 2.61s\n",
      "299:\tlearn: 0.6864666\ttotal: 1.11s\tremaining: 2.6s\n",
      "300:\tlearn: 0.6864666\ttotal: 1.12s\tremaining: 2.59s\n",
      "301:\tlearn: 0.6864666\ttotal: 1.12s\tremaining: 2.59s\n",
      "302:\tlearn: 0.6864666\ttotal: 1.12s\tremaining: 2.58s\n",
      "303:\tlearn: 0.6864666\ttotal: 1.12s\tremaining: 2.57s\n",
      "304:\tlearn: 0.6864666\ttotal: 1.13s\tremaining: 2.56s\n",
      "305:\tlearn: 0.6864666\ttotal: 1.13s\tremaining: 2.56s\n",
      "306:\tlearn: 0.6864666\ttotal: 1.13s\tremaining: 2.55s\n",
      "307:\tlearn: 0.6864666\ttotal: 1.13s\tremaining: 2.54s\n",
      "308:\tlearn: 0.6864666\ttotal: 1.13s\tremaining: 2.54s\n",
      "309:\tlearn: 0.6864666\ttotal: 1.14s\tremaining: 2.53s\n",
      "310:\tlearn: 0.6864666\ttotal: 1.14s\tremaining: 2.52s\n",
      "311:\tlearn: 0.6864666\ttotal: 1.14s\tremaining: 2.52s\n",
      "312:\tlearn: 0.6864666\ttotal: 1.14s\tremaining: 2.51s\n",
      "313:\tlearn: 0.6864666\ttotal: 1.15s\tremaining: 2.5s\n",
      "314:\tlearn: 0.6864666\ttotal: 1.15s\tremaining: 2.5s\n",
      "315:\tlearn: 0.6864666\ttotal: 1.15s\tremaining: 2.49s\n",
      "316:\tlearn: 0.6864666\ttotal: 1.15s\tremaining: 2.48s\n",
      "317:\tlearn: 0.6864666\ttotal: 1.16s\tremaining: 2.48s\n",
      "318:\tlearn: 0.6864666\ttotal: 1.16s\tremaining: 2.47s\n",
      "319:\tlearn: 0.6864666\ttotal: 1.16s\tremaining: 2.46s\n",
      "320:\tlearn: 0.6864666\ttotal: 1.16s\tremaining: 2.46s\n",
      "321:\tlearn: 0.6864666\ttotal: 1.17s\tremaining: 2.45s\n",
      "322:\tlearn: 0.6864666\ttotal: 1.17s\tremaining: 2.45s\n",
      "323:\tlearn: 0.6864666\ttotal: 1.17s\tremaining: 2.45s\n",
      "324:\tlearn: 0.6864666\ttotal: 1.18s\tremaining: 2.44s\n",
      "325:\tlearn: 0.6864666\ttotal: 1.18s\tremaining: 2.44s\n",
      "326:\tlearn: 0.6864666\ttotal: 1.18s\tremaining: 2.43s\n",
      "327:\tlearn: 0.6864666\ttotal: 1.18s\tremaining: 2.42s\n",
      "328:\tlearn: 0.6864666\ttotal: 1.19s\tremaining: 2.42s\n",
      "329:\tlearn: 0.6864666\ttotal: 1.19s\tremaining: 2.41s\n",
      "330:\tlearn: 0.6864666\ttotal: 1.19s\tremaining: 2.41s\n",
      "331:\tlearn: 0.6864666\ttotal: 1.19s\tremaining: 2.4s\n",
      "332:\tlearn: 0.6864666\ttotal: 1.2s\tremaining: 2.39s\n",
      "333:\tlearn: 0.6864666\ttotal: 1.2s\tremaining: 2.39s\n",
      "334:\tlearn: 0.6864666\ttotal: 1.2s\tremaining: 2.38s\n",
      "335:\tlearn: 0.6864666\ttotal: 1.2s\tremaining: 2.38s\n",
      "336:\tlearn: 0.6864666\ttotal: 1.21s\tremaining: 2.37s\n",
      "337:\tlearn: 0.6864666\ttotal: 1.21s\tremaining: 2.36s\n",
      "338:\tlearn: 0.6864666\ttotal: 1.21s\tremaining: 2.36s\n",
      "339:\tlearn: 0.6864666\ttotal: 1.21s\tremaining: 2.35s\n",
      "340:\tlearn: 0.6864666\ttotal: 1.21s\tremaining: 2.35s\n",
      "341:\tlearn: 0.6864666\ttotal: 1.22s\tremaining: 2.34s\n",
      "342:\tlearn: 0.6864666\ttotal: 1.22s\tremaining: 2.33s\n",
      "343:\tlearn: 0.6864666\ttotal: 1.22s\tremaining: 2.33s\n",
      "344:\tlearn: 0.6864666\ttotal: 1.22s\tremaining: 2.32s\n",
      "345:\tlearn: 0.6864666\ttotal: 1.23s\tremaining: 2.32s\n",
      "346:\tlearn: 0.6864666\ttotal: 1.23s\tremaining: 2.31s\n",
      "347:\tlearn: 0.6864666\ttotal: 1.23s\tremaining: 2.3s\n",
      "348:\tlearn: 0.6864666\ttotal: 1.23s\tremaining: 2.3s\n",
      "349:\tlearn: 0.6864666\ttotal: 1.23s\tremaining: 2.29s\n",
      "350:\tlearn: 0.6864666\ttotal: 1.24s\tremaining: 2.29s\n",
      "351:\tlearn: 0.6864666\ttotal: 1.24s\tremaining: 2.28s\n",
      "352:\tlearn: 0.6864666\ttotal: 1.24s\tremaining: 2.27s\n",
      "353:\tlearn: 0.6864666\ttotal: 1.24s\tremaining: 2.27s\n",
      "354:\tlearn: 0.6864666\ttotal: 1.25s\tremaining: 2.26s\n",
      "355:\tlearn: 0.6864666\ttotal: 1.25s\tremaining: 2.26s\n",
      "356:\tlearn: 0.6864666\ttotal: 1.25s\tremaining: 2.25s\n",
      "357:\tlearn: 0.6864666\ttotal: 1.25s\tremaining: 2.25s\n",
      "358:\tlearn: 0.6864666\ttotal: 1.25s\tremaining: 2.24s\n",
      "359:\tlearn: 0.6864666\ttotal: 1.26s\tremaining: 2.23s\n",
      "360:\tlearn: 0.6864666\ttotal: 1.26s\tremaining: 2.23s\n",
      "361:\tlearn: 0.6864666\ttotal: 1.26s\tremaining: 2.22s\n",
      "362:\tlearn: 0.6864666\ttotal: 1.26s\tremaining: 2.22s\n",
      "363:\tlearn: 0.6864666\ttotal: 1.27s\tremaining: 2.21s\n",
      "364:\tlearn: 0.6864666\ttotal: 1.27s\tremaining: 2.21s\n",
      "365:\tlearn: 0.6864666\ttotal: 1.27s\tremaining: 2.2s\n",
      "366:\tlearn: 0.6864666\ttotal: 1.27s\tremaining: 2.19s\n",
      "367:\tlearn: 0.6864666\ttotal: 1.27s\tremaining: 2.19s\n",
      "368:\tlearn: 0.6864666\ttotal: 1.28s\tremaining: 2.18s\n",
      "369:\tlearn: 0.6864666\ttotal: 1.28s\tremaining: 2.18s\n",
      "370:\tlearn: 0.6864666\ttotal: 1.28s\tremaining: 2.17s\n",
      "371:\tlearn: 0.6864666\ttotal: 1.28s\tremaining: 2.17s\n",
      "372:\tlearn: 0.6864666\ttotal: 1.29s\tremaining: 2.16s\n",
      "373:\tlearn: 0.6864666\ttotal: 1.29s\tremaining: 2.16s\n",
      "374:\tlearn: 0.6864666\ttotal: 1.29s\tremaining: 2.15s\n",
      "375:\tlearn: 0.6864666\ttotal: 1.29s\tremaining: 2.15s\n",
      "376:\tlearn: 0.6864666\ttotal: 1.29s\tremaining: 2.14s\n",
      "377:\tlearn: 0.6864666\ttotal: 1.3s\tremaining: 2.13s\n",
      "378:\tlearn: 0.6864666\ttotal: 1.3s\tremaining: 2.13s\n",
      "379:\tlearn: 0.6864666\ttotal: 1.3s\tremaining: 2.13s\n",
      "380:\tlearn: 0.6864666\ttotal: 1.3s\tremaining: 2.12s\n",
      "381:\tlearn: 0.6864666\ttotal: 1.31s\tremaining: 2.11s\n",
      "382:\tlearn: 0.6864666\ttotal: 1.31s\tremaining: 2.11s\n",
      "383:\tlearn: 0.6864666\ttotal: 1.31s\tremaining: 2.1s\n",
      "384:\tlearn: 0.6864666\ttotal: 1.31s\tremaining: 2.1s\n",
      "385:\tlearn: 0.6864666\ttotal: 1.32s\tremaining: 2.09s\n",
      "386:\tlearn: 0.6864666\ttotal: 1.32s\tremaining: 2.09s\n",
      "387:\tlearn: 0.6864666\ttotal: 1.32s\tremaining: 2.08s\n",
      "388:\tlearn: 0.6864666\ttotal: 1.32s\tremaining: 2.08s\n",
      "389:\tlearn: 0.6864666\ttotal: 1.32s\tremaining: 2.07s\n",
      "390:\tlearn: 0.6864666\ttotal: 1.33s\tremaining: 2.07s\n",
      "391:\tlearn: 0.6864666\ttotal: 1.33s\tremaining: 2.06s\n",
      "392:\tlearn: 0.6864666\ttotal: 1.33s\tremaining: 2.06s\n",
      "393:\tlearn: 0.6864666\ttotal: 1.33s\tremaining: 2.05s\n",
      "394:\tlearn: 0.6864666\ttotal: 1.34s\tremaining: 2.05s\n"
     ]
    },
    {
     "name": "stdout",
     "output_type": "stream",
     "text": [
      "395:\tlearn: 0.6864666\ttotal: 1.34s\tremaining: 2.04s\n",
      "396:\tlearn: 0.6864666\ttotal: 1.34s\tremaining: 2.04s\n",
      "397:\tlearn: 0.6864666\ttotal: 1.34s\tremaining: 2.04s\n",
      "398:\tlearn: 0.6864666\ttotal: 1.35s\tremaining: 2.03s\n",
      "399:\tlearn: 0.6864666\ttotal: 1.35s\tremaining: 2.03s\n",
      "400:\tlearn: 0.6864666\ttotal: 1.35s\tremaining: 2.02s\n",
      "401:\tlearn: 0.6864666\ttotal: 1.36s\tremaining: 2.02s\n",
      "402:\tlearn: 0.6864666\ttotal: 1.36s\tremaining: 2.01s\n",
      "403:\tlearn: 0.6864666\ttotal: 1.36s\tremaining: 2.01s\n",
      "404:\tlearn: 0.6864666\ttotal: 1.36s\tremaining: 2s\n",
      "405:\tlearn: 0.6864666\ttotal: 1.36s\tremaining: 2s\n",
      "406:\tlearn: 0.6864666\ttotal: 1.37s\tremaining: 1.99s\n",
      "407:\tlearn: 0.6864666\ttotal: 1.37s\tremaining: 1.99s\n",
      "408:\tlearn: 0.6864666\ttotal: 1.37s\tremaining: 1.98s\n",
      "409:\tlearn: 0.6864666\ttotal: 1.38s\tremaining: 1.98s\n",
      "410:\tlearn: 0.6864666\ttotal: 1.38s\tremaining: 1.97s\n",
      "411:\tlearn: 0.6864666\ttotal: 1.38s\tremaining: 1.97s\n",
      "412:\tlearn: 0.6864666\ttotal: 1.38s\tremaining: 1.96s\n",
      "413:\tlearn: 0.6864666\ttotal: 1.38s\tremaining: 1.96s\n",
      "414:\tlearn: 0.6864666\ttotal: 1.39s\tremaining: 1.95s\n",
      "415:\tlearn: 0.6864666\ttotal: 1.39s\tremaining: 1.95s\n",
      "416:\tlearn: 0.6864666\ttotal: 1.39s\tremaining: 1.95s\n",
      "417:\tlearn: 0.6864666\ttotal: 1.39s\tremaining: 1.94s\n",
      "418:\tlearn: 0.6864666\ttotal: 1.4s\tremaining: 1.94s\n",
      "419:\tlearn: 0.6864666\ttotal: 1.4s\tremaining: 1.93s\n",
      "420:\tlearn: 0.6864666\ttotal: 1.4s\tremaining: 1.93s\n",
      "421:\tlearn: 0.6864666\ttotal: 1.4s\tremaining: 1.92s\n",
      "422:\tlearn: 0.6864666\ttotal: 1.4s\tremaining: 1.92s\n",
      "423:\tlearn: 0.6864666\ttotal: 1.41s\tremaining: 1.91s\n",
      "424:\tlearn: 0.6864666\ttotal: 1.41s\tremaining: 1.91s\n",
      "425:\tlearn: 0.6864666\ttotal: 1.41s\tremaining: 1.9s\n",
      "426:\tlearn: 0.6864666\ttotal: 1.41s\tremaining: 1.9s\n",
      "427:\tlearn: 0.6864666\ttotal: 1.42s\tremaining: 1.89s\n",
      "428:\tlearn: 0.6864666\ttotal: 1.42s\tremaining: 1.89s\n",
      "429:\tlearn: 0.6864666\ttotal: 1.42s\tremaining: 1.88s\n",
      "430:\tlearn: 0.6864666\ttotal: 1.42s\tremaining: 1.88s\n",
      "431:\tlearn: 0.6864666\ttotal: 1.42s\tremaining: 1.87s\n",
      "432:\tlearn: 0.6864666\ttotal: 1.43s\tremaining: 1.87s\n",
      "433:\tlearn: 0.6864666\ttotal: 1.43s\tremaining: 1.86s\n",
      "434:\tlearn: 0.6864666\ttotal: 1.43s\tremaining: 1.86s\n",
      "435:\tlearn: 0.6864666\ttotal: 1.43s\tremaining: 1.85s\n",
      "436:\tlearn: 0.6864666\ttotal: 1.44s\tremaining: 1.85s\n",
      "437:\tlearn: 0.6864666\ttotal: 1.44s\tremaining: 1.84s\n",
      "438:\tlearn: 0.6864666\ttotal: 1.44s\tremaining: 1.84s\n",
      "439:\tlearn: 0.6864666\ttotal: 1.44s\tremaining: 1.84s\n",
      "440:\tlearn: 0.6864666\ttotal: 1.45s\tremaining: 1.83s\n",
      "441:\tlearn: 0.6864666\ttotal: 1.45s\tremaining: 1.83s\n",
      "442:\tlearn: 0.6864666\ttotal: 1.45s\tremaining: 1.82s\n",
      "443:\tlearn: 0.6864666\ttotal: 1.45s\tremaining: 1.82s\n",
      "444:\tlearn: 0.6864666\ttotal: 1.45s\tremaining: 1.81s\n",
      "445:\tlearn: 0.6864666\ttotal: 1.46s\tremaining: 1.81s\n",
      "446:\tlearn: 0.6864666\ttotal: 1.46s\tremaining: 1.8s\n",
      "447:\tlearn: 0.6864666\ttotal: 1.46s\tremaining: 1.8s\n",
      "448:\tlearn: 0.6864666\ttotal: 1.46s\tremaining: 1.8s\n",
      "449:\tlearn: 0.6864666\ttotal: 1.47s\tremaining: 1.79s\n",
      "450:\tlearn: 0.6864666\ttotal: 1.47s\tremaining: 1.79s\n",
      "451:\tlearn: 0.6864666\ttotal: 1.47s\tremaining: 1.78s\n",
      "452:\tlearn: 0.6864666\ttotal: 1.47s\tremaining: 1.78s\n",
      "453:\tlearn: 0.6864666\ttotal: 1.48s\tremaining: 1.77s\n",
      "454:\tlearn: 0.6864666\ttotal: 1.48s\tremaining: 1.77s\n",
      "455:\tlearn: 0.6864666\ttotal: 1.48s\tremaining: 1.76s\n",
      "456:\tlearn: 0.6864666\ttotal: 1.48s\tremaining: 1.76s\n",
      "457:\tlearn: 0.6864666\ttotal: 1.48s\tremaining: 1.76s\n",
      "458:\tlearn: 0.6864666\ttotal: 1.49s\tremaining: 1.75s\n",
      "459:\tlearn: 0.6864666\ttotal: 1.49s\tremaining: 1.75s\n",
      "460:\tlearn: 0.6864666\ttotal: 1.49s\tremaining: 1.74s\n",
      "461:\tlearn: 0.6864666\ttotal: 1.49s\tremaining: 1.74s\n",
      "462:\tlearn: 0.6864666\ttotal: 1.5s\tremaining: 1.73s\n",
      "463:\tlearn: 0.6864666\ttotal: 1.5s\tremaining: 1.73s\n",
      "464:\tlearn: 0.6864666\ttotal: 1.5s\tremaining: 1.73s\n",
      "465:\tlearn: 0.6864666\ttotal: 1.5s\tremaining: 1.72s\n",
      "466:\tlearn: 0.6864666\ttotal: 1.5s\tremaining: 1.72s\n",
      "467:\tlearn: 0.6864666\ttotal: 1.51s\tremaining: 1.71s\n",
      "468:\tlearn: 0.6864666\ttotal: 1.51s\tremaining: 1.71s\n",
      "469:\tlearn: 0.6864666\ttotal: 1.51s\tremaining: 1.71s\n",
      "470:\tlearn: 0.6864666\ttotal: 1.51s\tremaining: 1.7s\n",
      "471:\tlearn: 0.6864666\ttotal: 1.52s\tremaining: 1.7s\n",
      "472:\tlearn: 0.6864666\ttotal: 1.52s\tremaining: 1.69s\n",
      "473:\tlearn: 0.6864666\ttotal: 1.52s\tremaining: 1.69s\n",
      "474:\tlearn: 0.6864666\ttotal: 1.52s\tremaining: 1.69s\n",
      "475:\tlearn: 0.6864666\ttotal: 1.53s\tremaining: 1.68s\n",
      "476:\tlearn: 0.6864666\ttotal: 1.53s\tremaining: 1.68s\n",
      "477:\tlearn: 0.6864666\ttotal: 1.53s\tremaining: 1.67s\n",
      "478:\tlearn: 0.6864666\ttotal: 1.53s\tremaining: 1.67s\n",
      "479:\tlearn: 0.6864666\ttotal: 1.54s\tremaining: 1.67s\n",
      "480:\tlearn: 0.6864666\ttotal: 1.54s\tremaining: 1.66s\n",
      "481:\tlearn: 0.6864666\ttotal: 1.54s\tremaining: 1.66s\n",
      "482:\tlearn: 0.6864666\ttotal: 1.54s\tremaining: 1.65s\n",
      "483:\tlearn: 0.6864666\ttotal: 1.55s\tremaining: 1.65s\n",
      "484:\tlearn: 0.6864666\ttotal: 1.55s\tremaining: 1.64s\n",
      "485:\tlearn: 0.6864666\ttotal: 1.55s\tremaining: 1.64s\n",
      "486:\tlearn: 0.6864666\ttotal: 1.55s\tremaining: 1.64s\n",
      "487:\tlearn: 0.6864666\ttotal: 1.56s\tremaining: 1.63s\n",
      "488:\tlearn: 0.6864666\ttotal: 1.56s\tremaining: 1.63s\n",
      "489:\tlearn: 0.6864666\ttotal: 1.56s\tremaining: 1.62s\n",
      "490:\tlearn: 0.6864666\ttotal: 1.56s\tremaining: 1.62s\n",
      "491:\tlearn: 0.6864666\ttotal: 1.56s\tremaining: 1.62s\n",
      "492:\tlearn: 0.6864666\ttotal: 1.57s\tremaining: 1.61s\n",
      "493:\tlearn: 0.6864666\ttotal: 1.57s\tremaining: 1.61s\n",
      "494:\tlearn: 0.6864666\ttotal: 1.57s\tremaining: 1.6s\n",
      "495:\tlearn: 0.6864666\ttotal: 1.57s\tremaining: 1.6s\n",
      "496:\tlearn: 0.6864666\ttotal: 1.58s\tremaining: 1.59s\n",
      "497:\tlearn: 0.6864666\ttotal: 1.58s\tremaining: 1.59s\n",
      "498:\tlearn: 0.6864666\ttotal: 1.58s\tremaining: 1.59s\n",
      "499:\tlearn: 0.6864666\ttotal: 1.58s\tremaining: 1.58s\n",
      "500:\tlearn: 0.6864666\ttotal: 1.59s\tremaining: 1.58s\n",
      "501:\tlearn: 0.6864666\ttotal: 1.59s\tremaining: 1.57s\n",
      "502:\tlearn: 0.6864666\ttotal: 1.59s\tremaining: 1.57s\n",
      "503:\tlearn: 0.6864666\ttotal: 1.59s\tremaining: 1.57s\n",
      "504:\tlearn: 0.6864666\ttotal: 1.59s\tremaining: 1.56s\n",
      "505:\tlearn: 0.6864666\ttotal: 1.6s\tremaining: 1.56s\n",
      "506:\tlearn: 0.6864666\ttotal: 1.6s\tremaining: 1.55s\n",
      "507:\tlearn: 0.6864666\ttotal: 1.6s\tremaining: 1.55s\n",
      "508:\tlearn: 0.6864666\ttotal: 1.6s\tremaining: 1.55s\n",
      "509:\tlearn: 0.6864666\ttotal: 1.61s\tremaining: 1.54s\n",
      "510:\tlearn: 0.6864666\ttotal: 1.61s\tremaining: 1.54s\n",
      "511:\tlearn: 0.6864666\ttotal: 1.61s\tremaining: 1.53s\n",
      "512:\tlearn: 0.6864666\ttotal: 1.61s\tremaining: 1.53s\n",
      "513:\tlearn: 0.6864666\ttotal: 1.61s\tremaining: 1.53s\n",
      "514:\tlearn: 0.6864666\ttotal: 1.62s\tremaining: 1.52s\n",
      "515:\tlearn: 0.6864666\ttotal: 1.62s\tremaining: 1.52s\n",
      "516:\tlearn: 0.6864666\ttotal: 1.62s\tremaining: 1.51s\n",
      "517:\tlearn: 0.6864666\ttotal: 1.62s\tremaining: 1.51s\n",
      "518:\tlearn: 0.6864666\ttotal: 1.63s\tremaining: 1.51s\n",
      "519:\tlearn: 0.6864666\ttotal: 1.63s\tremaining: 1.5s\n",
      "520:\tlearn: 0.6864666\ttotal: 1.63s\tremaining: 1.5s\n",
      "521:\tlearn: 0.6864666\ttotal: 1.63s\tremaining: 1.5s\n",
      "522:\tlearn: 0.6864666\ttotal: 1.64s\tremaining: 1.49s\n",
      "523:\tlearn: 0.6864666\ttotal: 1.64s\tremaining: 1.49s\n",
      "524:\tlearn: 0.6864666\ttotal: 1.64s\tremaining: 1.48s\n",
      "525:\tlearn: 0.6864666\ttotal: 1.64s\tremaining: 1.48s\n",
      "526:\tlearn: 0.6864666\ttotal: 1.65s\tremaining: 1.48s\n",
      "527:\tlearn: 0.6864666\ttotal: 1.65s\tremaining: 1.47s\n",
      "528:\tlearn: 0.6864666\ttotal: 1.65s\tremaining: 1.47s\n",
      "529:\tlearn: 0.6864666\ttotal: 1.65s\tremaining: 1.47s\n",
      "530:\tlearn: 0.6864666\ttotal: 1.65s\tremaining: 1.46s\n",
      "531:\tlearn: 0.6864666\ttotal: 1.66s\tremaining: 1.46s\n",
      "532:\tlearn: 0.6864666\ttotal: 1.66s\tremaining: 1.45s\n",
      "533:\tlearn: 0.6864666\ttotal: 1.66s\tremaining: 1.45s\n",
      "534:\tlearn: 0.6864666\ttotal: 1.66s\tremaining: 1.45s\n",
      "535:\tlearn: 0.6864666\ttotal: 1.67s\tremaining: 1.44s\n",
      "536:\tlearn: 0.6864666\ttotal: 1.67s\tremaining: 1.44s\n",
      "537:\tlearn: 0.6864666\ttotal: 1.67s\tremaining: 1.43s\n",
      "538:\tlearn: 0.6864666\ttotal: 1.67s\tremaining: 1.43s\n",
      "539:\tlearn: 0.6864666\ttotal: 1.68s\tremaining: 1.43s\n",
      "540:\tlearn: 0.6864666\ttotal: 1.68s\tremaining: 1.42s\n",
      "541:\tlearn: 0.6864666\ttotal: 1.68s\tremaining: 1.42s\n",
      "542:\tlearn: 0.6864666\ttotal: 1.69s\tremaining: 1.42s\n",
      "543:\tlearn: 0.6864666\ttotal: 1.69s\tremaining: 1.41s\n",
      "544:\tlearn: 0.6864666\ttotal: 1.69s\tremaining: 1.41s\n",
      "545:\tlearn: 0.6864666\ttotal: 1.69s\tremaining: 1.41s\n",
      "546:\tlearn: 0.6864666\ttotal: 1.7s\tremaining: 1.4s\n",
      "547:\tlearn: 0.6864666\ttotal: 1.7s\tremaining: 1.4s\n",
      "548:\tlearn: 0.6864666\ttotal: 1.7s\tremaining: 1.4s\n",
      "549:\tlearn: 0.6864666\ttotal: 1.7s\tremaining: 1.39s\n",
      "550:\tlearn: 0.6864666\ttotal: 1.71s\tremaining: 1.39s\n",
      "551:\tlearn: 0.6864666\ttotal: 1.71s\tremaining: 1.39s\n",
      "552:\tlearn: 0.6864666\ttotal: 1.71s\tremaining: 1.38s\n",
      "553:\tlearn: 0.6864666\ttotal: 1.71s\tremaining: 1.38s\n",
      "554:\tlearn: 0.6864666\ttotal: 1.71s\tremaining: 1.37s\n",
      "555:\tlearn: 0.6864666\ttotal: 1.72s\tremaining: 1.37s\n",
      "556:\tlearn: 0.6864666\ttotal: 1.72s\tremaining: 1.37s\n",
      "557:\tlearn: 0.6864666\ttotal: 1.72s\tremaining: 1.36s\n",
      "558:\tlearn: 0.6864666\ttotal: 1.72s\tremaining: 1.36s\n",
      "559:\tlearn: 0.6864666\ttotal: 1.73s\tremaining: 1.36s\n",
      "560:\tlearn: 0.6864666\ttotal: 1.73s\tremaining: 1.35s\n",
      "561:\tlearn: 0.6864666\ttotal: 1.73s\tremaining: 1.35s\n",
      "562:\tlearn: 0.6864666\ttotal: 1.73s\tremaining: 1.34s\n",
      "563:\tlearn: 0.6864666\ttotal: 1.74s\tremaining: 1.34s\n",
      "564:\tlearn: 0.6864666\ttotal: 1.74s\tremaining: 1.34s\n",
      "565:\tlearn: 0.6864666\ttotal: 1.74s\tremaining: 1.33s\n",
      "566:\tlearn: 0.6864666\ttotal: 1.74s\tremaining: 1.33s\n",
      "567:\tlearn: 0.6864666\ttotal: 1.75s\tremaining: 1.33s\n",
      "568:\tlearn: 0.6864666\ttotal: 1.75s\tremaining: 1.32s\n",
      "569:\tlearn: 0.6864666\ttotal: 1.75s\tremaining: 1.32s\n",
      "570:\tlearn: 0.6864666\ttotal: 1.75s\tremaining: 1.32s\n",
      "571:\tlearn: 0.6864666\ttotal: 1.76s\tremaining: 1.31s\n",
      "572:\tlearn: 0.6864666\ttotal: 1.76s\tremaining: 1.31s\n",
      "573:\tlearn: 0.6864666\ttotal: 1.76s\tremaining: 1.31s\n",
      "574:\tlearn: 0.6864666\ttotal: 1.77s\tremaining: 1.31s\n",
      "575:\tlearn: 0.6864666\ttotal: 1.77s\tremaining: 1.3s\n",
      "576:\tlearn: 0.6864666\ttotal: 1.77s\tremaining: 1.3s\n",
      "577:\tlearn: 0.6864666\ttotal: 1.78s\tremaining: 1.3s\n",
      "578:\tlearn: 0.6864666\ttotal: 1.78s\tremaining: 1.29s\n",
      "579:\tlearn: 0.6864666\ttotal: 1.78s\tremaining: 1.29s\n",
      "580:\tlearn: 0.6864666\ttotal: 1.78s\tremaining: 1.29s\n",
      "581:\tlearn: 0.6864666\ttotal: 1.79s\tremaining: 1.28s\n",
      "582:\tlearn: 0.6864666\ttotal: 1.79s\tremaining: 1.28s\n",
      "583:\tlearn: 0.6864666\ttotal: 1.79s\tremaining: 1.28s\n",
      "584:\tlearn: 0.6864666\ttotal: 1.8s\tremaining: 1.27s\n",
      "585:\tlearn: 0.6864666\ttotal: 1.8s\tremaining: 1.27s\n",
      "586:\tlearn: 0.6864666\ttotal: 1.8s\tremaining: 1.27s\n",
      "587:\tlearn: 0.6864666\ttotal: 1.8s\tremaining: 1.26s\n",
      "588:\tlearn: 0.6864666\ttotal: 1.81s\tremaining: 1.26s\n",
      "589:\tlearn: 0.6864666\ttotal: 1.81s\tremaining: 1.26s\n",
      "590:\tlearn: 0.6864666\ttotal: 1.81s\tremaining: 1.25s\n",
      "591:\tlearn: 0.6864666\ttotal: 1.82s\tremaining: 1.25s\n",
      "592:\tlearn: 0.6864666\ttotal: 1.82s\tremaining: 1.25s\n",
      "593:\tlearn: 0.6864666\ttotal: 1.82s\tremaining: 1.25s\n",
      "594:\tlearn: 0.6864666\ttotal: 1.83s\tremaining: 1.24s\n",
      "595:\tlearn: 0.6864666\ttotal: 1.83s\tremaining: 1.24s\n",
      "596:\tlearn: 0.6864666\ttotal: 1.83s\tremaining: 1.24s\n",
      "597:\tlearn: 0.6864666\ttotal: 1.84s\tremaining: 1.23s\n"
     ]
    },
    {
     "name": "stdout",
     "output_type": "stream",
     "text": [
      "598:\tlearn: 0.6864666\ttotal: 1.84s\tremaining: 1.23s\n",
      "599:\tlearn: 0.6864666\ttotal: 1.84s\tremaining: 1.23s\n",
      "600:\tlearn: 0.6864666\ttotal: 1.84s\tremaining: 1.23s\n",
      "601:\tlearn: 0.6864666\ttotal: 1.85s\tremaining: 1.22s\n",
      "602:\tlearn: 0.6864666\ttotal: 1.85s\tremaining: 1.22s\n",
      "603:\tlearn: 0.6864666\ttotal: 1.85s\tremaining: 1.22s\n",
      "604:\tlearn: 0.6864666\ttotal: 1.86s\tremaining: 1.21s\n",
      "605:\tlearn: 0.6864666\ttotal: 1.86s\tremaining: 1.21s\n",
      "606:\tlearn: 0.6864666\ttotal: 1.86s\tremaining: 1.21s\n",
      "607:\tlearn: 0.6864666\ttotal: 1.87s\tremaining: 1.2s\n",
      "608:\tlearn: 0.6864666\ttotal: 1.87s\tremaining: 1.2s\n",
      "609:\tlearn: 0.6864666\ttotal: 1.87s\tremaining: 1.2s\n",
      "610:\tlearn: 0.6864666\ttotal: 1.88s\tremaining: 1.19s\n",
      "611:\tlearn: 0.6864666\ttotal: 1.88s\tremaining: 1.19s\n",
      "612:\tlearn: 0.6864666\ttotal: 1.88s\tremaining: 1.19s\n",
      "613:\tlearn: 0.6864666\ttotal: 1.88s\tremaining: 1.18s\n",
      "614:\tlearn: 0.6864666\ttotal: 1.89s\tremaining: 1.18s\n",
      "615:\tlearn: 0.6864666\ttotal: 1.89s\tremaining: 1.18s\n",
      "616:\tlearn: 0.6864666\ttotal: 1.89s\tremaining: 1.18s\n",
      "617:\tlearn: 0.6864666\ttotal: 1.9s\tremaining: 1.17s\n",
      "618:\tlearn: 0.6864666\ttotal: 1.9s\tremaining: 1.17s\n",
      "619:\tlearn: 0.6864666\ttotal: 1.9s\tremaining: 1.17s\n",
      "620:\tlearn: 0.6864666\ttotal: 1.91s\tremaining: 1.16s\n",
      "621:\tlearn: 0.6864666\ttotal: 1.91s\tremaining: 1.16s\n",
      "622:\tlearn: 0.6864666\ttotal: 1.91s\tremaining: 1.16s\n",
      "623:\tlearn: 0.6864666\ttotal: 1.91s\tremaining: 1.15s\n",
      "624:\tlearn: 0.6864666\ttotal: 1.92s\tremaining: 1.15s\n",
      "625:\tlearn: 0.6864666\ttotal: 1.92s\tremaining: 1.15s\n",
      "626:\tlearn: 0.6864666\ttotal: 1.92s\tremaining: 1.14s\n",
      "627:\tlearn: 0.6864666\ttotal: 1.93s\tremaining: 1.14s\n",
      "628:\tlearn: 0.6864666\ttotal: 1.93s\tremaining: 1.14s\n",
      "629:\tlearn: 0.6864666\ttotal: 1.93s\tremaining: 1.13s\n",
      "630:\tlearn: 0.6864666\ttotal: 1.94s\tremaining: 1.13s\n",
      "631:\tlearn: 0.6864666\ttotal: 1.94s\tremaining: 1.13s\n",
      "632:\tlearn: 0.6864666\ttotal: 1.94s\tremaining: 1.13s\n",
      "633:\tlearn: 0.6864666\ttotal: 1.94s\tremaining: 1.12s\n",
      "634:\tlearn: 0.6864666\ttotal: 1.95s\tremaining: 1.12s\n",
      "635:\tlearn: 0.6864666\ttotal: 1.95s\tremaining: 1.11s\n",
      "636:\tlearn: 0.6864666\ttotal: 1.95s\tremaining: 1.11s\n",
      "637:\tlearn: 0.6864666\ttotal: 1.96s\tremaining: 1.11s\n",
      "638:\tlearn: 0.6864666\ttotal: 1.96s\tremaining: 1.11s\n",
      "639:\tlearn: 0.6864666\ttotal: 1.96s\tremaining: 1.1s\n",
      "640:\tlearn: 0.6864666\ttotal: 1.96s\tremaining: 1.1s\n",
      "641:\tlearn: 0.6864666\ttotal: 1.97s\tremaining: 1.1s\n",
      "642:\tlearn: 0.6864666\ttotal: 1.97s\tremaining: 1.09s\n",
      "643:\tlearn: 0.6864666\ttotal: 1.97s\tremaining: 1.09s\n",
      "644:\tlearn: 0.6864666\ttotal: 1.97s\tremaining: 1.08s\n",
      "645:\tlearn: 0.6864666\ttotal: 1.97s\tremaining: 1.08s\n",
      "646:\tlearn: 0.6864666\ttotal: 1.98s\tremaining: 1.08s\n",
      "647:\tlearn: 0.6864666\ttotal: 1.98s\tremaining: 1.07s\n",
      "648:\tlearn: 0.6864666\ttotal: 1.98s\tremaining: 1.07s\n",
      "649:\tlearn: 0.6864666\ttotal: 1.98s\tremaining: 1.07s\n",
      "650:\tlearn: 0.6864666\ttotal: 1.99s\tremaining: 1.06s\n",
      "651:\tlearn: 0.6864666\ttotal: 1.99s\tremaining: 1.06s\n",
      "652:\tlearn: 0.6864666\ttotal: 1.99s\tremaining: 1.06s\n",
      "653:\tlearn: 0.6864666\ttotal: 1.99s\tremaining: 1.05s\n",
      "654:\tlearn: 0.6864666\ttotal: 2s\tremaining: 1.05s\n",
      "655:\tlearn: 0.6864666\ttotal: 2s\tremaining: 1.05s\n",
      "656:\tlearn: 0.6864666\ttotal: 2s\tremaining: 1.04s\n",
      "657:\tlearn: 0.6864666\ttotal: 2s\tremaining: 1.04s\n",
      "658:\tlearn: 0.6864666\ttotal: 2s\tremaining: 1.04s\n",
      "659:\tlearn: 0.6864666\ttotal: 2.01s\tremaining: 1.03s\n",
      "660:\tlearn: 0.6864666\ttotal: 2.01s\tremaining: 1.03s\n",
      "661:\tlearn: 0.6864666\ttotal: 2.01s\tremaining: 1.03s\n",
      "662:\tlearn: 0.6864666\ttotal: 2.02s\tremaining: 1.02s\n",
      "663:\tlearn: 0.6864666\ttotal: 2.02s\tremaining: 1.02s\n",
      "664:\tlearn: 0.6864666\ttotal: 2.02s\tremaining: 1.02s\n",
      "665:\tlearn: 0.6864666\ttotal: 2.02s\tremaining: 1.01s\n",
      "666:\tlearn: 0.6864666\ttotal: 2.03s\tremaining: 1.01s\n",
      "667:\tlearn: 0.6864666\ttotal: 2.03s\tremaining: 1.01s\n",
      "668:\tlearn: 0.6864666\ttotal: 2.03s\tremaining: 1s\n",
      "669:\tlearn: 0.6864666\ttotal: 2.03s\tremaining: 1s\n",
      "670:\tlearn: 0.6864666\ttotal: 2.04s\tremaining: 998ms\n",
      "671:\tlearn: 0.6864666\ttotal: 2.04s\tremaining: 995ms\n",
      "672:\tlearn: 0.6864666\ttotal: 2.04s\tremaining: 991ms\n",
      "673:\tlearn: 0.6864666\ttotal: 2.04s\tremaining: 988ms\n",
      "674:\tlearn: 0.6864666\ttotal: 2.04s\tremaining: 984ms\n",
      "675:\tlearn: 0.6864666\ttotal: 2.05s\tremaining: 981ms\n",
      "676:\tlearn: 0.6864666\ttotal: 2.05s\tremaining: 978ms\n",
      "677:\tlearn: 0.6864666\ttotal: 2.05s\tremaining: 974ms\n",
      "678:\tlearn: 0.6864666\ttotal: 2.05s\tremaining: 971ms\n",
      "679:\tlearn: 0.6864666\ttotal: 2.06s\tremaining: 968ms\n",
      "680:\tlearn: 0.6864666\ttotal: 2.06s\tremaining: 964ms\n",
      "681:\tlearn: 0.6864666\ttotal: 2.06s\tremaining: 961ms\n",
      "682:\tlearn: 0.6864666\ttotal: 2.06s\tremaining: 958ms\n",
      "683:\tlearn: 0.6864666\ttotal: 2.07s\tremaining: 955ms\n",
      "684:\tlearn: 0.6864666\ttotal: 2.07s\tremaining: 951ms\n",
      "685:\tlearn: 0.6864666\ttotal: 2.07s\tremaining: 948ms\n",
      "686:\tlearn: 0.6864666\ttotal: 2.07s\tremaining: 945ms\n",
      "687:\tlearn: 0.6864666\ttotal: 2.08s\tremaining: 941ms\n",
      "688:\tlearn: 0.6864666\ttotal: 2.08s\tremaining: 938ms\n",
      "689:\tlearn: 0.6864666\ttotal: 2.08s\tremaining: 935ms\n",
      "690:\tlearn: 0.6864666\ttotal: 2.08s\tremaining: 931ms\n",
      "691:\tlearn: 0.6864666\ttotal: 2.08s\tremaining: 928ms\n",
      "692:\tlearn: 0.6864666\ttotal: 2.09s\tremaining: 925ms\n",
      "693:\tlearn: 0.6864666\ttotal: 2.09s\tremaining: 921ms\n",
      "694:\tlearn: 0.6864666\ttotal: 2.09s\tremaining: 918ms\n",
      "695:\tlearn: 0.6864666\ttotal: 2.09s\tremaining: 915ms\n",
      "696:\tlearn: 0.6864666\ttotal: 2.1s\tremaining: 911ms\n",
      "697:\tlearn: 0.6864666\ttotal: 2.1s\tremaining: 908ms\n",
      "698:\tlearn: 0.6864666\ttotal: 2.1s\tremaining: 905ms\n",
      "699:\tlearn: 0.6864666\ttotal: 2.1s\tremaining: 901ms\n",
      "700:\tlearn: 0.6864666\ttotal: 2.1s\tremaining: 898ms\n",
      "701:\tlearn: 0.6864666\ttotal: 2.11s\tremaining: 895ms\n",
      "702:\tlearn: 0.6864666\ttotal: 2.11s\tremaining: 891ms\n",
      "703:\tlearn: 0.6864666\ttotal: 2.11s\tremaining: 888ms\n",
      "704:\tlearn: 0.6864666\ttotal: 2.11s\tremaining: 885ms\n",
      "705:\tlearn: 0.6864666\ttotal: 2.12s\tremaining: 882ms\n",
      "706:\tlearn: 0.6864666\ttotal: 2.12s\tremaining: 878ms\n",
      "707:\tlearn: 0.6864666\ttotal: 2.12s\tremaining: 875ms\n",
      "708:\tlearn: 0.6864666\ttotal: 2.12s\tremaining: 872ms\n",
      "709:\tlearn: 0.6864666\ttotal: 2.13s\tremaining: 869ms\n",
      "710:\tlearn: 0.6864666\ttotal: 2.13s\tremaining: 865ms\n",
      "711:\tlearn: 0.6864666\ttotal: 2.13s\tremaining: 862ms\n",
      "712:\tlearn: 0.6864666\ttotal: 2.13s\tremaining: 859ms\n",
      "713:\tlearn: 0.6864666\ttotal: 2.13s\tremaining: 855ms\n",
      "714:\tlearn: 0.6864666\ttotal: 2.14s\tremaining: 852ms\n",
      "715:\tlearn: 0.6864666\ttotal: 2.14s\tremaining: 849ms\n",
      "716:\tlearn: 0.6864666\ttotal: 2.14s\tremaining: 846ms\n",
      "717:\tlearn: 0.6864666\ttotal: 2.14s\tremaining: 842ms\n",
      "718:\tlearn: 0.6864666\ttotal: 2.15s\tremaining: 839ms\n",
      "719:\tlearn: 0.6864666\ttotal: 2.15s\tremaining: 836ms\n",
      "720:\tlearn: 0.6864666\ttotal: 2.15s\tremaining: 833ms\n",
      "721:\tlearn: 0.6864666\ttotal: 2.15s\tremaining: 829ms\n",
      "722:\tlearn: 0.6864666\ttotal: 2.16s\tremaining: 826ms\n",
      "723:\tlearn: 0.6864666\ttotal: 2.16s\tremaining: 823ms\n",
      "724:\tlearn: 0.6864666\ttotal: 2.16s\tremaining: 820ms\n",
      "725:\tlearn: 0.6864666\ttotal: 2.16s\tremaining: 816ms\n",
      "726:\tlearn: 0.6864666\ttotal: 2.17s\tremaining: 813ms\n",
      "727:\tlearn: 0.6864666\ttotal: 2.17s\tremaining: 810ms\n",
      "728:\tlearn: 0.6864666\ttotal: 2.17s\tremaining: 807ms\n",
      "729:\tlearn: 0.6864666\ttotal: 2.17s\tremaining: 803ms\n",
      "730:\tlearn: 0.6864666\ttotal: 2.17s\tremaining: 800ms\n",
      "731:\tlearn: 0.6864666\ttotal: 2.18s\tremaining: 797ms\n",
      "732:\tlearn: 0.6864666\ttotal: 2.18s\tremaining: 794ms\n",
      "733:\tlearn: 0.6864666\ttotal: 2.18s\tremaining: 791ms\n",
      "734:\tlearn: 0.6864666\ttotal: 2.19s\tremaining: 788ms\n",
      "735:\tlearn: 0.6864666\ttotal: 2.19s\tremaining: 785ms\n",
      "736:\tlearn: 0.6864666\ttotal: 2.19s\tremaining: 782ms\n",
      "737:\tlearn: 0.6864666\ttotal: 2.19s\tremaining: 779ms\n",
      "738:\tlearn: 0.6864666\ttotal: 2.19s\tremaining: 775ms\n",
      "739:\tlearn: 0.6864666\ttotal: 2.2s\tremaining: 772ms\n",
      "740:\tlearn: 0.6864666\ttotal: 2.2s\tremaining: 769ms\n",
      "741:\tlearn: 0.6864666\ttotal: 2.2s\tremaining: 766ms\n",
      "742:\tlearn: 0.6864666\ttotal: 2.21s\tremaining: 763ms\n",
      "743:\tlearn: 0.6864666\ttotal: 2.21s\tremaining: 760ms\n",
      "744:\tlearn: 0.6864666\ttotal: 2.21s\tremaining: 756ms\n",
      "745:\tlearn: 0.6864666\ttotal: 2.21s\tremaining: 753ms\n",
      "746:\tlearn: 0.6864666\ttotal: 2.21s\tremaining: 750ms\n",
      "747:\tlearn: 0.6864666\ttotal: 2.22s\tremaining: 747ms\n",
      "748:\tlearn: 0.6864666\ttotal: 2.22s\tremaining: 744ms\n",
      "749:\tlearn: 0.6864666\ttotal: 2.22s\tremaining: 740ms\n",
      "750:\tlearn: 0.6864666\ttotal: 2.22s\tremaining: 737ms\n",
      "751:\tlearn: 0.6864666\ttotal: 2.23s\tremaining: 734ms\n",
      "752:\tlearn: 0.6864666\ttotal: 2.23s\tremaining: 731ms\n",
      "753:\tlearn: 0.6864666\ttotal: 2.23s\tremaining: 728ms\n",
      "754:\tlearn: 0.6864666\ttotal: 2.23s\tremaining: 724ms\n",
      "755:\tlearn: 0.6864666\ttotal: 2.23s\tremaining: 721ms\n",
      "756:\tlearn: 0.6864666\ttotal: 2.24s\tremaining: 718ms\n",
      "757:\tlearn: 0.6864666\ttotal: 2.24s\tremaining: 715ms\n",
      "758:\tlearn: 0.6864666\ttotal: 2.24s\tremaining: 712ms\n",
      "759:\tlearn: 0.6864666\ttotal: 2.24s\tremaining: 709ms\n",
      "760:\tlearn: 0.6864666\ttotal: 2.25s\tremaining: 705ms\n",
      "761:\tlearn: 0.6864666\ttotal: 2.25s\tremaining: 702ms\n",
      "762:\tlearn: 0.6864666\ttotal: 2.25s\tremaining: 699ms\n",
      "763:\tlearn: 0.6864666\ttotal: 2.25s\tremaining: 696ms\n",
      "764:\tlearn: 0.6864666\ttotal: 2.25s\tremaining: 693ms\n",
      "765:\tlearn: 0.6864666\ttotal: 2.26s\tremaining: 690ms\n",
      "766:\tlearn: 0.6864666\ttotal: 2.26s\tremaining: 687ms\n",
      "767:\tlearn: 0.6864666\ttotal: 2.26s\tremaining: 683ms\n",
      "768:\tlearn: 0.6864666\ttotal: 2.26s\tremaining: 680ms\n",
      "769:\tlearn: 0.6864666\ttotal: 2.27s\tremaining: 677ms\n",
      "770:\tlearn: 0.6864666\ttotal: 2.27s\tremaining: 674ms\n",
      "771:\tlearn: 0.6864666\ttotal: 2.27s\tremaining: 671ms\n",
      "772:\tlearn: 0.6864666\ttotal: 2.27s\tremaining: 668ms\n",
      "773:\tlearn: 0.6864666\ttotal: 2.28s\tremaining: 665ms\n",
      "774:\tlearn: 0.6864666\ttotal: 2.28s\tremaining: 662ms\n",
      "775:\tlearn: 0.6864666\ttotal: 2.28s\tremaining: 658ms\n",
      "776:\tlearn: 0.6864666\ttotal: 2.28s\tremaining: 655ms\n",
      "777:\tlearn: 0.6864666\ttotal: 2.29s\tremaining: 652ms\n",
      "778:\tlearn: 0.6864666\ttotal: 2.29s\tremaining: 649ms\n",
      "779:\tlearn: 0.6864666\ttotal: 2.29s\tremaining: 646ms\n",
      "780:\tlearn: 0.6864666\ttotal: 2.29s\tremaining: 643ms\n",
      "781:\tlearn: 0.6864666\ttotal: 2.29s\tremaining: 640ms\n",
      "782:\tlearn: 0.6864666\ttotal: 2.3s\tremaining: 637ms\n",
      "783:\tlearn: 0.6864666\ttotal: 2.3s\tremaining: 634ms\n",
      "784:\tlearn: 0.6864666\ttotal: 2.3s\tremaining: 630ms\n",
      "785:\tlearn: 0.6864666\ttotal: 2.3s\tremaining: 627ms\n",
      "786:\tlearn: 0.6864666\ttotal: 2.31s\tremaining: 624ms\n",
      "787:\tlearn: 0.6864666\ttotal: 2.31s\tremaining: 621ms\n",
      "788:\tlearn: 0.6864666\ttotal: 2.31s\tremaining: 618ms\n",
      "789:\tlearn: 0.6864666\ttotal: 2.31s\tremaining: 615ms\n",
      "790:\tlearn: 0.6864666\ttotal: 2.31s\tremaining: 612ms\n",
      "791:\tlearn: 0.6864666\ttotal: 2.32s\tremaining: 609ms\n",
      "792:\tlearn: 0.6864666\ttotal: 2.32s\tremaining: 606ms\n",
      "793:\tlearn: 0.6864666\ttotal: 2.32s\tremaining: 602ms\n",
      "794:\tlearn: 0.6864666\ttotal: 2.32s\tremaining: 599ms\n",
      "795:\tlearn: 0.6864666\ttotal: 2.33s\tremaining: 596ms\n",
      "796:\tlearn: 0.6864666\ttotal: 2.33s\tremaining: 593ms\n",
      "797:\tlearn: 0.6864666\ttotal: 2.33s\tremaining: 590ms\n",
      "798:\tlearn: 0.6864666\ttotal: 2.33s\tremaining: 587ms\n",
      "799:\tlearn: 0.6864666\ttotal: 2.33s\tremaining: 584ms\n",
      "800:\tlearn: 0.6864666\ttotal: 2.34s\tremaining: 581ms\n",
      "801:\tlearn: 0.6864666\ttotal: 2.34s\tremaining: 578ms\n",
      "802:\tlearn: 0.6864666\ttotal: 2.34s\tremaining: 575ms\n"
     ]
    },
    {
     "name": "stdout",
     "output_type": "stream",
     "text": [
      "803:\tlearn: 0.6864666\ttotal: 2.35s\tremaining: 572ms\n",
      "804:\tlearn: 0.6864666\ttotal: 2.35s\tremaining: 569ms\n",
      "805:\tlearn: 0.6864666\ttotal: 2.35s\tremaining: 566ms\n",
      "806:\tlearn: 0.6864666\ttotal: 2.35s\tremaining: 563ms\n",
      "807:\tlearn: 0.6864666\ttotal: 2.36s\tremaining: 560ms\n",
      "808:\tlearn: 0.6864666\ttotal: 2.36s\tremaining: 557ms\n",
      "809:\tlearn: 0.6864666\ttotal: 2.36s\tremaining: 554ms\n",
      "810:\tlearn: 0.6864666\ttotal: 2.36s\tremaining: 551ms\n",
      "811:\tlearn: 0.6864666\ttotal: 2.37s\tremaining: 548ms\n",
      "812:\tlearn: 0.6864666\ttotal: 2.37s\tremaining: 545ms\n",
      "813:\tlearn: 0.6864666\ttotal: 2.37s\tremaining: 542ms\n",
      "814:\tlearn: 0.6864666\ttotal: 2.37s\tremaining: 539ms\n",
      "815:\tlearn: 0.6864666\ttotal: 2.38s\tremaining: 536ms\n",
      "816:\tlearn: 0.6864666\ttotal: 2.38s\tremaining: 533ms\n",
      "817:\tlearn: 0.6864666\ttotal: 2.38s\tremaining: 530ms\n",
      "818:\tlearn: 0.6864666\ttotal: 2.38s\tremaining: 527ms\n",
      "819:\tlearn: 0.6864666\ttotal: 2.38s\tremaining: 524ms\n",
      "820:\tlearn: 0.6864666\ttotal: 2.39s\tremaining: 520ms\n",
      "821:\tlearn: 0.6864666\ttotal: 2.39s\tremaining: 517ms\n",
      "822:\tlearn: 0.6864666\ttotal: 2.39s\tremaining: 514ms\n",
      "823:\tlearn: 0.6864666\ttotal: 2.39s\tremaining: 511ms\n",
      "824:\tlearn: 0.6864666\ttotal: 2.4s\tremaining: 508ms\n",
      "825:\tlearn: 0.6864666\ttotal: 2.4s\tremaining: 505ms\n",
      "826:\tlearn: 0.6864666\ttotal: 2.4s\tremaining: 502ms\n",
      "827:\tlearn: 0.6864666\ttotal: 2.4s\tremaining: 499ms\n",
      "828:\tlearn: 0.6864666\ttotal: 2.4s\tremaining: 496ms\n",
      "829:\tlearn: 0.6864666\ttotal: 2.41s\tremaining: 493ms\n",
      "830:\tlearn: 0.6864666\ttotal: 2.41s\tremaining: 490ms\n",
      "831:\tlearn: 0.6864666\ttotal: 2.41s\tremaining: 487ms\n",
      "832:\tlearn: 0.6864666\ttotal: 2.41s\tremaining: 484ms\n",
      "833:\tlearn: 0.6864666\ttotal: 2.42s\tremaining: 481ms\n",
      "834:\tlearn: 0.6864666\ttotal: 2.42s\tremaining: 478ms\n",
      "835:\tlearn: 0.6864666\ttotal: 2.42s\tremaining: 475ms\n",
      "836:\tlearn: 0.6864666\ttotal: 2.42s\tremaining: 472ms\n",
      "837:\tlearn: 0.6864666\ttotal: 2.43s\tremaining: 469ms\n",
      "838:\tlearn: 0.6864666\ttotal: 2.43s\tremaining: 466ms\n",
      "839:\tlearn: 0.6864666\ttotal: 2.43s\tremaining: 463ms\n",
      "840:\tlearn: 0.6864666\ttotal: 2.43s\tremaining: 460ms\n",
      "841:\tlearn: 0.6864666\ttotal: 2.44s\tremaining: 457ms\n",
      "842:\tlearn: 0.6864666\ttotal: 2.44s\tremaining: 454ms\n",
      "843:\tlearn: 0.6864666\ttotal: 2.44s\tremaining: 451ms\n",
      "844:\tlearn: 0.6864666\ttotal: 2.44s\tremaining: 448ms\n",
      "845:\tlearn: 0.6864666\ttotal: 2.44s\tremaining: 445ms\n",
      "846:\tlearn: 0.6864666\ttotal: 2.45s\tremaining: 442ms\n",
      "847:\tlearn: 0.6864666\ttotal: 2.45s\tremaining: 439ms\n",
      "848:\tlearn: 0.6864666\ttotal: 2.45s\tremaining: 436ms\n",
      "849:\tlearn: 0.6864666\ttotal: 2.45s\tremaining: 433ms\n",
      "850:\tlearn: 0.6864666\ttotal: 2.46s\tremaining: 430ms\n",
      "851:\tlearn: 0.6864666\ttotal: 2.46s\tremaining: 427ms\n",
      "852:\tlearn: 0.6864666\ttotal: 2.46s\tremaining: 424ms\n",
      "853:\tlearn: 0.6864666\ttotal: 2.46s\tremaining: 421ms\n",
      "854:\tlearn: 0.6864666\ttotal: 2.46s\tremaining: 418ms\n",
      "855:\tlearn: 0.6864666\ttotal: 2.47s\tremaining: 415ms\n",
      "856:\tlearn: 0.6864666\ttotal: 2.47s\tremaining: 412ms\n",
      "857:\tlearn: 0.6864666\ttotal: 2.47s\tremaining: 409ms\n",
      "858:\tlearn: 0.6864666\ttotal: 2.47s\tremaining: 406ms\n",
      "859:\tlearn: 0.6864666\ttotal: 2.48s\tremaining: 403ms\n",
      "860:\tlearn: 0.6864666\ttotal: 2.48s\tremaining: 400ms\n",
      "861:\tlearn: 0.6864666\ttotal: 2.48s\tremaining: 397ms\n",
      "862:\tlearn: 0.6864666\ttotal: 2.48s\tremaining: 394ms\n",
      "863:\tlearn: 0.6864666\ttotal: 2.49s\tremaining: 391ms\n",
      "864:\tlearn: 0.6864666\ttotal: 2.49s\tremaining: 388ms\n",
      "865:\tlearn: 0.6864666\ttotal: 2.49s\tremaining: 385ms\n",
      "866:\tlearn: 0.6864666\ttotal: 2.49s\tremaining: 382ms\n",
      "867:\tlearn: 0.6864666\ttotal: 2.5s\tremaining: 379ms\n",
      "868:\tlearn: 0.6864666\ttotal: 2.5s\tremaining: 376ms\n",
      "869:\tlearn: 0.6864666\ttotal: 2.5s\tremaining: 373ms\n",
      "870:\tlearn: 0.6864666\ttotal: 2.5s\tremaining: 371ms\n",
      "871:\tlearn: 0.6864666\ttotal: 2.5s\tremaining: 368ms\n",
      "872:\tlearn: 0.6864666\ttotal: 2.51s\tremaining: 365ms\n",
      "873:\tlearn: 0.6864666\ttotal: 2.51s\tremaining: 362ms\n",
      "874:\tlearn: 0.6864666\ttotal: 2.51s\tremaining: 359ms\n",
      "875:\tlearn: 0.6864666\ttotal: 2.51s\tremaining: 356ms\n",
      "876:\tlearn: 0.6864666\ttotal: 2.52s\tremaining: 353ms\n",
      "877:\tlearn: 0.6864666\ttotal: 2.52s\tremaining: 350ms\n",
      "878:\tlearn: 0.6864666\ttotal: 2.52s\tremaining: 347ms\n",
      "879:\tlearn: 0.6864666\ttotal: 2.52s\tremaining: 344ms\n",
      "880:\tlearn: 0.6864666\ttotal: 2.53s\tremaining: 341ms\n",
      "881:\tlearn: 0.6864666\ttotal: 2.53s\tremaining: 338ms\n",
      "882:\tlearn: 0.6864666\ttotal: 2.53s\tremaining: 335ms\n",
      "883:\tlearn: 0.6864666\ttotal: 2.53s\tremaining: 333ms\n",
      "884:\tlearn: 0.6864666\ttotal: 2.54s\tremaining: 330ms\n",
      "885:\tlearn: 0.6864666\ttotal: 2.54s\tremaining: 327ms\n",
      "886:\tlearn: 0.6864666\ttotal: 2.54s\tremaining: 324ms\n",
      "887:\tlearn: 0.6864666\ttotal: 2.54s\tremaining: 321ms\n",
      "888:\tlearn: 0.6864666\ttotal: 2.54s\tremaining: 318ms\n",
      "889:\tlearn: 0.6864666\ttotal: 2.55s\tremaining: 315ms\n",
      "890:\tlearn: 0.6864666\ttotal: 2.55s\tremaining: 312ms\n",
      "891:\tlearn: 0.6864666\ttotal: 2.55s\tremaining: 309ms\n",
      "892:\tlearn: 0.6864666\ttotal: 2.56s\tremaining: 306ms\n",
      "893:\tlearn: 0.6864666\ttotal: 2.56s\tremaining: 303ms\n",
      "894:\tlearn: 0.6864666\ttotal: 2.56s\tremaining: 300ms\n",
      "895:\tlearn: 0.6864666\ttotal: 2.56s\tremaining: 298ms\n",
      "896:\tlearn: 0.6864666\ttotal: 2.57s\tremaining: 295ms\n",
      "897:\tlearn: 0.6864666\ttotal: 2.57s\tremaining: 292ms\n",
      "898:\tlearn: 0.6864666\ttotal: 2.57s\tremaining: 289ms\n",
      "899:\tlearn: 0.6864666\ttotal: 2.57s\tremaining: 286ms\n",
      "900:\tlearn: 0.6864666\ttotal: 2.58s\tremaining: 283ms\n",
      "901:\tlearn: 0.6864666\ttotal: 2.58s\tremaining: 280ms\n",
      "902:\tlearn: 0.6864666\ttotal: 2.58s\tremaining: 278ms\n",
      "903:\tlearn: 0.6864666\ttotal: 2.59s\tremaining: 275ms\n",
      "904:\tlearn: 0.6864666\ttotal: 2.59s\tremaining: 272ms\n",
      "905:\tlearn: 0.6864666\ttotal: 2.59s\tremaining: 269ms\n",
      "906:\tlearn: 0.6864666\ttotal: 2.6s\tremaining: 266ms\n",
      "907:\tlearn: 0.6864666\ttotal: 2.6s\tremaining: 263ms\n",
      "908:\tlearn: 0.6864666\ttotal: 2.6s\tremaining: 261ms\n",
      "909:\tlearn: 0.6864666\ttotal: 2.6s\tremaining: 258ms\n",
      "910:\tlearn: 0.6864666\ttotal: 2.61s\tremaining: 255ms\n",
      "911:\tlearn: 0.6864666\ttotal: 2.61s\tremaining: 252ms\n",
      "912:\tlearn: 0.6864666\ttotal: 2.61s\tremaining: 249ms\n",
      "913:\tlearn: 0.6864666\ttotal: 2.62s\tremaining: 246ms\n",
      "914:\tlearn: 0.6864666\ttotal: 2.62s\tremaining: 243ms\n",
      "915:\tlearn: 0.6864666\ttotal: 2.62s\tremaining: 241ms\n",
      "916:\tlearn: 0.6864666\ttotal: 2.63s\tremaining: 238ms\n",
      "917:\tlearn: 0.6864666\ttotal: 2.63s\tremaining: 235ms\n",
      "918:\tlearn: 0.6864666\ttotal: 2.63s\tremaining: 232ms\n",
      "919:\tlearn: 0.6864666\ttotal: 2.63s\tremaining: 229ms\n",
      "920:\tlearn: 0.6864666\ttotal: 2.64s\tremaining: 226ms\n",
      "921:\tlearn: 0.6864666\ttotal: 2.64s\tremaining: 223ms\n",
      "922:\tlearn: 0.6864666\ttotal: 2.64s\tremaining: 221ms\n",
      "923:\tlearn: 0.6864666\ttotal: 2.65s\tremaining: 218ms\n",
      "924:\tlearn: 0.6864666\ttotal: 2.65s\tremaining: 215ms\n",
      "925:\tlearn: 0.6864666\ttotal: 2.65s\tremaining: 212ms\n",
      "926:\tlearn: 0.6864666\ttotal: 2.66s\tremaining: 209ms\n",
      "927:\tlearn: 0.6864666\ttotal: 2.66s\tremaining: 206ms\n",
      "928:\tlearn: 0.6864666\ttotal: 2.66s\tremaining: 203ms\n",
      "929:\tlearn: 0.6864666\ttotal: 2.66s\tremaining: 201ms\n",
      "930:\tlearn: 0.6864666\ttotal: 2.67s\tremaining: 198ms\n",
      "931:\tlearn: 0.6864666\ttotal: 2.67s\tremaining: 195ms\n",
      "932:\tlearn: 0.6864666\ttotal: 2.67s\tremaining: 192ms\n",
      "933:\tlearn: 0.6864666\ttotal: 2.68s\tremaining: 189ms\n",
      "934:\tlearn: 0.6864666\ttotal: 2.68s\tremaining: 186ms\n",
      "935:\tlearn: 0.6864666\ttotal: 2.68s\tremaining: 183ms\n",
      "936:\tlearn: 0.6864666\ttotal: 2.69s\tremaining: 181ms\n",
      "937:\tlearn: 0.6864666\ttotal: 2.69s\tremaining: 178ms\n",
      "938:\tlearn: 0.6864666\ttotal: 2.69s\tremaining: 175ms\n",
      "939:\tlearn: 0.6864666\ttotal: 2.7s\tremaining: 172ms\n",
      "940:\tlearn: 0.6864666\ttotal: 2.7s\tremaining: 169ms\n",
      "941:\tlearn: 0.6864666\ttotal: 2.7s\tremaining: 166ms\n",
      "942:\tlearn: 0.6864666\ttotal: 2.71s\tremaining: 164ms\n",
      "943:\tlearn: 0.6864666\ttotal: 2.71s\tremaining: 161ms\n",
      "944:\tlearn: 0.6864666\ttotal: 2.71s\tremaining: 158ms\n",
      "945:\tlearn: 0.6864666\ttotal: 2.71s\tremaining: 155ms\n",
      "946:\tlearn: 0.6864666\ttotal: 2.72s\tremaining: 152ms\n",
      "947:\tlearn: 0.6864666\ttotal: 2.72s\tremaining: 149ms\n",
      "948:\tlearn: 0.6864666\ttotal: 2.72s\tremaining: 146ms\n",
      "949:\tlearn: 0.6864666\ttotal: 2.73s\tremaining: 144ms\n",
      "950:\tlearn: 0.6864666\ttotal: 2.73s\tremaining: 141ms\n",
      "951:\tlearn: 0.6864666\ttotal: 2.73s\tremaining: 138ms\n",
      "952:\tlearn: 0.6864666\ttotal: 2.73s\tremaining: 135ms\n",
      "953:\tlearn: 0.6864666\ttotal: 2.74s\tremaining: 132ms\n",
      "954:\tlearn: 0.6864666\ttotal: 2.74s\tremaining: 129ms\n",
      "955:\tlearn: 0.6864666\ttotal: 2.75s\tremaining: 126ms\n",
      "956:\tlearn: 0.6864666\ttotal: 2.75s\tremaining: 123ms\n",
      "957:\tlearn: 0.6864666\ttotal: 2.75s\tremaining: 121ms\n",
      "958:\tlearn: 0.6864666\ttotal: 2.75s\tremaining: 118ms\n",
      "959:\tlearn: 0.6864666\ttotal: 2.76s\tremaining: 115ms\n",
      "960:\tlearn: 0.6864666\ttotal: 2.76s\tremaining: 112ms\n",
      "961:\tlearn: 0.6864666\ttotal: 2.76s\tremaining: 109ms\n",
      "962:\tlearn: 0.6864666\ttotal: 2.76s\tremaining: 106ms\n",
      "963:\tlearn: 0.6864666\ttotal: 2.77s\tremaining: 103ms\n",
      "964:\tlearn: 0.6864666\ttotal: 2.77s\tremaining: 100ms\n",
      "965:\tlearn: 0.6864666\ttotal: 2.77s\tremaining: 97.6ms\n",
      "966:\tlearn: 0.6864666\ttotal: 2.77s\tremaining: 94.7ms\n",
      "967:\tlearn: 0.6864666\ttotal: 2.78s\tremaining: 91.8ms\n",
      "968:\tlearn: 0.6864666\ttotal: 2.78s\tremaining: 89ms\n",
      "969:\tlearn: 0.6864666\ttotal: 2.78s\tremaining: 86.1ms\n",
      "970:\tlearn: 0.6864666\ttotal: 2.79s\tremaining: 83.2ms\n",
      "971:\tlearn: 0.6864666\ttotal: 2.79s\tremaining: 80.3ms\n",
      "972:\tlearn: 0.6864666\ttotal: 2.79s\tremaining: 77.4ms\n",
      "973:\tlearn: 0.6864666\ttotal: 2.79s\tremaining: 74.5ms\n",
      "974:\tlearn: 0.6864666\ttotal: 2.79s\tremaining: 71.7ms\n",
      "975:\tlearn: 0.6864666\ttotal: 2.8s\tremaining: 68.8ms\n",
      "976:\tlearn: 0.6864666\ttotal: 2.8s\tremaining: 65.9ms\n",
      "977:\tlearn: 0.6864666\ttotal: 2.8s\tremaining: 63ms\n",
      "978:\tlearn: 0.6864666\ttotal: 2.8s\tremaining: 60.1ms\n",
      "979:\tlearn: 0.6864666\ttotal: 2.81s\tremaining: 57.3ms\n",
      "980:\tlearn: 0.6864666\ttotal: 2.81s\tremaining: 54.4ms\n",
      "981:\tlearn: 0.6864666\ttotal: 2.81s\tremaining: 51.5ms\n",
      "982:\tlearn: 0.6864666\ttotal: 2.81s\tremaining: 48.6ms\n",
      "983:\tlearn: 0.6864666\ttotal: 2.81s\tremaining: 45.8ms\n",
      "984:\tlearn: 0.6864666\ttotal: 2.82s\tremaining: 42.9ms\n",
      "985:\tlearn: 0.6864666\ttotal: 2.82s\tremaining: 40ms\n",
      "986:\tlearn: 0.6864666\ttotal: 2.82s\tremaining: 37.2ms\n",
      "987:\tlearn: 0.6864666\ttotal: 2.82s\tremaining: 34.3ms\n",
      "988:\tlearn: 0.6864666\ttotal: 2.83s\tremaining: 31.4ms\n",
      "989:\tlearn: 0.6864666\ttotal: 2.83s\tremaining: 28.6ms\n",
      "990:\tlearn: 0.6864666\ttotal: 2.83s\tremaining: 25.7ms\n",
      "991:\tlearn: 0.6864666\ttotal: 2.83s\tremaining: 22.8ms\n",
      "992:\tlearn: 0.6864666\ttotal: 2.83s\tremaining: 20ms\n",
      "993:\tlearn: 0.6864666\ttotal: 2.84s\tremaining: 17.1ms\n",
      "994:\tlearn: 0.6864666\ttotal: 2.84s\tremaining: 14.3ms\n"
     ]
    },
    {
     "name": "stdout",
     "output_type": "stream",
     "text": [
      "995:\tlearn: 0.6864666\ttotal: 2.84s\tremaining: 11.4ms\n",
      "996:\tlearn: 0.6864666\ttotal: 2.85s\tremaining: 8.56ms\n",
      "997:\tlearn: 0.6864666\ttotal: 2.85s\tremaining: 5.71ms\n",
      "998:\tlearn: 0.6864666\ttotal: 2.85s\tremaining: 2.85ms\n",
      "999:\tlearn: 0.6864666\ttotal: 2.85s\tremaining: 0us\n",
      "3.4983630180358887\n",
      "fitting done !!!\n",
      "              precision    recall  f1-score   support\n",
      "\n",
      "           0     0.0000    0.0000    0.0000         0\n",
      "           1     1.0000    0.5231    0.6869      2898\n",
      "\n",
      "    accuracy                         0.5231      2898\n",
      "   macro avg     0.5000    0.2616    0.3435      2898\n",
      "weighted avg     1.0000    0.5231    0.6869      2898\n",
      "\n"
     ]
    },
    {
     "name": "stderr",
     "output_type": "stream",
     "text": [
      "C:\\Users\\Eng Kadebu\\.conda\\envs\\images\\lib\\site-packages\\sklearn\\metrics\\_classification.py:1221: UndefinedMetricWarning: Recall and F-score are ill-defined and being set to 0.0 in labels with no true samples. Use `zero_division` parameter to control this behavior.\n",
      "  _warn_prf(average, modifier, msg_start, len(result))\n"
     ]
    }
   ],
   "source": [
    "from catboost import CatBoostClassifier\n",
    "cb = CatBoostClassifier()\n",
    "start = time.time() # Measuring the processing time\n",
    "cb.fit(feat_train,np.argmax(y_train,axis=1))\n",
    "end = time.time()\n",
    "print(end - start) # Total\n",
    "\n",
    "print('fitting done !!!')\n",
    "Pred_labels = et.predict(feat_test)\n",
    "print(classification_report(Pred_labels, np.argmax(y_test,axis =1), digits=4))"
   ]
  },
  {
   "cell_type": "code",
   "execution_count": 39,
   "metadata": {},
   "outputs": [
    {
     "data": {
      "image/png": "[encoded data removed]",
      "text/plain": [
       "<Figure size 864x864 with 2 Axes>"
      ]
     },
     "metadata": {
      "needs_background": "light"
     },
     "output_type": "display_data"
    }
   ],
   "source": [
    "plot_heatmap(confusion_matrix(Pred_labels, np.argmax(y_test,axis =1)),'Catboost')"
   ]
  },
  {
   "cell_type": "code",
   "execution_count": 40,
   "metadata": {},
   "outputs": [],
   "source": [
    "estimators = list()\n",
    "estimators.append(('RF', RandomForestClassifier()))\n",
    "estimators.append(('LR', LogisticRegression()))\n",
    "estimators.append(('DTC', DecisionTreeClassifier()))\n",
    "estimators.append(('KNN', KNeighborsClassifier()))\n",
    "estimators.append(('LDA', LinearDiscriminantAnalysis()))\n",
    "estimators.append(('NB', GaussianNB()))\n",
    "#estimators.append(('SVM', GradientBoostingClassifier(learning_rate=0.01, n_estimators=1500,max_depth=4, min_samples_split=40, min_samples_leaf=7,max_features=4 , subsample=0.95, random_state=10)))\n",
    "estimators.append(('XGB', XGBClassifier()))"
   ]
  },
  {
   "cell_type": "code",
   "execution_count": 41,
   "metadata": {},
   "outputs": [
    {
     "name": "stdout",
     "output_type": "stream",
     "text": [
      "fitting done !!!\n",
      "              precision    recall  f1-score   support\n",
      "\n",
      "           0     0.0000    0.0000    0.0000         0\n",
      "           1     1.0000    0.5231    0.6869      2898\n",
      "\n",
      "    accuracy                         0.5231      2898\n",
      "   macro avg     0.5000    0.2616    0.3435      2898\n",
      "weighted avg     1.0000    0.5231    0.6869      2898\n",
      "\n"
     ]
    },
    {
     "name": "stderr",
     "output_type": "stream",
     "text": [
      "C:\\Users\\Eng Kadebu\\.conda\\envs\\images\\lib\\site-packages\\sklearn\\metrics\\_classification.py:1221: UndefinedMetricWarning: Recall and F-score are ill-defined and being set to 0.0 in labels with no true samples. Use `zero_division` parameter to control this behavior.\n",
      "  _warn_prf(average, modifier, msg_start, len(result))\n"
     ]
    }
   ],
   "source": [
    "ensemble = VotingClassifier(estimators=estimators, voting='soft')\n",
    "ensemble.fit(feat_train,np.argmax(y_train,axis=1))\n",
    "print('fitting done !!!')\n",
    "Pred_labels = ensemble.predict(feat_test)\n",
    "print(classification_report(Pred_labels, np.argmax(y_test,axis =1),digits=4))"
   ]
  },
  {
   "cell_type": "code",
   "execution_count": 42,
   "metadata": {},
   "outputs": [
    {
     "data": {
      "image/png": "[encoded data removed]",
      "text/plain": [
       "<Figure size 720x576 with 1 Axes>"
      ]
     },
     "metadata": {
      "needs_background": "light"
     },
     "output_type": "display_data"
    }
   ],
   "source": [
    "from sklearn import metrics\n",
    "from sklearn.metrics import roc_curve\n",
    "\n",
    "\n",
    "clf2=LogisticRegression().fit(feat_train,np.argmax(y_train,axis=1))\n",
    "y_pred2 = clf2.predict(feat_test)\n",
    "\n",
    "clf3 = GaussianNB().fit(feat_train,np.argmax(y_train,axis=1))\n",
    "y_pred3 = clf3.predict(feat_test)\n",
    "\n",
    "clf4 = ensemble.fit(feat_train,np.argmax(y_train,axis=1))\n",
    "y_pred4 = clf4.predict(feat_test)\n",
    "\n",
    "clf6=LinearDiscriminantAnalysis().fit(feat_train,np.argmax(y_train,axis=1))\n",
    "y_pred6 = clf6.predict(feat_test)\n",
    "\n",
    "#clf7=SVC(kernel='rbf').fit(feat_train,np.argmax(y_train,axis=1))\n",
    "#y_pred7 = clf7.predict(feat_test)\n",
    "\n",
    "y_pred_proba2 = clf2.predict_proba(feat_test)[::,1]\n",
    "fpr2, tpr2, _ = metrics.roc_curve(np.argmax(y_test,axis =1),  y_pred_proba2)\n",
    "auc2 = metrics.roc_auc_score(np.argmax(y_test,axis =1), y_pred_proba2)\n",
    "\n",
    "y_pred_proba3 = clf3.predict_proba(feat_test)[::,1]\n",
    "fpr3, tpr3, _ = metrics.roc_curve(np.argmax(y_test,axis =1),  y_pred_proba3)\n",
    "auc3 = metrics.roc_auc_score(np.argmax(y_test,axis =1), y_pred_proba3)\n",
    "\n",
    "y_pred_proba4 = clf4.predict_proba(feat_test)[::,1]\n",
    "fpr4, tpr4, _ = metrics.roc_curve(np.argmax(y_test,axis =1),  y_pred_proba4)\n",
    "auc4 = metrics.roc_auc_score(np.argmax(y_test,axis =1), y_pred_proba4)\n",
    "\n",
    "y_pred_proba6 = clf6.predict_proba(feat_test)[::,1]\n",
    "fpr6, tpr6, _ = metrics.roc_curve(np.argmax(y_test,axis =1),  y_pred_proba6)\n",
    "auc6 = metrics.roc_auc_score(np.argmax(y_test,axis =1), y_pred_proba6)\n",
    "\n",
    "#y_pred_proba7 = clf7.predict_proba(feat_test)[::,1]\n",
    "#fpr7, tpr7, _ = metrics.roc_curve(np.argmax(y_test,axis =1),  y_pred_proba7)\n",
    "#auc7 = metrics.roc_auc_score(np.argmax(y_test,axis =1), y_pred_proba7)\n",
    "\n",
    "\n",
    "plt.figure(figsize=(10, 8))\n",
    "plt.plot([0, 1], [0, 1], 'k--')\n",
    "plt.plot(fpr2,tpr2,label=\"LogisticRegression Classifier, auc=\"+str(auc2))\n",
    "plt.plot(fpr3,tpr3,label=\"Naive bayes Classifier, auc=\"+str(auc3))\n",
    "plt.plot(fpr4,tpr4,label=\"Ensemble, auc=\"+str(auc4))\n",
    "plt.plot(fpr6,tpr6,label=\"LinearDiscriminantAnalysis Classifier, auc=\"+str(auc6))\n",
    "#plt.plot(fpr7,tpr7,label=\"SVC Classifier, auc=\"+str(auc7))\n",
    "plt.xlabel('False positive rate')\n",
    "plt.ylabel('True positive rate')\n",
    "plt.title('ROC curve')\n",
    "plt.legend(frameon=False)\n",
    "plt.show()"
   ]
  },
  {
   "cell_type": "code",
   "execution_count": null,
   "metadata": {},
   "outputs": [],
   "source": []
  },
  {
   "cell_type": "code",
   "execution_count": null,
   "metadata": {},
   "outputs": [],
   "source": []
  },
  {
   "cell_type": "code",
   "execution_count": null,
   "metadata": {},
   "outputs": [],
   "source": []
  }
 ],
 "metadata": {
  "kernelspec": {
   "display_name": "Python 3 (ipykernel)",
   "language": "python",
   "name": "python3"
  },
  "language_info": {
   "codemirror_mode": {
    "name": "ipython",
    "version": 3
   },
   "file_extension": ".py",
   "mimetype": "text/x-python",
   "name": "python",
   "nbconvert_exporter": "python",
   "pygments_lexer": "ipython3",
   "version": "3.9.12"
  }
 },
 "nbformat": 4,
 "nbformat_minor": 2
}
