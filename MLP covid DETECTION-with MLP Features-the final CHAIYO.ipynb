{
 "cells": [
  {
   "cell_type": "code",
   "execution_count": 1,
   "metadata": {},
   "outputs": [],
   "source": [
    "from __future__ import print_function\n",
    "import numpy as np \n",
    "import pandas as pd \n",
    "import seaborn as sns\n",
    "import matplotlib.pyplot as plt\n",
    "from sklearn.metrics import confusion_matrix\n",
    "import keras\n",
    "from sklearn.decomposition import PCA\n",
    "from keras.datasets import mnist\n",
    "from keras.models import Sequential, Model\n",
    "from keras.layers import Dense, Dropout\n",
    "from keras.optimizers import RMSprop, Adam, Nadam\n",
    "import time\n",
    "import os\n",
    "#print(os.listdir(\"./npy_landuse\"))"
   ]
  },
  {
   "cell_type": "code",
   "execution_count": 2,
   "metadata": {},
   "outputs": [],
   "source": [
    "batch_size = 128\n",
    "num_classes = 2\n",
    "epochs = 10"
   ]
  },
  {
   "cell_type": "code",
   "execution_count": 3,
   "metadata": {},
   "outputs": [],
   "source": [
    "x_train = np.load('./npy_covid64/x_train.npy')\n",
    "y_train = np.load('./npy_covid64/y_train.npy')\n",
    "x_test=np.load('./npy_covid64/x_test.npy')\n",
    "y_test=np.load('./npy_covid64/y_test.npy')"
   ]
  },
  {
   "cell_type": "code",
   "execution_count": 4,
   "metadata": {},
   "outputs": [
    {
     "data": {
      "text/plain": [
       "(11588, 64, 64)"
      ]
     },
     "execution_count": 4,
     "metadata": {},
     "output_type": "execute_result"
    }
   ],
   "source": [
    "x_train.shape"
   ]
  },
  {
   "cell_type": "code",
   "execution_count": 5,
   "metadata": {},
   "outputs": [
    {
     "data": {
      "text/plain": [
       "(2898, 64, 64)"
      ]
     },
     "execution_count": 5,
     "metadata": {},
     "output_type": "execute_result"
    }
   ],
   "source": [
    "x_test.shape"
   ]
  },
  {
   "cell_type": "code",
   "execution_count": 6,
   "metadata": {},
   "outputs": [
    {
     "data": {
      "text/plain": [
       "(2898, 2)"
      ]
     },
     "execution_count": 6,
     "metadata": {},
     "output_type": "execute_result"
    }
   ],
   "source": [
    "y_test.shape"
   ]
  },
  {
   "cell_type": "code",
   "execution_count": 7,
   "metadata": {},
   "outputs": [],
   "source": [
    "# Change from matrix to array --> dimension 64x64 to array of dimention 4096\n",
    "x_train = x_train.reshape(11588, 4096)\n",
    "x_test = x_test.reshape(2898, 4096)"
   ]
  },
  {
   "cell_type": "code",
   "execution_count": 8,
   "metadata": {},
   "outputs": [
    {
     "data": {
      "text/plain": [
       "(2898, 2)"
      ]
     },
     "execution_count": 8,
     "metadata": {},
     "output_type": "execute_result"
    }
   ],
   "source": [
    "y_test.shape"
   ]
  },
  {
   "cell_type": "code",
   "execution_count": 9,
   "metadata": {},
   "outputs": [
    {
     "name": "stdout",
     "output_type": "stream",
     "text": [
      "11588 train samples\n",
      "2898 test samples\n"
     ]
    }
   ],
   "source": [
    "# Change to float datatype\n",
    "x_train = x_train.astype('float32')\n",
    "x_test = x_test.astype('float32')\n",
    "# Scale the data to lie between 0 to 1\n",
    "x_train /= 255\n",
    "x_test /= 255\n",
    "print(x_train.shape[0], 'train samples')\n",
    "print(x_test.shape[0], 'test samples')"
   ]
  },
  {
   "cell_type": "code",
   "execution_count": 10,
   "metadata": {},
   "outputs": [],
   "source": [
    "# PCA\n",
    "pca = PCA(n_components=100)\n",
    "\n",
    "x_train=pca.fit_transform(x_train)\n",
    "x_test= pca.transform(x_test)"
   ]
  },
  {
   "cell_type": "code",
   "execution_count": 11,
   "metadata": {},
   "outputs": [
    {
     "name": "stdout",
     "output_type": "stream",
     "text": [
      "Model: \"sequential\"\n",
      "_________________________________________________________________\n",
      "Layer (type)                 Output Shape              Param #   \n",
      "=================================================================\n",
      "dense (Dense)                (None, 512)               51712     \n",
      "_________________________________________________________________\n",
      "dropout (Dropout)            (None, 512)               0         \n",
      "_________________________________________________________________\n",
      "dense_1 (Dense)              (None, 512)               262656    \n",
      "_________________________________________________________________\n",
      "dropout_1 (Dropout)          (None, 512)               0         \n",
      "_________________________________________________________________\n",
      "dense_2 (Dense)              (None, 2)                 1026      \n",
      "=================================================================\n",
      "Total params: 315,394\n",
      "Trainable params: 315,394\n",
      "Non-trainable params: 0\n",
      "_________________________________________________________________\n"
     ]
    }
   ],
   "source": [
    "#                      BUILDING THE MODEL\n",
    "model = Sequential()\n",
    "model.add(Dense(512, activation='relu', input_shape=(100,)))\n",
    "model.add(Dropout(0.2))\n",
    "model.add(Dense(512, activation='relu'))\n",
    "model.add(Dropout(0.2))\n",
    "model.add(Dense(num_classes, activation='softmax'))\n",
    "\n",
    "model.summary()\n",
    "nadam=keras.optimizers.Adam(lr=0.0005)\n",
    "model.compile(loss='categorical_crossentropy',\n",
    "              optimizer=nadam,\n",
    "              metrics=['accuracy'])"
   ]
  },
  {
   "cell_type": "code",
   "execution_count": 12,
   "metadata": {},
   "outputs": [
    {
     "name": "stdout",
     "output_type": "stream",
     "text": [
      "Epoch 1/100\n",
      "91/91 [==============================] - 1s 10ms/step - loss: 0.5394 - accuracy: 0.7906 - val_loss: 0.4060 - val_accuracy: 0.8043\n",
      "Epoch 2/100\n",
      "91/91 [==============================] - 1s 8ms/step - loss: 0.3528 - accuracy: 0.8566 - val_loss: 0.3283 - val_accuracy: 0.8789\n",
      "Epoch 3/100\n",
      "91/91 [==============================] - 1s 8ms/step - loss: 0.3111 - accuracy: 0.8761 - val_loss: 0.3020 - val_accuracy: 0.8903\n",
      "Epoch 4/100\n",
      "91/91 [==============================] - 1s 8ms/step - loss: 0.2934 - accuracy: 0.8823 - val_loss: 0.2877 - val_accuracy: 0.8927\n",
      "Epoch 5/100\n",
      "91/91 [==============================] - 1s 7ms/step - loss: 0.2817 - accuracy: 0.8890 - val_loss: 0.2821 - val_accuracy: 0.8965\n",
      "Epoch 6/100\n",
      "91/91 [==============================] - 1s 8ms/step - loss: 0.2710 - accuracy: 0.8952 - val_loss: 0.2850 - val_accuracy: 0.8968\n",
      "Epoch 7/100\n",
      "91/91 [==============================] - 1s 8ms/step - loss: 0.2549 - accuracy: 0.9027 - val_loss: 0.2664 - val_accuracy: 0.8999\n",
      "Epoch 8/100\n",
      "91/91 [==============================] - 1s 7ms/step - loss: 0.2473 - accuracy: 0.9078 - val_loss: 0.2588 - val_accuracy: 0.9072\n",
      "Epoch 9/100\n",
      "91/91 [==============================] - 1s 8ms/step - loss: 0.2368 - accuracy: 0.9128 - val_loss: 0.2454 - val_accuracy: 0.9113\n",
      "Epoch 10/100\n",
      "91/91 [==============================] - 1s 8ms/step - loss: 0.2258 - accuracy: 0.9166 - val_loss: 0.2322 - val_accuracy: 0.9196\n",
      "Epoch 11/100\n",
      "91/91 [==============================] - 1s 8ms/step - loss: 0.2198 - accuracy: 0.9172 - val_loss: 0.2361 - val_accuracy: 0.9075\n",
      "Epoch 12/100\n",
      "91/91 [==============================] - 1s 8ms/step - loss: 0.2107 - accuracy: 0.9217 - val_loss: 0.2331 - val_accuracy: 0.9199\n",
      "Epoch 13/100\n",
      "91/91 [==============================] - 1s 8ms/step - loss: 0.1998 - accuracy: 0.9271 - val_loss: 0.2107 - val_accuracy: 0.92200s - loss: 0.197\n",
      "Epoch 14/100\n",
      "91/91 [==============================] - 1s 8ms/step - loss: 0.1900 - accuracy: 0.9297 - val_loss: 0.2087 - val_accuracy: 0.9231\n",
      "Epoch 15/100\n",
      "91/91 [==============================] - 1s 8ms/step - loss: 0.1896 - accuracy: 0.9316 - val_loss: 0.2127 - val_accuracy: 0.9186\n",
      "Epoch 16/100\n",
      "91/91 [==============================] - 1s 7ms/step - loss: 0.1773 - accuracy: 0.9340 - val_loss: 0.2013 - val_accuracy: 0.9213\n",
      "Epoch 17/100\n",
      "91/91 [==============================] - 1s 8ms/step - loss: 0.1720 - accuracy: 0.9360 - val_loss: 0.1978 - val_accuracy: 0.9289\n",
      "Epoch 18/100\n",
      "91/91 [==============================] - 1s 8ms/step - loss: 0.1673 - accuracy: 0.9386 - val_loss: 0.1894 - val_accuracy: 0.9293\n",
      "Epoch 19/100\n",
      "91/91 [==============================] - 1s 8ms/step - loss: 0.1652 - accuracy: 0.9404 - val_loss: 0.1820 - val_accuracy: 0.9313\n",
      "Epoch 20/100\n",
      "91/91 [==============================] - 1s 8ms/step - loss: 0.1567 - accuracy: 0.9432 - val_loss: 0.1779 - val_accuracy: 0.9275\n",
      "Epoch 21/100\n",
      "91/91 [==============================] - 1s 8ms/step - loss: 0.1507 - accuracy: 0.9444 - val_loss: 0.1734 - val_accuracy: 0.9348\n",
      "Epoch 22/100\n",
      "91/91 [==============================] - 1s 8ms/step - loss: 0.1474 - accuracy: 0.9455 - val_loss: 0.1660 - val_accuracy: 0.9369\n",
      "Epoch 23/100\n",
      "91/91 [==============================] - 1s 8ms/step - loss: 0.1460 - accuracy: 0.9479 - val_loss: 0.1767 - val_accuracy: 0.9320\n",
      "Epoch 24/100\n",
      "91/91 [==============================] - 1s 8ms/step - loss: 0.1437 - accuracy: 0.9455 - val_loss: 0.1756 - val_accuracy: 0.9362\n",
      "Epoch 25/100\n",
      "91/91 [==============================] - 1s 8ms/step - loss: 0.1363 - accuracy: 0.9490 - val_loss: 0.1576 - val_accuracy: 0.9386\n",
      "Epoch 26/100\n",
      "91/91 [==============================] - 1s 8ms/step - loss: 0.1333 - accuracy: 0.9507 - val_loss: 0.1627 - val_accuracy: 0.9351\n",
      "Epoch 27/100\n",
      "91/91 [==============================] - 1s 8ms/step - loss: 0.1293 - accuracy: 0.9518 - val_loss: 0.1521 - val_accuracy: 0.9420\n",
      "Epoch 28/100\n",
      "91/91 [==============================] - 1s 8ms/step - loss: 0.1285 - accuracy: 0.9514 - val_loss: 0.1498 - val_accuracy: 0.9410\n",
      "Epoch 29/100\n",
      "91/91 [==============================] - 1s 8ms/step - loss: 0.1262 - accuracy: 0.9519 - val_loss: 0.1482 - val_accuracy: 0.9413\n",
      "Epoch 30/100\n",
      "91/91 [==============================] - 1s 8ms/step - loss: 0.1219 - accuracy: 0.9531 - val_loss: 0.1464 - val_accuracy: 0.9424\n",
      "Epoch 31/100\n",
      "91/91 [==============================] - 1s 8ms/step - loss: 0.1168 - accuracy: 0.9555 - val_loss: 0.1499 - val_accuracy: 0.9431\n",
      "Epoch 32/100\n",
      "91/91 [==============================] - 1s 8ms/step - loss: 0.1198 - accuracy: 0.9524 - val_loss: 0.1408 - val_accuracy: 0.9448\n",
      "Epoch 33/100\n",
      "91/91 [==============================] - 1s 8ms/step - loss: 0.1118 - accuracy: 0.9573 - val_loss: 0.1362 - val_accuracy: 0.9451\n",
      "Epoch 34/100\n",
      "91/91 [==============================] - 1s 8ms/step - loss: 0.1073 - accuracy: 0.9600 - val_loss: 0.1417 - val_accuracy: 0.9427\n",
      "Epoch 35/100\n",
      "91/91 [==============================] - 1s 8ms/step - loss: 0.1090 - accuracy: 0.9574 - val_loss: 0.1350 - val_accuracy: 0.9469\n",
      "Epoch 36/100\n",
      "91/91 [==============================] - 1s 8ms/step - loss: 0.1023 - accuracy: 0.9611 - val_loss: 0.1332 - val_accuracy: 0.9472\n",
      "Epoch 37/100\n",
      "91/91 [==============================] - 1s 8ms/step - loss: 0.1029 - accuracy: 0.9595 - val_loss: 0.1330 - val_accuracy: 0.9500\n",
      "Epoch 38/100\n",
      "91/91 [==============================] - 1s 8ms/step - loss: 0.1008 - accuracy: 0.9600 - val_loss: 0.1301 - val_accuracy: 0.9465\n",
      "Epoch 39/100\n",
      "91/91 [==============================] - 1s 7ms/step - loss: 0.0945 - accuracy: 0.9651 - val_loss: 0.1279 - val_accuracy: 0.9496\n",
      "Epoch 40/100\n",
      "91/91 [==============================] - 1s 8ms/step - loss: 0.0932 - accuracy: 0.9632 - val_loss: 0.1269 - val_accuracy: 0.9496\n",
      "Epoch 41/100\n",
      "91/91 [==============================] - 1s 7ms/step - loss: 0.0951 - accuracy: 0.9637 - val_loss: 0.1196 - val_accuracy: 0.9555\n",
      "Epoch 42/100\n",
      "91/91 [==============================] - 1s 8ms/step - loss: 0.0881 - accuracy: 0.9667 - val_loss: 0.1164 - val_accuracy: 0.9551\n",
      "Epoch 43/100\n",
      "91/91 [==============================] - 1s 8ms/step - loss: 0.0862 - accuracy: 0.9668 - val_loss: 0.1168 - val_accuracy: 0.9569\n",
      "Epoch 44/100\n",
      "91/91 [==============================] - 1s 7ms/step - loss: 0.0824 - accuracy: 0.9669 - val_loss: 0.1218 - val_accuracy: 0.9527\n",
      "Epoch 45/100\n",
      "91/91 [==============================] - 1s 8ms/step - loss: 0.0800 - accuracy: 0.9705 - val_loss: 0.1092 - val_accuracy: 0.9579\n",
      "Epoch 46/100\n",
      "91/91 [==============================] - 1s 8ms/step - loss: 0.0782 - accuracy: 0.9719 - val_loss: 0.1140 - val_accuracy: 0.9593\n",
      "Epoch 47/100\n",
      "91/91 [==============================] - 1s 8ms/step - loss: 0.0782 - accuracy: 0.9701 - val_loss: 0.1067 - val_accuracy: 0.9624\n",
      "Epoch 48/100\n",
      "91/91 [==============================] - 1s 8ms/step - loss: 0.0718 - accuracy: 0.9733 - val_loss: 0.1159 - val_accuracy: 0.9600\n",
      "Epoch 49/100\n",
      "91/91 [==============================] - 1s 8ms/step - loss: 0.0678 - accuracy: 0.9753 - val_loss: 0.1073 - val_accuracy: 0.9600\n",
      "Epoch 50/100\n",
      "91/91 [==============================] - 1s 8ms/step - loss: 0.0707 - accuracy: 0.9735 - val_loss: 0.1127 - val_accuracy: 0.9582\n",
      "Epoch 51/100\n",
      "91/91 [==============================] - 1s 8ms/step - loss: 0.0667 - accuracy: 0.9746 - val_loss: 0.1037 - val_accuracy: 0.9645\n",
      "Epoch 52/100\n",
      "91/91 [==============================] - 1s 8ms/step - loss: 0.0630 - accuracy: 0.9782 - val_loss: 0.1087 - val_accuracy: 0.9582\n",
      "Epoch 53/100\n",
      "91/91 [==============================] - 1s 8ms/step - loss: 0.0625 - accuracy: 0.9780 - val_loss: 0.0986 - val_accuracy: 0.9651\n",
      "Epoch 54/100\n",
      "91/91 [==============================] - 1s 8ms/step - loss: 0.0628 - accuracy: 0.9777 - val_loss: 0.1025 - val_accuracy: 0.9676\n",
      "Epoch 55/100\n",
      "91/91 [==============================] - 1s 8ms/step - loss: 0.0584 - accuracy: 0.9787 - val_loss: 0.0983 - val_accuracy: 0.9669\n",
      "Epoch 56/100\n",
      "91/91 [==============================] - 1s 8ms/step - loss: 0.0592 - accuracy: 0.9791 - val_loss: 0.1066 - val_accuracy: 0.9603\n",
      "Epoch 57/100\n",
      "91/91 [==============================] - 1s 8ms/step - loss: 0.0555 - accuracy: 0.9797 - val_loss: 0.0998 - val_accuracy: 0.9669\n",
      "Epoch 58/100\n",
      "91/91 [==============================] - 1s 7ms/step - loss: 0.0533 - accuracy: 0.9820 - val_loss: 0.0944 - val_accuracy: 0.9686\n",
      "Epoch 59/100\n",
      "91/91 [==============================] - 1s 7ms/step - loss: 0.0584 - accuracy: 0.9788 - val_loss: 0.0981 - val_accuracy: 0.9658\n",
      "Epoch 60/100\n",
      "91/91 [==============================] - 1s 7ms/step - loss: 0.0553 - accuracy: 0.9796 - val_loss: 0.1032 - val_accuracy: 0.9607\n",
      "Epoch 61/100\n",
      "91/91 [==============================] - 1s 7ms/step - loss: 0.0526 - accuracy: 0.9816 - val_loss: 0.0884 - val_accuracy: 0.9727\n",
      "Epoch 62/100\n",
      "91/91 [==============================] - 1s 7ms/step - loss: 0.0504 - accuracy: 0.9810 - val_loss: 0.0874 - val_accuracy: 0.9748\n",
      "Epoch 63/100\n",
      "91/91 [==============================] - 1s 7ms/step - loss: 0.0460 - accuracy: 0.9853 - val_loss: 0.0981 - val_accuracy: 0.9700\n",
      "Epoch 64/100\n",
      "91/91 [==============================] - 1s 7ms/step - loss: 0.0442 - accuracy: 0.9836 - val_loss: 0.0964 - val_accuracy: 0.9710\n",
      "Epoch 65/100\n",
      "91/91 [==============================] - 1s 8ms/step - loss: 0.0426 - accuracy: 0.9862 - val_loss: 0.1043 - val_accuracy: 0.9665\n",
      "Epoch 66/100\n",
      "91/91 [==============================] - 1s 7ms/step - loss: 0.0421 - accuracy: 0.9858 - val_loss: 0.0952 - val_accuracy: 0.9707\n",
      "Epoch 67/100\n",
      "91/91 [==============================] - 1s 7ms/step - loss: 0.0438 - accuracy: 0.9846 - val_loss: 0.0912 - val_accuracy: 0.9727\n",
      "Epoch 68/100\n",
      "91/91 [==============================] - 1s 7ms/step - loss: 0.0420 - accuracy: 0.9863 - val_loss: 0.1043 - val_accuracy: 0.9676\n",
      "Epoch 69/100\n",
      "91/91 [==============================] - 1s 7ms/step - loss: 0.0357 - accuracy: 0.9881 - val_loss: 0.0870 - val_accuracy: 0.9731\n",
      "Epoch 70/100\n",
      "91/91 [==============================] - 1s 7ms/step - loss: 0.0397 - accuracy: 0.9858 - val_loss: 0.0799 - val_accuracy: 0.9772\n",
      "Epoch 71/100\n",
      "91/91 [==============================] - 1s 7ms/step - loss: 0.0404 - accuracy: 0.9862 - val_loss: 0.0917 - val_accuracy: 0.9731\n",
      "Epoch 72/100\n",
      "91/91 [==============================] - 1s 7ms/step - loss: 0.0379 - accuracy: 0.9864 - val_loss: 0.0817 - val_accuracy: 0.9793\n",
      "Epoch 73/100\n",
      "91/91 [==============================] - 1s 7ms/step - loss: 0.0342 - accuracy: 0.9888 - val_loss: 0.0879 - val_accuracy: 0.9772\n",
      "Epoch 74/100\n",
      "91/91 [==============================] - 1s 7ms/step - loss: 0.0367 - accuracy: 0.9873 - val_loss: 0.0859 - val_accuracy: 0.9734\n",
      "Epoch 75/100\n",
      "91/91 [==============================] - 1s 7ms/step - loss: 0.0336 - accuracy: 0.9886 - val_loss: 0.1310 - val_accuracy: 0.9683\n",
      "Epoch 76/100\n",
      "91/91 [==============================] - 1s 7ms/step - loss: 0.0351 - accuracy: 0.9880 - val_loss: 0.0937 - val_accuracy: 0.9769\n",
      "Epoch 77/100\n",
      "91/91 [==============================] - 1s 7ms/step - loss: 0.0378 - accuracy: 0.9863 - val_loss: 0.0975 - val_accuracy: 0.9752\n",
      "Epoch 78/100\n",
      "91/91 [==============================] - 1s 7ms/step - loss: 0.0359 - accuracy: 0.9871 - val_loss: 0.0890 - val_accuracy: 0.9783\n",
      "Epoch 79/100\n",
      "91/91 [==============================] - 1s 7ms/step - loss: 0.0302 - accuracy: 0.9897 - val_loss: 0.0809 - val_accuracy: 0.9752\n",
      "Epoch 80/100\n",
      "91/91 [==============================] - 1s 7ms/step - loss: 0.0324 - accuracy: 0.9897 - val_loss: 0.0720 - val_accuracy: 0.9817\n",
      "Epoch 81/100\n",
      "91/91 [==============================] - 1s 7ms/step - loss: 0.0348 - accuracy: 0.9877 - val_loss: 0.1063 - val_accuracy: 0.9717\n",
      "Epoch 82/100\n",
      "91/91 [==============================] - 1s 7ms/step - loss: 0.0313 - accuracy: 0.9889 - val_loss: 0.0839 - val_accuracy: 0.9807\n",
      "Epoch 83/100\n",
      "91/91 [==============================] - 1s 7ms/step - loss: 0.0263 - accuracy: 0.9912 - val_loss: 0.0889 - val_accuracy: 0.9776\n",
      "Epoch 84/100\n",
      "91/91 [==============================] - 1s 7ms/step - loss: 0.0254 - accuracy: 0.9913 - val_loss: 0.0913 - val_accuracy: 0.9776\n",
      "Epoch 85/100\n",
      "91/91 [==============================] - 1s 7ms/step - loss: 0.0238 - accuracy: 0.9918 - val_loss: 0.1000 - val_accuracy: 0.9783\n",
      "Epoch 86/100\n",
      "91/91 [==============================] - 1s 7ms/step - loss: 0.0285 - accuracy: 0.9903 - val_loss: 0.0855 - val_accuracy: 0.9783\n",
      "Epoch 87/100\n",
      "91/91 [==============================] - 1s 7ms/step - loss: 0.0271 - accuracy: 0.9910 - val_loss: 0.0870 - val_accuracy: 0.9821\n",
      "Epoch 88/100\n",
      "91/91 [==============================] - 1s 8ms/step - loss: 0.0254 - accuracy: 0.9913 - val_loss: 0.0737 - val_accuracy: 0.9796\n",
      "Epoch 89/100\n",
      "91/91 [==============================] - 1s 7ms/step - loss: 0.0215 - accuracy: 0.9929 - val_loss: 0.0751 - val_accuracy: 0.9821\n",
      "Epoch 90/100\n",
      "91/91 [==============================] - 1s 7ms/step - loss: 0.0227 - accuracy: 0.9930 - val_loss: 0.0752 - val_accuracy: 0.9848\n",
      "Epoch 91/100\n",
      "91/91 [==============================] - 1s 7ms/step - loss: 0.0290 - accuracy: 0.9897 - val_loss: 0.0914 - val_accuracy: 0.9765\n",
      "Epoch 92/100\n",
      "91/91 [==============================] - 1s 7ms/step - loss: 0.0249 - accuracy: 0.9918 - val_loss: 0.0791 - val_accuracy: 0.9817\n",
      "Epoch 93/100\n",
      "91/91 [==============================] - 1s 7ms/step - loss: 0.0247 - accuracy: 0.9915 - val_loss: 0.0845 - val_accuracy: 0.9793\n",
      "Epoch 94/100\n",
      "91/91 [==============================] - 1s 7ms/step - loss: 0.0210 - accuracy: 0.9932 - val_loss: 0.0808 - val_accuracy: 0.9834\n",
      "Epoch 95/100\n",
      "91/91 [==============================] - 1s 7ms/step - loss: 0.0186 - accuracy: 0.9946 - val_loss: 0.0856 - val_accuracy: 0.9810\n",
      "Epoch 96/100\n",
      "91/91 [==============================] - 1s 7ms/step - loss: 0.0258 - accuracy: 0.9910 - val_loss: 0.0942 - val_accuracy: 0.9745\n",
      "Epoch 97/100\n",
      "91/91 [==============================] - 1s 7ms/step - loss: 0.0205 - accuracy: 0.9931 - val_loss: 0.0879 - val_accuracy: 0.9779\n",
      "Epoch 98/100\n",
      "91/91 [==============================] - 1s 7ms/step - loss: 0.0209 - accuracy: 0.9934 - val_loss: 0.0774 - val_accuracy: 0.9821\n",
      "Epoch 99/100\n",
      "91/91 [==============================] - 1s 7ms/step - loss: 0.0202 - accuracy: 0.9933 - val_loss: 0.0789 - val_accuracy: 0.9810\n",
      "Epoch 100/100\n",
      "91/91 [==============================] - 1s 7ms/step - loss: 0.0188 - accuracy: 0.9947 - val_loss: 0.0796 - val_accuracy: 0.9831\n",
      "73.97938013076782\n"
     ]
    }
   ],
   "source": [
    "start = time.time() # Measuring the processing time\n",
    "#                      TRAINING THE MODEL\n",
    "history = model.fit(x_train, y_train,\n",
    "                    batch_size=batch_size,\n",
    "                    epochs=100,\n",
    "                    verbose=1,\n",
    "                    validation_data=(x_test, y_test))\n",
    "end = time.time()\n",
    "print(end - start)\n"
   ]
  },
  {
   "cell_type": "code",
   "execution_count": 13,
   "metadata": {},
   "outputs": [
    {
     "name": "stdout",
     "output_type": "stream",
     "text": [
      "Test loss: 0.07964995503425598\n",
      "Test accuracy: 0.9830917716026306\n"
     ]
    }
   ],
   "source": [
    "#                      EVALUATE TRAINED MODEL\n",
    "score = model.evaluate(x_test, y_test, verbose=0)\n",
    "print('Test loss:', score[0])\n",
    "print('Test accuracy:', score[1])"
   ]
  },
  {
   "cell_type": "code",
   "execution_count": 14,
   "metadata": {},
   "outputs": [],
   "source": [
    "model.save('mlp_weights_1.h5')"
   ]
  },
  {
   "cell_type": "code",
   "execution_count": 15,
   "metadata": {},
   "outputs": [],
   "source": [
    "model.load_weights('mlp_weights_1.h5')"
   ]
  },
  {
   "cell_type": "code",
   "execution_count": 16,
   "metadata": {},
   "outputs": [
    {
     "name": "stdout",
     "output_type": "stream",
     "text": [
      "(11588, 2)\n",
      "(2898, 2)\n"
     ]
    }
   ],
   "source": [
    "model_feat = Model(inputs=model.input,outputs=model.get_layer('dense_2').output)\n",
    "\n",
    "feat_train = model_feat.predict(x_train)\n",
    "print(feat_train.shape)\n",
    "\n",
    "#feat_val = model_feat.predict(x_val)\n",
    "#print(feat_val.shape)\n",
    "\n",
    "feat_test = model_feat.predict(x_test)\n",
    "print(feat_test.shape)"
   ]
  },
  {
   "cell_type": "code",
   "execution_count": 17,
   "metadata": {},
   "outputs": [],
   "source": [
    "from keras import metrics\n",
    "from sklearn.metrics import confusion_matrix"
   ]
  },
  {
   "cell_type": "code",
   "execution_count": 18,
   "metadata": {},
   "outputs": [
    {
     "name": "stdout",
     "output_type": "stream",
     "text": [
      "WARNING:tensorflow:From <ipython-input-18-dba21467f350>:1: Sequential.predict_classes (from tensorflow.python.keras.engine.sequential) is deprecated and will be removed after 2021-01-01.\n",
      "Instructions for updating:\n",
      "Please use instead:* `np.argmax(model.predict(x), axis=-1)`,   if your model does multi-class classification   (e.g. if it uses a `softmax` last-layer activation).* `(model.predict(x) > 0.5).astype(\"int32\")`,   if your model does binary classification   (e.g. if it uses a `sigmoid` last-layer activation).\n"
     ]
    }
   ],
   "source": [
    "pred = model.predict_classes(x_test)"
   ]
  },
  {
   "cell_type": "code",
   "execution_count": 19,
   "metadata": {},
   "outputs": [
    {
     "data": {
      "text/plain": [
       "array([[1368,   35],\n",
       "       [  14, 1481]], dtype=int64)"
      ]
     },
     "execution_count": 19,
     "metadata": {},
     "output_type": "execute_result"
    }
   ],
   "source": [
    "confusion_matrix(pred, np.argmax(y_test,axis =1))"
   ]
  },
  {
   "cell_type": "code",
   "execution_count": 20,
   "metadata": {},
   "outputs": [],
   "source": [
    "import seaborn as sns"
   ]
  },
  {
   "cell_type": "code",
   "execution_count": 20,
   "metadata": {},
   "outputs": [],
   "source": [
    "def plot_heatmap(cm,title):\n",
    "    df_cm2 = pd.DataFrame(cm, index = ['No Covid','Covid'])\n",
    "    df_cm2.columns=['No Covid','Covid']\n",
    "    f,ax = plt.subplots(figsize=(12, 12))\n",
    "    #ax = plt.axes()\n",
    "    sns.heatmap(df_cm2, annot=True, fmt=\"d\", linewidths=.5,ax=ax)\n",
    "    ax.set_title(title)\n",
    "    plt.show()\n",
    "\n",
    "    \n",
    "    return"
   ]
  },
  {
   "cell_type": "code",
   "execution_count": 21,
   "metadata": {},
   "outputs": [
    {
     "data": {
      "image/png": "[encoded data removed]",
      "text/plain": [
       "<Figure size 864x864 with 2 Axes>"
      ]
     },
     "metadata": {
      "needs_background": "light"
     },
     "output_type": "display_data"
    }
   ],
   "source": [
    "plot_heatmap(confusion_matrix(pred, np.argmax(y_test,axis =1)),'MLP')"
   ]
  },
  {
   "cell_type": "code",
   "execution_count": 22,
   "metadata": {},
   "outputs": [
    {
     "name": "stdout",
     "output_type": "stream",
     "text": [
      "              precision    recall  f1-score   support\n",
      "\n",
      "           0     0.9899    0.9751    0.9824      1403\n",
      "           1     0.9769    0.9906    0.9837      1495\n",
      "\n",
      "    accuracy                         0.9831      2898\n",
      "   macro avg     0.9834    0.9828    0.9831      2898\n",
      "weighted avg     0.9832    0.9831    0.9831      2898\n",
      "\n"
     ]
    }
   ],
   "source": [
    "from sklearn.metrics import classification_report\n",
    "print(classification_report(pred, np.argmax(y_test,axis =1),digits=4))"
   ]
  },
  {
   "cell_type": "code",
   "execution_count": 23,
   "metadata": {},
   "outputs": [
    {
     "name": "stdout",
     "output_type": "stream",
     "text": [
      "0.27354979515075684\n",
      "fitting done !!!\n"
     ]
    }
   ],
   "source": [
    "from sklearn.svm import SVC\n",
    "\n",
    "svm = SVC(kernel='rbf')\n",
    "start = time.time() # Measuring the processing time\n",
    "svm.fit(feat_train,np.argmax(y_train,axis=1))\n",
    "end = time.time()\n",
    "print(end - start)\n",
    "\n",
    "\n",
    "print('fitting done !!!')"
   ]
  },
  {
   "cell_type": "code",
   "execution_count": 24,
   "metadata": {},
   "outputs": [
    {
     "data": {
      "text/plain": [
       "0.9989644459785986"
      ]
     },
     "execution_count": 24,
     "metadata": {},
     "output_type": "execute_result"
    }
   ],
   "source": [
    "svm.score(feat_train,np.argmax(y_train,axis=1))"
   ]
  },
  {
   "cell_type": "code",
   "execution_count": 25,
   "metadata": {},
   "outputs": [
    {
     "data": {
      "text/plain": [
       "0.9830917874396136"
      ]
     },
     "execution_count": 25,
     "metadata": {},
     "output_type": "execute_result"
    }
   ],
   "source": [
    "svm.score(feat_test,np.argmax(y_test,axis=1))"
   ]
  },
  {
   "cell_type": "code",
   "execution_count": 26,
   "metadata": {},
   "outputs": [],
   "source": [
    "Pred_labels = svm.predict(feat_test)"
   ]
  },
  {
   "cell_type": "code",
   "execution_count": 27,
   "metadata": {},
   "outputs": [
    {
     "data": {
      "image/png": "[encoded data removed]",
      "text/plain": [
       "<Figure size 864x864 with 2 Axes>"
      ]
     },
     "metadata": {
      "needs_background": "light"
     },
     "output_type": "display_data"
    }
   ],
   "source": [
    "plot_heatmap(confusion_matrix(pred, np.argmax(y_test,axis =1)),'SVM')"
   ]
  },
  {
   "cell_type": "code",
   "execution_count": 28,
   "metadata": {},
   "outputs": [
    {
     "name": "stdout",
     "output_type": "stream",
     "text": [
      "              precision    recall  f1-score   support\n",
      "\n",
      "           0     0.9877    0.9771    0.9824      1397\n",
      "           1     0.9789    0.9887    0.9838      1501\n",
      "\n",
      "    accuracy                         0.9831      2898\n",
      "   macro avg     0.9833    0.9829    0.9831      2898\n",
      "weighted avg     0.9831    0.9831    0.9831      2898\n",
      "\n"
     ]
    }
   ],
   "source": [
    "print(classification_report(Pred_labels, np.argmax(y_test,axis =1),digits=4))"
   ]
  },
  {
   "cell_type": "markdown",
   "metadata": {},
   "source": [
    "# Applying XGBOOST"
   ]
  },
  {
   "cell_type": "code",
   "execution_count": 29,
   "metadata": {},
   "outputs": [
    {
     "name": "stdout",
     "output_type": "stream",
     "text": [
      "0.2771589756011963\n",
      "fitting done !!!\n"
     ]
    }
   ],
   "source": [
    "import xgboost as xgb\n",
    "\n",
    "xb = xgb.XGBClassifier()\n",
    "start = time.time() # Measuring the processing time\n",
    "xb.fit(feat_train,np.argmax(y_train,axis=1))\n",
    "end = time.time()\n",
    "print(end - start)\n",
    "\n",
    "print('fitting done !!!')"
   ]
  },
  {
   "cell_type": "code",
   "execution_count": 30,
   "metadata": {},
   "outputs": [
    {
     "data": {
      "text/plain": [
       "0.9998274076630997"
      ]
     },
     "execution_count": 30,
     "metadata": {},
     "output_type": "execute_result"
    }
   ],
   "source": [
    "xb.score(feat_train,np.argmax(y_train,axis=1))"
   ]
  },
  {
   "cell_type": "code",
   "execution_count": 31,
   "metadata": {},
   "outputs": [
    {
     "data": {
      "text/plain": [
       "0.9827467218771566"
      ]
     },
     "execution_count": 31,
     "metadata": {},
     "output_type": "execute_result"
    }
   ],
   "source": [
    "xb.score(feat_test,np.argmax(y_test,axis=1))"
   ]
  },
  {
   "cell_type": "code",
   "execution_count": 32,
   "metadata": {},
   "outputs": [],
   "source": [
    "Pred_labels = xb.predict(feat_test)"
   ]
  },
  {
   "cell_type": "code",
   "execution_count": 33,
   "metadata": {},
   "outputs": [
    {
     "data": {
      "image/png": "[encoded data removed]",
      "text/plain": [
       "<Figure size 864x864 with 2 Axes>"
      ]
     },
     "metadata": {
      "needs_background": "light"
     },
     "output_type": "display_data"
    }
   ],
   "source": [
    "plot_heatmap(confusion_matrix(pred, np.argmax(y_test,axis =1)),'XGB')"
   ]
  },
  {
   "cell_type": "code",
   "execution_count": 34,
   "metadata": {},
   "outputs": [
    {
     "name": "stdout",
     "output_type": "stream",
     "text": [
      "              precision    recall  f1-score   support\n",
      "\n",
      "           0     0.9877    0.9764    0.9820      1398\n",
      "           1     0.9782    0.9887    0.9834      1500\n",
      "\n",
      "    accuracy                         0.9827      2898\n",
      "   macro avg     0.9830    0.9825    0.9827      2898\n",
      "weighted avg     0.9828    0.9827    0.9827      2898\n",
      "\n"
     ]
    }
   ],
   "source": [
    "print(classification_report(Pred_labels, np.argmax(y_test,axis =1),digits=4))"
   ]
  },
  {
   "cell_type": "code",
   "execution_count": 35,
   "metadata": {},
   "outputs": [],
   "source": [
    "from sklearn.ensemble import RandomForestClassifier\n",
    "from sklearn.linear_model import LogisticRegression\n",
    "from sklearn.tree import DecisionTreeClassifier\n",
    "from sklearn.neighbors import KNeighborsClassifier\n",
    "from sklearn.discriminant_analysis import LinearDiscriminantAnalysis\n",
    "from sklearn.naive_bayes import GaussianNB\n",
    "from sklearn.svm import SVC\n",
    "from xgboost import XGBClassifier\n",
    "from sklearn.ensemble import BaggingClassifier, ExtraTreesClassifier\n",
    "from sklearn.ensemble import VotingClassifier\n",
    "from sklearn.ensemble import GradientBoostingClassifier\n",
    "from sklearn import model_selection"
   ]
  },
  {
   "cell_type": "code",
   "execution_count": 36,
   "metadata": {},
   "outputs": [
    {
     "name": "stdout",
     "output_type": "stream",
     "text": [
      "0.33734869956970215\n",
      "fitting done !!!\n"
     ]
    }
   ],
   "source": [
    "lr = LogisticRegression()\n",
    "start = time.time() # Measuring the processing time\n",
    "lr.fit(feat_train,np.argmax(y_train,axis=1))\n",
    "end = time.time()\n",
    "print(end - start)\n",
    "\n",
    "print('fitting done !!!')"
   ]
  },
  {
   "cell_type": "code",
   "execution_count": 37,
   "metadata": {},
   "outputs": [
    {
     "name": "stdout",
     "output_type": "stream",
     "text": [
      "              precision    recall  f1-score   support\n",
      "\n",
      "           0     0.9891    0.9750    0.9820      1402\n",
      "           1     0.9769    0.9900    0.9834      1496\n",
      "\n",
      "    accuracy                         0.9827      2898\n",
      "   macro avg     0.9830    0.9825    0.9827      2898\n",
      "weighted avg     0.9828    0.9827    0.9827      2898\n",
      "\n"
     ]
    }
   ],
   "source": [
    "Pred_labels = lr.predict(feat_test)\n",
    "print(classification_report(Pred_labels, np.argmax(y_test,axis =1),digits=4))"
   ]
  },
  {
   "cell_type": "code",
   "execution_count": 38,
   "metadata": {},
   "outputs": [
    {
     "data": {
      "image/png": "[encoded data removed]",
      "text/plain": [
       "<Figure size 864x864 with 2 Axes>"
      ]
     },
     "metadata": {
      "needs_background": "light"
     },
     "output_type": "display_data"
    }
   ],
   "source": [
    "plot_heatmap(confusion_matrix(pred, np.argmax(y_test,axis =1)),'LR')"
   ]
  },
  {
   "cell_type": "code",
   "execution_count": 39,
   "metadata": {},
   "outputs": [
    {
     "name": "stdout",
     "output_type": "stream",
     "text": [
      "0.19976305961608887\n",
      "fitting done !!!\n",
      "              precision    recall  f1-score   support\n",
      "\n",
      "           0     0.9877    0.9764    0.9820      1398\n",
      "           1     0.9782    0.9887    0.9834      1500\n",
      "\n",
      "    accuracy                         0.9827      2898\n",
      "   macro avg     0.9830    0.9825    0.9827      2898\n",
      "weighted avg     0.9828    0.9827    0.9827      2898\n",
      "\n"
     ]
    }
   ],
   "source": [
    "dt = DecisionTreeClassifier()\n",
    "start = time.time() # Measuring the processing time\n",
    "dt.fit(feat_train,np.argmax(y_train,axis=1))\n",
    "end = time.time()\n",
    "print(end - start)\n",
    "\n",
    "print('fitting done !!!')\n",
    "Pred_labels = dt.predict(feat_test)\n",
    "print(classification_report(Pred_labels, np.argmax(y_test,axis =1),digits=4))"
   ]
  },
  {
   "cell_type": "code",
   "execution_count": 40,
   "metadata": {},
   "outputs": [
    {
     "data": {
      "image/png": "[encoded data removed]",
      "text/plain": [
       "<Figure size 864x864 with 2 Axes>"
      ]
     },
     "metadata": {
      "needs_background": "light"
     },
     "output_type": "display_data"
    }
   ],
   "source": [
    "plot_heatmap(confusion_matrix(pred, np.argmax(y_test,axis =1)),'DT')"
   ]
  },
  {
   "cell_type": "code",
   "execution_count": 41,
   "metadata": {},
   "outputs": [
    {
     "name": "stdout",
     "output_type": "stream",
     "text": [
      "0.22854828834533691\n",
      "fitting done !!!\n",
      "              precision    recall  f1-score   support\n",
      "\n",
      "           0     0.9863    0.9792    0.9827      1392\n",
      "           1     0.9809    0.9874    0.9841      1506\n",
      "\n",
      "    accuracy                         0.9834      2898\n",
      "   macro avg     0.9836    0.9833    0.9834      2898\n",
      "weighted avg     0.9835    0.9834    0.9834      2898\n",
      "\n"
     ]
    }
   ],
   "source": [
    "knn = KNeighborsClassifier()\n",
    "start = time.time() # Measuring the processing time\n",
    "knn.fit(feat_train,np.argmax(y_train,axis=1))\n",
    "end = time.time()\n",
    "print(end - start)\n",
    "\n",
    "print('fitting done !!!')\n",
    "Pred_labels = knn.predict(feat_test)\n",
    "print(classification_report(Pred_labels, np.argmax(y_test,axis =1),digits=4))"
   ]
  },
  {
   "cell_type": "code",
   "execution_count": 42,
   "metadata": {},
   "outputs": [
    {
     "data": {
      "image/png": "[encoded data removed]",
      "text/plain": [
       "<Figure size 864x864 with 2 Axes>"
      ]
     },
     "metadata": {
      "needs_background": "light"
     },
     "output_type": "display_data"
    }
   ],
   "source": [
    "plot_heatmap(confusion_matrix(pred, np.argmax(y_test,axis =1)),'KNN')"
   ]
  },
  {
   "cell_type": "code",
   "execution_count": 43,
   "metadata": {},
   "outputs": [
    {
     "name": "stdout",
     "output_type": "stream",
     "text": [
      "0.33287572860717773\n",
      "fitting done !!!\n",
      "              precision    recall  f1-score   support\n",
      "\n",
      "           0     0.9899    0.9751    0.9824      1403\n",
      "           1     0.9769    0.9906    0.9837      1495\n",
      "\n",
      "    accuracy                         0.9831      2898\n",
      "   macro avg     0.9834    0.9828    0.9831      2898\n",
      "weighted avg     0.9832    0.9831    0.9831      2898\n",
      "\n"
     ]
    }
   ],
   "source": [
    "lda = LinearDiscriminantAnalysis()\n",
    "start = time.time() # Measuring the processing time\n",
    "lda.fit(feat_train,np.argmax(y_train,axis=1))\n",
    "end = time.time()\n",
    "print(end - start)\n",
    "\n",
    "print('fitting done !!!')\n",
    "Pred_labels = lda.predict(feat_test)\n",
    "print(classification_report(Pred_labels, np.argmax(y_test,axis =1),digits=4))"
   ]
  },
  {
   "cell_type": "code",
   "execution_count": 44,
   "metadata": {},
   "outputs": [
    {
     "name": "stdout",
     "output_type": "stream",
     "text": [
      "0.0039637088775634766\n",
      "fitting done !!!\n",
      "              precision    recall  f1-score   support\n",
      "\n",
      "           0     0.9877    0.9771    0.9824      1397\n",
      "           1     0.9789    0.9887    0.9838      1501\n",
      "\n",
      "    accuracy                         0.9831      2898\n",
      "   macro avg     0.9833    0.9829    0.9831      2898\n",
      "weighted avg     0.9831    0.9831    0.9831      2898\n",
      "\n"
     ]
    }
   ],
   "source": [
    "nb = GaussianNB()\n",
    "start = time.time() # Measuring the processing time\n",
    "nb.fit(feat_train,np.argmax(y_train,axis=1))\n",
    "end = time.time()\n",
    "print(end - start)\n",
    "\n",
    "print('fitting done !!!')\n",
    "Pred_labels = nb.predict(feat_test)\n",
    "print(classification_report(Pred_labels, np.argmax(y_test,axis =1),digits=4))"
   ]
  },
  {
   "cell_type": "code",
   "execution_count": 45,
   "metadata": {},
   "outputs": [
    {
     "data": {
      "image/png": "[encoded data removed]",
      "text/plain": [
       "<Figure size 864x864 with 2 Axes>"
      ]
     },
     "metadata": {
      "needs_background": "light"
     },
     "output_type": "display_data"
    }
   ],
   "source": [
    "plot_heatmap(confusion_matrix(pred, np.argmax(y_test,axis =1)),'GNB')"
   ]
  },
  {
   "cell_type": "code",
   "execution_count": 46,
   "metadata": {},
   "outputs": [
    {
     "name": "stdout",
     "output_type": "stream",
     "text": [
      "0.29716944694519043\n",
      "fitting done !!!\n",
      "              precision    recall  f1-score   support\n",
      "\n",
      "           0     0.9870    0.9757    0.9813      1398\n",
      "           1     0.9776    0.9880    0.9828      1500\n",
      "\n",
      "    accuracy                         0.9821      2898\n",
      "   macro avg     0.9823    0.9818    0.9820      2898\n",
      "weighted avg     0.9821    0.9821    0.9821      2898\n",
      "\n"
     ]
    }
   ],
   "source": [
    "et = ExtraTreesClassifier()\n",
    "start = time.time() # Measuring the processing time\n",
    "et.fit(feat_train,np.argmax(y_train,axis=1))\n",
    "end = time.time()\n",
    "print(end - start)\n",
    "\n",
    "print('fitting done !!!')\n",
    "Pred_labels = et.predict(feat_test)\n",
    "print(classification_report(Pred_labels, np.argmax(y_test,axis =1),digits=4))"
   ]
  },
  {
   "cell_type": "code",
   "execution_count": 47,
   "metadata": {},
   "outputs": [
    {
     "data": {
      "image/png": "[encoded data removed]",
      "text/plain": [
       "<Figure size 864x864 with 2 Axes>"
      ]
     },
     "metadata": {
      "needs_background": "light"
     },
     "output_type": "display_data"
    }
   ],
   "source": [
    "plot_heatmap(confusion_matrix(pred, np.argmax(y_test,axis =1)),'ETC')"
   ]
  },
  {
   "cell_type": "code",
   "execution_count": 53,
   "metadata": {},
   "outputs": [
    {
     "name": "stdout",
     "output_type": "stream",
     "text": [
      "0.4670100212097168\n",
      "fitting done !!!\n",
      "              precision    recall  f1-score   support\n",
      "\n",
      "           0     0.9870    0.9757    0.9813      1398\n",
      "           1     0.9776    0.9880    0.9828      1500\n",
      "\n",
      "    accuracy                         0.9821      2898\n",
      "   macro avg     0.9823    0.9818    0.9820      2898\n",
      "weighted avg     0.9821    0.9821    0.9821      2898\n",
      "\n"
     ]
    }
   ],
   "source": [
    "rf = RandomForestClassifier()\n",
    "start = time.time() # Measuring the processing time\n",
    "rf.fit(feat_train,np.argmax(y_train,axis=1))\n",
    "end = time.time()\n",
    "print(end - start) # Total\n",
    "\n",
    "print('fitting done !!!')\n",
    "Pred_labels = et.predict(feat_test)\n",
    "print(classification_report(Pred_labels, np.argmax(y_test,axis =1), digits=4))"
   ]
  },
  {
   "cell_type": "code",
   "execution_count": 54,
   "metadata": {},
   "outputs": [
    {
     "data": {
      "image/png": "[encoded data removed]",
      "text/plain": [
       "<Figure size 864x864 with 2 Axes>"
      ]
     },
     "metadata": {
      "needs_background": "light"
     },
     "output_type": "display_data"
    }
   ],
   "source": [
    "plot_heatmap(confusion_matrix(Pred_labels, np.argmax(y_test,axis =1)),'rf')"
   ]
  },
  {
   "cell_type": "code",
   "execution_count": 55,
   "metadata": {},
   "outputs": [
    {
     "name": "stdout",
     "output_type": "stream",
     "text": [
      "0.05454230308532715\n",
      "fitting done !!!\n",
      "              precision    recall  f1-score   support\n",
      "\n",
      "           0     0.9870    0.9757    0.9813      1398\n",
      "           1     0.9776    0.9880    0.9828      1500\n",
      "\n",
      "    accuracy                         0.9821      2898\n",
      "   macro avg     0.9823    0.9818    0.9820      2898\n",
      "weighted avg     0.9821    0.9821    0.9821      2898\n",
      "\n"
     ]
    }
   ],
   "source": [
    "import lightgbm as lgb\n",
    "lg = lgb.LGBMClassifier(boosting_type='gbdt', class_weight=None, colsample_bytree=1.0,\n",
    "               importance_type='split', learning_rate=0.1, max_depth=-1,\n",
    "               min_child_samples=20, min_child_weight=0.001, min_split_gain=0.0,\n",
    "               n_estimators=100, n_jobs=-1, num_leaves=31, objective=None,\n",
    "               random_state=None, reg_alpha=0.0, reg_lambda=0.0, silent=True,\n",
    "               subsample=1.0, subsample_for_bin=200000, subsample_freq=0)\n",
    "start = time.time() # Measuring the processing time\n",
    "lg.fit(feat_train,np.argmax(y_train,axis=1))\n",
    "end = time.time()\n",
    "print(end - start) # Total\n",
    "\n",
    "print('fitting done !!!')\n",
    "Pred_labels = et.predict(feat_test)\n",
    "print(classification_report(Pred_labels, np.argmax(y_test,axis =1), digits=4))"
   ]
  },
  {
   "cell_type": "code",
   "execution_count": 56,
   "metadata": {},
   "outputs": [
    {
     "name": "stdout",
     "output_type": "stream",
     "text": [
      "Learning rate set to 0.029327\n",
      "0:\tlearn: 0.5835965\ttotal: 164ms\tremaining: 2m 43s\n",
      "1:\tlearn: 0.5011158\ttotal: 170ms\tremaining: 1m 25s\n",
      "2:\tlearn: 0.4207281\ttotal: 177ms\tremaining: 58.9s\n",
      "3:\tlearn: 0.3582554\ttotal: 189ms\tremaining: 47s\n",
      "4:\tlearn: 0.3028806\ttotal: 196ms\tremaining: 39s\n",
      "5:\tlearn: 0.2581205\ttotal: 204ms\tremaining: 33.8s\n",
      "6:\tlearn: 0.2227292\ttotal: 210ms\tremaining: 29.8s\n",
      "7:\tlearn: 0.1957670\ttotal: 216ms\tremaining: 26.8s\n",
      "8:\tlearn: 0.1721935\ttotal: 222ms\tremaining: 24.4s\n",
      "9:\tlearn: 0.1484378\ttotal: 228ms\tremaining: 22.6s\n",
      "10:\tlearn: 0.1267498\ttotal: 235ms\tremaining: 21.2s\n",
      "11:\tlearn: 0.1099361\ttotal: 241ms\tremaining: 19.9s\n",
      "12:\tlearn: 0.0952810\ttotal: 248ms\tremaining: 18.8s\n",
      "13:\tlearn: 0.0829570\ttotal: 254ms\tremaining: 17.9s\n",
      "14:\tlearn: 0.0724187\ttotal: 260ms\tremaining: 17.1s\n",
      "15:\tlearn: 0.0633541\ttotal: 267ms\tremaining: 16.4s\n",
      "16:\tlearn: 0.0553750\ttotal: 274ms\tremaining: 15.8s\n",
      "17:\tlearn: 0.0480693\ttotal: 280ms\tremaining: 15.3s\n",
      "18:\tlearn: 0.0428878\ttotal: 286ms\tremaining: 14.8s\n",
      "19:\tlearn: 0.0374419\ttotal: 292ms\tremaining: 14.3s\n",
      "20:\tlearn: 0.0336596\ttotal: 299ms\tremaining: 14s\n",
      "21:\tlearn: 0.0303253\ttotal: 306ms\tremaining: 13.6s\n",
      "22:\tlearn: 0.0270678\ttotal: 312ms\tremaining: 13.3s\n",
      "23:\tlearn: 0.0241884\ttotal: 318ms\tremaining: 12.9s\n",
      "24:\tlearn: 0.0220836\ttotal: 325ms\tremaining: 12.7s\n",
      "25:\tlearn: 0.0199121\ttotal: 331ms\tremaining: 12.4s\n",
      "26:\tlearn: 0.0182261\ttotal: 337ms\tremaining: 12.1s\n",
      "27:\tlearn: 0.0167278\ttotal: 344ms\tremaining: 11.9s\n",
      "28:\tlearn: 0.0154854\ttotal: 350ms\tremaining: 11.7s\n",
      "29:\tlearn: 0.0144249\ttotal: 358ms\tremaining: 11.6s\n",
      "30:\tlearn: 0.0133809\ttotal: 367ms\tremaining: 11.5s\n",
      "31:\tlearn: 0.0125178\ttotal: 374ms\tremaining: 11.3s\n",
      "32:\tlearn: 0.0116681\ttotal: 380ms\tremaining: 11.1s\n",
      "33:\tlearn: 0.0110029\ttotal: 386ms\tremaining: 11s\n",
      "34:\tlearn: 0.0103125\ttotal: 393ms\tremaining: 10.8s\n",
      "35:\tlearn: 0.0097274\ttotal: 399ms\tremaining: 10.7s\n",
      "36:\tlearn: 0.0092930\ttotal: 405ms\tremaining: 10.5s\n",
      "37:\tlearn: 0.0088845\ttotal: 411ms\tremaining: 10.4s\n",
      "38:\tlearn: 0.0084416\ttotal: 417ms\tremaining: 10.3s\n",
      "39:\tlearn: 0.0081450\ttotal: 423ms\tremaining: 10.2s\n",
      "40:\tlearn: 0.0078522\ttotal: 429ms\tremaining: 10s\n",
      "41:\tlearn: 0.0075469\ttotal: 435ms\tremaining: 9.93s\n",
      "42:\tlearn: 0.0072863\ttotal: 441ms\tremaining: 9.82s\n",
      "43:\tlearn: 0.0070318\ttotal: 448ms\tremaining: 9.72s\n",
      "44:\tlearn: 0.0068127\ttotal: 454ms\tremaining: 9.64s\n",
      "45:\tlearn: 0.0065823\ttotal: 460ms\tremaining: 9.55s\n",
      "46:\tlearn: 0.0063940\ttotal: 466ms\tremaining: 9.46s\n",
      "47:\tlearn: 0.0062402\ttotal: 472ms\tremaining: 9.37s\n",
      "48:\tlearn: 0.0060214\ttotal: 478ms\tremaining: 9.28s\n",
      "49:\tlearn: 0.0059041\ttotal: 484ms\tremaining: 9.2s\n",
      "50:\tlearn: 0.0057526\ttotal: 490ms\tremaining: 9.12s\n",
      "51:\tlearn: 0.0056379\ttotal: 496ms\tremaining: 9.04s\n",
      "52:\tlearn: 0.0055422\ttotal: 502ms\tremaining: 8.96s\n",
      "53:\tlearn: 0.0054452\ttotal: 507ms\tremaining: 8.89s\n",
      "54:\tlearn: 0.0053494\ttotal: 513ms\tremaining: 8.82s\n",
      "55:\tlearn: 0.0052854\ttotal: 518ms\tremaining: 8.73s\n",
      "56:\tlearn: 0.0051951\ttotal: 523ms\tremaining: 8.65s\n",
      "57:\tlearn: 0.0051279\ttotal: 529ms\tremaining: 8.58s\n",
      "58:\tlearn: 0.0050729\ttotal: 534ms\tremaining: 8.52s\n",
      "59:\tlearn: 0.0049936\ttotal: 541ms\tremaining: 8.47s\n",
      "60:\tlearn: 0.0049429\ttotal: 549ms\tremaining: 8.45s\n",
      "61:\tlearn: 0.0049040\ttotal: 554ms\tremaining: 8.39s\n",
      "62:\tlearn: 0.0048676\ttotal: 560ms\tremaining: 8.32s\n",
      "63:\tlearn: 0.0048141\ttotal: 565ms\tremaining: 8.26s\n",
      "64:\tlearn: 0.0047713\ttotal: 571ms\tremaining: 8.21s\n",
      "65:\tlearn: 0.0047337\ttotal: 576ms\tremaining: 8.15s\n",
      "66:\tlearn: 0.0046918\ttotal: 582ms\tremaining: 8.1s\n",
      "67:\tlearn: 0.0046679\ttotal: 586ms\tremaining: 8.04s\n",
      "68:\tlearn: 0.0046277\ttotal: 592ms\tremaining: 7.99s\n",
      "69:\tlearn: 0.0045879\ttotal: 598ms\tremaining: 7.94s\n",
      "70:\tlearn: 0.0045497\ttotal: 603ms\tremaining: 7.89s\n",
      "71:\tlearn: 0.0045188\ttotal: 607ms\tremaining: 7.83s\n",
      "72:\tlearn: 0.0044901\ttotal: 612ms\tremaining: 7.77s\n",
      "73:\tlearn: 0.0044744\ttotal: 617ms\tremaining: 7.72s\n",
      "74:\tlearn: 0.0044462\ttotal: 623ms\tremaining: 7.69s\n",
      "75:\tlearn: 0.0044130\ttotal: 629ms\tremaining: 7.65s\n",
      "76:\tlearn: 0.0043969\ttotal: 636ms\tremaining: 7.62s\n",
      "77:\tlearn: 0.0043840\ttotal: 643ms\tremaining: 7.6s\n",
      "78:\tlearn: 0.0043655\ttotal: 649ms\tremaining: 7.56s\n",
      "79:\tlearn: 0.0043544\ttotal: 655ms\tremaining: 7.54s\n",
      "80:\tlearn: 0.0043438\ttotal: 661ms\tremaining: 7.5s\n",
      "81:\tlearn: 0.0043192\ttotal: 671ms\tremaining: 7.51s\n",
      "82:\tlearn: 0.0042786\ttotal: 678ms\tremaining: 7.49s\n",
      "83:\tlearn: 0.0042684\ttotal: 684ms\tremaining: 7.45s\n",
      "84:\tlearn: 0.0042522\ttotal: 692ms\tremaining: 7.45s\n",
      "85:\tlearn: 0.0042360\ttotal: 702ms\tremaining: 7.46s\n",
      "86:\tlearn: 0.0042282\ttotal: 708ms\tremaining: 7.43s\n",
      "87:\tlearn: 0.0042078\ttotal: 715ms\tremaining: 7.41s\n",
      "88:\tlearn: 0.0041899\ttotal: 722ms\tremaining: 7.39s\n",
      "89:\tlearn: 0.0041800\ttotal: 728ms\tremaining: 7.36s\n",
      "90:\tlearn: 0.0041480\ttotal: 736ms\tremaining: 7.35s\n",
      "91:\tlearn: 0.0041297\ttotal: 741ms\tremaining: 7.32s\n",
      "92:\tlearn: 0.0041222\ttotal: 748ms\tremaining: 7.29s\n",
      "93:\tlearn: 0.0040888\ttotal: 755ms\tremaining: 7.28s\n",
      "94:\tlearn: 0.0040635\ttotal: 768ms\tremaining: 7.31s\n",
      "95:\tlearn: 0.0040475\ttotal: 775ms\tremaining: 7.3s\n",
      "96:\tlearn: 0.0040296\ttotal: 780ms\tremaining: 7.26s\n",
      "97:\tlearn: 0.0040214\ttotal: 786ms\tremaining: 7.23s\n",
      "98:\tlearn: 0.0040047\ttotal: 792ms\tremaining: 7.2s\n",
      "99:\tlearn: 0.0039951\ttotal: 797ms\tremaining: 7.17s\n",
      "100:\tlearn: 0.0039846\ttotal: 817ms\tremaining: 7.28s\n",
      "101:\tlearn: 0.0039724\ttotal: 826ms\tremaining: 7.27s\n",
      "102:\tlearn: 0.0039628\ttotal: 835ms\tremaining: 7.27s\n",
      "103:\tlearn: 0.0039525\ttotal: 845ms\tremaining: 7.28s\n",
      "104:\tlearn: 0.0039525\ttotal: 851ms\tremaining: 7.25s\n",
      "105:\tlearn: 0.0039413\ttotal: 859ms\tremaining: 7.25s\n",
      "106:\tlearn: 0.0039203\ttotal: 870ms\tremaining: 7.26s\n",
      "107:\tlearn: 0.0039143\ttotal: 880ms\tremaining: 7.26s\n",
      "108:\tlearn: 0.0039143\ttotal: 885ms\tremaining: 7.23s\n",
      "109:\tlearn: 0.0039012\ttotal: 895ms\tremaining: 7.24s\n",
      "110:\tlearn: 0.0039012\ttotal: 900ms\tremaining: 7.21s\n",
      "111:\tlearn: 0.0039012\ttotal: 905ms\tremaining: 7.18s\n",
      "112:\tlearn: 0.0038971\ttotal: 913ms\tremaining: 7.17s\n",
      "113:\tlearn: 0.0038971\ttotal: 918ms\tremaining: 7.14s\n",
      "114:\tlearn: 0.0038879\ttotal: 925ms\tremaining: 7.12s\n",
      "115:\tlearn: 0.0038841\ttotal: 930ms\tremaining: 7.09s\n",
      "116:\tlearn: 0.0038702\ttotal: 935ms\tremaining: 7.06s\n",
      "117:\tlearn: 0.0038486\ttotal: 941ms\tremaining: 7.03s\n",
      "118:\tlearn: 0.0038309\ttotal: 948ms\tremaining: 7.02s\n",
      "119:\tlearn: 0.0038168\ttotal: 953ms\tremaining: 6.99s\n",
      "120:\tlearn: 0.0038168\ttotal: 957ms\tremaining: 6.95s\n",
      "121:\tlearn: 0.0038168\ttotal: 962ms\tremaining: 6.92s\n",
      "122:\tlearn: 0.0038112\ttotal: 967ms\tremaining: 6.89s\n",
      "123:\tlearn: 0.0038011\ttotal: 973ms\tremaining: 6.87s\n",
      "124:\tlearn: 0.0038011\ttotal: 977ms\tremaining: 6.84s\n",
      "125:\tlearn: 0.0038011\ttotal: 981ms\tremaining: 6.8s\n",
      "126:\tlearn: 0.0038010\ttotal: 985ms\tremaining: 6.77s\n",
      "127:\tlearn: 0.0037980\ttotal: 990ms\tremaining: 6.74s\n",
      "128:\tlearn: 0.0037980\ttotal: 995ms\tremaining: 6.72s\n",
      "129:\tlearn: 0.0037980\ttotal: 999ms\tremaining: 6.69s\n",
      "130:\tlearn: 0.0037958\ttotal: 1s\tremaining: 6.66s\n",
      "131:\tlearn: 0.0037945\ttotal: 1.01s\tremaining: 6.63s\n",
      "132:\tlearn: 0.0037802\ttotal: 1.01s\tremaining: 6.62s\n",
      "133:\tlearn: 0.0037715\ttotal: 1.02s\tremaining: 6.6s\n",
      "134:\tlearn: 0.0037548\ttotal: 1.03s\tremaining: 6.58s\n",
      "135:\tlearn: 0.0037418\ttotal: 1.03s\tremaining: 6.56s\n",
      "136:\tlearn: 0.0037418\ttotal: 1.04s\tremaining: 6.54s\n",
      "137:\tlearn: 0.0037418\ttotal: 1.04s\tremaining: 6.51s\n",
      "138:\tlearn: 0.0037407\ttotal: 1.05s\tremaining: 6.48s\n",
      "139:\tlearn: 0.0037407\ttotal: 1.05s\tremaining: 6.45s\n",
      "140:\tlearn: 0.0037284\ttotal: 1.05s\tremaining: 6.43s\n",
      "141:\tlearn: 0.0037284\ttotal: 1.06s\tremaining: 6.4s\n",
      "142:\tlearn: 0.0037284\ttotal: 1.06s\tremaining: 6.37s\n",
      "143:\tlearn: 0.0037122\ttotal: 1.07s\tremaining: 6.36s\n",
      "144:\tlearn: 0.0037122\ttotal: 1.07s\tremaining: 6.33s\n",
      "145:\tlearn: 0.0037122\ttotal: 1.08s\tremaining: 6.3s\n",
      "146:\tlearn: 0.0037122\ttotal: 1.08s\tremaining: 6.27s\n",
      "147:\tlearn: 0.0037122\ttotal: 1.08s\tremaining: 6.24s\n",
      "148:\tlearn: 0.0037122\ttotal: 1.09s\tremaining: 6.22s\n",
      "149:\tlearn: 0.0037028\ttotal: 1.09s\tremaining: 6.2s\n",
      "150:\tlearn: 0.0036958\ttotal: 1.1s\tremaining: 6.18s\n",
      "151:\tlearn: 0.0036904\ttotal: 1.1s\tremaining: 6.16s\n",
      "152:\tlearn: 0.0036867\ttotal: 1.11s\tremaining: 6.14s\n",
      "153:\tlearn: 0.0036867\ttotal: 1.11s\tremaining: 6.11s\n",
      "154:\tlearn: 0.0036867\ttotal: 1.12s\tremaining: 6.09s\n",
      "155:\tlearn: 0.0036775\ttotal: 1.12s\tremaining: 6.07s\n",
      "156:\tlearn: 0.0036775\ttotal: 1.13s\tremaining: 6.05s\n",
      "157:\tlearn: 0.0036775\ttotal: 1.13s\tremaining: 6.02s\n",
      "158:\tlearn: 0.0036775\ttotal: 1.14s\tremaining: 6s\n",
      "159:\tlearn: 0.0036775\ttotal: 1.14s\tremaining: 5.98s\n",
      "160:\tlearn: 0.0036775\ttotal: 1.14s\tremaining: 5.96s\n",
      "161:\tlearn: 0.0036775\ttotal: 1.15s\tremaining: 5.94s\n",
      "162:\tlearn: 0.0036775\ttotal: 1.15s\tremaining: 5.92s\n",
      "163:\tlearn: 0.0036775\ttotal: 1.16s\tremaining: 5.89s\n",
      "164:\tlearn: 0.0036640\ttotal: 1.16s\tremaining: 5.89s\n",
      "165:\tlearn: 0.0036640\ttotal: 1.17s\tremaining: 5.87s\n",
      "166:\tlearn: 0.0036640\ttotal: 1.17s\tremaining: 5.85s\n",
      "167:\tlearn: 0.0036519\ttotal: 1.18s\tremaining: 5.85s\n",
      "168:\tlearn: 0.0036519\ttotal: 1.19s\tremaining: 5.83s\n",
      "169:\tlearn: 0.0036519\ttotal: 1.19s\tremaining: 5.81s\n",
      "170:\tlearn: 0.0036519\ttotal: 1.19s\tremaining: 5.79s\n",
      "171:\tlearn: 0.0036519\ttotal: 1.21s\tremaining: 5.81s\n"
     ]
    },
    {
     "name": "stdout",
     "output_type": "stream",
     "text": [
      "172:\tlearn: 0.0036519\ttotal: 1.21s\tremaining: 5.8s\n",
      "173:\tlearn: 0.0036519\ttotal: 1.22s\tremaining: 5.78s\n",
      "174:\tlearn: 0.0036519\ttotal: 1.22s\tremaining: 5.77s\n",
      "175:\tlearn: 0.0036519\ttotal: 1.23s\tremaining: 5.75s\n",
      "176:\tlearn: 0.0036519\ttotal: 1.23s\tremaining: 5.74s\n",
      "177:\tlearn: 0.0036519\ttotal: 1.24s\tremaining: 5.74s\n",
      "178:\tlearn: 0.0036519\ttotal: 1.25s\tremaining: 5.72s\n",
      "179:\tlearn: 0.0036519\ttotal: 1.25s\tremaining: 5.71s\n",
      "180:\tlearn: 0.0036518\ttotal: 1.26s\tremaining: 5.69s\n",
      "181:\tlearn: 0.0036518\ttotal: 1.26s\tremaining: 5.68s\n",
      "182:\tlearn: 0.0036518\ttotal: 1.27s\tremaining: 5.66s\n",
      "183:\tlearn: 0.0036518\ttotal: 1.27s\tremaining: 5.65s\n",
      "184:\tlearn: 0.0036518\ttotal: 1.28s\tremaining: 5.64s\n",
      "185:\tlearn: 0.0036518\ttotal: 1.28s\tremaining: 5.63s\n",
      "186:\tlearn: 0.0036518\ttotal: 1.29s\tremaining: 5.61s\n",
      "187:\tlearn: 0.0036518\ttotal: 1.3s\tremaining: 5.6s\n",
      "188:\tlearn: 0.0036518\ttotal: 1.3s\tremaining: 5.59s\n",
      "189:\tlearn: 0.0036518\ttotal: 1.31s\tremaining: 5.57s\n",
      "190:\tlearn: 0.0036518\ttotal: 1.31s\tremaining: 5.56s\n",
      "191:\tlearn: 0.0036518\ttotal: 1.32s\tremaining: 5.56s\n",
      "192:\tlearn: 0.0036518\ttotal: 1.33s\tremaining: 5.54s\n",
      "193:\tlearn: 0.0036518\ttotal: 1.33s\tremaining: 5.53s\n",
      "194:\tlearn: 0.0036518\ttotal: 1.34s\tremaining: 5.52s\n",
      "195:\tlearn: 0.0036518\ttotal: 1.34s\tremaining: 5.51s\n",
      "196:\tlearn: 0.0036517\ttotal: 1.35s\tremaining: 5.5s\n",
      "197:\tlearn: 0.0036446\ttotal: 1.35s\tremaining: 5.49s\n",
      "198:\tlearn: 0.0036446\ttotal: 1.36s\tremaining: 5.47s\n",
      "199:\tlearn: 0.0036446\ttotal: 1.36s\tremaining: 5.46s\n",
      "200:\tlearn: 0.0036354\ttotal: 1.37s\tremaining: 5.45s\n",
      "201:\tlearn: 0.0036354\ttotal: 1.38s\tremaining: 5.43s\n",
      "202:\tlearn: 0.0036354\ttotal: 1.38s\tremaining: 5.42s\n",
      "203:\tlearn: 0.0036354\ttotal: 1.39s\tremaining: 5.41s\n",
      "204:\tlearn: 0.0036354\ttotal: 1.39s\tremaining: 5.39s\n",
      "205:\tlearn: 0.0036354\ttotal: 1.4s\tremaining: 5.38s\n",
      "206:\tlearn: 0.0036239\ttotal: 1.41s\tremaining: 5.39s\n",
      "207:\tlearn: 0.0036239\ttotal: 1.41s\tremaining: 5.37s\n",
      "208:\tlearn: 0.0036239\ttotal: 1.42s\tremaining: 5.36s\n",
      "209:\tlearn: 0.0036239\ttotal: 1.42s\tremaining: 5.35s\n",
      "210:\tlearn: 0.0036239\ttotal: 1.43s\tremaining: 5.33s\n",
      "211:\tlearn: 0.0036238\ttotal: 1.43s\tremaining: 5.31s\n",
      "212:\tlearn: 0.0036238\ttotal: 1.43s\tremaining: 5.3s\n",
      "213:\tlearn: 0.0036238\ttotal: 1.45s\tremaining: 5.31s\n",
      "214:\tlearn: 0.0036238\ttotal: 1.45s\tremaining: 5.29s\n",
      "215:\tlearn: 0.0036238\ttotal: 1.46s\tremaining: 5.28s\n",
      "216:\tlearn: 0.0036238\ttotal: 1.46s\tremaining: 5.27s\n",
      "217:\tlearn: 0.0036238\ttotal: 1.47s\tremaining: 5.26s\n",
      "218:\tlearn: 0.0036238\ttotal: 1.47s\tremaining: 5.25s\n",
      "219:\tlearn: 0.0036238\ttotal: 1.48s\tremaining: 5.23s\n",
      "220:\tlearn: 0.0036238\ttotal: 1.48s\tremaining: 5.22s\n",
      "221:\tlearn: 0.0036238\ttotal: 1.49s\tremaining: 5.2s\n",
      "222:\tlearn: 0.0036238\ttotal: 1.49s\tremaining: 5.19s\n",
      "223:\tlearn: 0.0036238\ttotal: 1.49s\tremaining: 5.17s\n",
      "224:\tlearn: 0.0036238\ttotal: 1.5s\tremaining: 5.16s\n",
      "225:\tlearn: 0.0036238\ttotal: 1.5s\tremaining: 5.14s\n",
      "226:\tlearn: 0.0036238\ttotal: 1.51s\tremaining: 5.13s\n",
      "227:\tlearn: 0.0036238\ttotal: 1.51s\tremaining: 5.12s\n",
      "228:\tlearn: 0.0036238\ttotal: 1.51s\tremaining: 5.1s\n",
      "229:\tlearn: 0.0036238\ttotal: 1.52s\tremaining: 5.09s\n",
      "230:\tlearn: 0.0036238\ttotal: 1.52s\tremaining: 5.07s\n",
      "231:\tlearn: 0.0036238\ttotal: 1.53s\tremaining: 5.06s\n",
      "232:\tlearn: 0.0036238\ttotal: 1.53s\tremaining: 5.04s\n",
      "233:\tlearn: 0.0036238\ttotal: 1.54s\tremaining: 5.03s\n",
      "234:\tlearn: 0.0036141\ttotal: 1.54s\tremaining: 5.02s\n",
      "235:\tlearn: 0.0036141\ttotal: 1.55s\tremaining: 5.01s\n",
      "236:\tlearn: 0.0036141\ttotal: 1.55s\tremaining: 4.99s\n",
      "237:\tlearn: 0.0036141\ttotal: 1.55s\tremaining: 4.98s\n",
      "238:\tlearn: 0.0036141\ttotal: 1.56s\tremaining: 4.97s\n",
      "239:\tlearn: 0.0036141\ttotal: 1.56s\tremaining: 4.96s\n",
      "240:\tlearn: 0.0036141\ttotal: 1.57s\tremaining: 4.94s\n",
      "241:\tlearn: 0.0036141\ttotal: 1.57s\tremaining: 4.93s\n",
      "242:\tlearn: 0.0036141\ttotal: 1.58s\tremaining: 4.91s\n",
      "243:\tlearn: 0.0036141\ttotal: 1.58s\tremaining: 4.9s\n",
      "244:\tlearn: 0.0036141\ttotal: 1.58s\tremaining: 4.88s\n",
      "245:\tlearn: 0.0036141\ttotal: 1.59s\tremaining: 4.87s\n",
      "246:\tlearn: 0.0036114\ttotal: 1.59s\tremaining: 4.86s\n",
      "247:\tlearn: 0.0036113\ttotal: 1.6s\tremaining: 4.85s\n",
      "248:\tlearn: 0.0036113\ttotal: 1.6s\tremaining: 4.83s\n",
      "249:\tlearn: 0.0036113\ttotal: 1.61s\tremaining: 4.82s\n",
      "250:\tlearn: 0.0036113\ttotal: 1.61s\tremaining: 4.8s\n",
      "251:\tlearn: 0.0036113\ttotal: 1.61s\tremaining: 4.79s\n",
      "252:\tlearn: 0.0036113\ttotal: 1.62s\tremaining: 4.78s\n",
      "253:\tlearn: 0.0036113\ttotal: 1.62s\tremaining: 4.76s\n",
      "254:\tlearn: 0.0036113\ttotal: 1.63s\tremaining: 4.75s\n",
      "255:\tlearn: 0.0036113\ttotal: 1.63s\tremaining: 4.74s\n",
      "256:\tlearn: 0.0036113\ttotal: 1.63s\tremaining: 4.72s\n",
      "257:\tlearn: 0.0036074\ttotal: 1.64s\tremaining: 4.72s\n",
      "258:\tlearn: 0.0036074\ttotal: 1.64s\tremaining: 4.7s\n",
      "259:\tlearn: 0.0036074\ttotal: 1.65s\tremaining: 4.69s\n",
      "260:\tlearn: 0.0036027\ttotal: 1.65s\tremaining: 4.68s\n",
      "261:\tlearn: 0.0036027\ttotal: 1.66s\tremaining: 4.67s\n",
      "262:\tlearn: 0.0036027\ttotal: 1.66s\tremaining: 4.66s\n",
      "263:\tlearn: 0.0036027\ttotal: 1.67s\tremaining: 4.64s\n",
      "264:\tlearn: 0.0036027\ttotal: 1.67s\tremaining: 4.63s\n",
      "265:\tlearn: 0.0035942\ttotal: 1.68s\tremaining: 4.62s\n",
      "266:\tlearn: 0.0035942\ttotal: 1.68s\tremaining: 4.61s\n",
      "267:\tlearn: 0.0035941\ttotal: 1.68s\tremaining: 4.6s\n",
      "268:\tlearn: 0.0035941\ttotal: 1.69s\tremaining: 4.59s\n",
      "269:\tlearn: 0.0035941\ttotal: 1.69s\tremaining: 4.57s\n",
      "270:\tlearn: 0.0035941\ttotal: 1.7s\tremaining: 4.56s\n",
      "271:\tlearn: 0.0035941\ttotal: 1.7s\tremaining: 4.55s\n",
      "272:\tlearn: 0.0035941\ttotal: 1.7s\tremaining: 4.54s\n",
      "273:\tlearn: 0.0035941\ttotal: 1.71s\tremaining: 4.52s\n",
      "274:\tlearn: 0.0035941\ttotal: 1.71s\tremaining: 4.51s\n",
      "275:\tlearn: 0.0035941\ttotal: 1.72s\tremaining: 4.5s\n",
      "276:\tlearn: 0.0035941\ttotal: 1.72s\tremaining: 4.49s\n",
      "277:\tlearn: 0.0035941\ttotal: 1.72s\tremaining: 4.47s\n",
      "278:\tlearn: 0.0035839\ttotal: 1.73s\tremaining: 4.47s\n",
      "279:\tlearn: 0.0035839\ttotal: 1.73s\tremaining: 4.46s\n",
      "280:\tlearn: 0.0035838\ttotal: 1.74s\tremaining: 4.45s\n",
      "281:\tlearn: 0.0035838\ttotal: 1.74s\tremaining: 4.44s\n",
      "282:\tlearn: 0.0035838\ttotal: 1.75s\tremaining: 4.42s\n",
      "283:\tlearn: 0.0035814\ttotal: 1.75s\tremaining: 4.41s\n",
      "284:\tlearn: 0.0035814\ttotal: 1.75s\tremaining: 4.4s\n",
      "285:\tlearn: 0.0035814\ttotal: 1.76s\tremaining: 4.39s\n",
      "286:\tlearn: 0.0035786\ttotal: 1.76s\tremaining: 4.38s\n",
      "287:\tlearn: 0.0035786\ttotal: 1.77s\tremaining: 4.37s\n",
      "288:\tlearn: 0.0035786\ttotal: 1.77s\tremaining: 4.36s\n",
      "289:\tlearn: 0.0035786\ttotal: 1.77s\tremaining: 4.35s\n",
      "290:\tlearn: 0.0035786\ttotal: 1.78s\tremaining: 4.33s\n",
      "291:\tlearn: 0.0035786\ttotal: 1.78s\tremaining: 4.32s\n",
      "292:\tlearn: 0.0035746\ttotal: 1.79s\tremaining: 4.32s\n",
      "293:\tlearn: 0.0035746\ttotal: 1.79s\tremaining: 4.3s\n",
      "294:\tlearn: 0.0035631\ttotal: 1.8s\tremaining: 4.29s\n",
      "295:\tlearn: 0.0035631\ttotal: 1.8s\tremaining: 4.28s\n",
      "296:\tlearn: 0.0035631\ttotal: 1.8s\tremaining: 4.27s\n",
      "297:\tlearn: 0.0035631\ttotal: 1.81s\tremaining: 4.26s\n",
      "298:\tlearn: 0.0035545\ttotal: 1.81s\tremaining: 4.25s\n",
      "299:\tlearn: 0.0035545\ttotal: 1.82s\tremaining: 4.24s\n",
      "300:\tlearn: 0.0035513\ttotal: 1.82s\tremaining: 4.23s\n",
      "301:\tlearn: 0.0035467\ttotal: 1.83s\tremaining: 4.22s\n",
      "302:\tlearn: 0.0035467\ttotal: 1.83s\tremaining: 4.21s\n",
      "303:\tlearn: 0.0035467\ttotal: 1.84s\tremaining: 4.21s\n",
      "304:\tlearn: 0.0035425\ttotal: 1.84s\tremaining: 4.2s\n",
      "305:\tlearn: 0.0035425\ttotal: 1.85s\tremaining: 4.19s\n",
      "306:\tlearn: 0.0035425\ttotal: 1.85s\tremaining: 4.18s\n",
      "307:\tlearn: 0.0035425\ttotal: 1.85s\tremaining: 4.17s\n",
      "308:\tlearn: 0.0035425\ttotal: 1.86s\tremaining: 4.16s\n",
      "309:\tlearn: 0.0035425\ttotal: 1.86s\tremaining: 4.15s\n",
      "310:\tlearn: 0.0035425\ttotal: 1.87s\tremaining: 4.14s\n",
      "311:\tlearn: 0.0035425\ttotal: 1.87s\tremaining: 4.13s\n",
      "312:\tlearn: 0.0035425\ttotal: 1.88s\tremaining: 4.12s\n",
      "313:\tlearn: 0.0035425\ttotal: 1.88s\tremaining: 4.11s\n",
      "314:\tlearn: 0.0035425\ttotal: 1.89s\tremaining: 4.1s\n",
      "315:\tlearn: 0.0035425\ttotal: 1.89s\tremaining: 4.09s\n",
      "316:\tlearn: 0.0035424\ttotal: 1.9s\tremaining: 4.08s\n",
      "317:\tlearn: 0.0035346\ttotal: 1.9s\tremaining: 4.08s\n",
      "318:\tlearn: 0.0035346\ttotal: 1.91s\tremaining: 4.07s\n",
      "319:\tlearn: 0.0035346\ttotal: 1.91s\tremaining: 4.06s\n",
      "320:\tlearn: 0.0035346\ttotal: 1.92s\tremaining: 4.05s\n",
      "321:\tlearn: 0.0035309\ttotal: 1.92s\tremaining: 4.05s\n",
      "322:\tlearn: 0.0035309\ttotal: 1.93s\tremaining: 4.04s\n",
      "323:\tlearn: 0.0035309\ttotal: 1.93s\tremaining: 4.03s\n",
      "324:\tlearn: 0.0035247\ttotal: 1.94s\tremaining: 4.02s\n",
      "325:\tlearn: 0.0035247\ttotal: 1.94s\tremaining: 4.01s\n",
      "326:\tlearn: 0.0035247\ttotal: 1.95s\tremaining: 4.01s\n",
      "327:\tlearn: 0.0035246\ttotal: 1.95s\tremaining: 4s\n",
      "328:\tlearn: 0.0035218\ttotal: 1.96s\tremaining: 3.99s\n",
      "329:\tlearn: 0.0035218\ttotal: 1.96s\tremaining: 3.98s\n",
      "330:\tlearn: 0.0035148\ttotal: 1.97s\tremaining: 3.97s\n",
      "331:\tlearn: 0.0035148\ttotal: 1.97s\tremaining: 3.96s\n",
      "332:\tlearn: 0.0035148\ttotal: 1.98s\tremaining: 3.96s\n",
      "333:\tlearn: 0.0035148\ttotal: 1.98s\tremaining: 3.95s\n",
      "334:\tlearn: 0.0035148\ttotal: 1.98s\tremaining: 3.94s\n",
      "335:\tlearn: 0.0035148\ttotal: 1.99s\tremaining: 3.93s\n",
      "336:\tlearn: 0.0035148\ttotal: 2s\tremaining: 3.93s\n",
      "337:\tlearn: 0.0035148\ttotal: 2s\tremaining: 3.93s\n",
      "338:\tlearn: 0.0035097\ttotal: 2.02s\tremaining: 3.93s\n",
      "339:\tlearn: 0.0035018\ttotal: 2.04s\tremaining: 3.96s\n",
      "340:\tlearn: 0.0034953\ttotal: 2.04s\tremaining: 3.95s\n",
      "341:\tlearn: 0.0034953\ttotal: 2.05s\tremaining: 3.94s\n",
      "342:\tlearn: 0.0034922\ttotal: 2.05s\tremaining: 3.93s\n",
      "343:\tlearn: 0.0034922\ttotal: 2.06s\tremaining: 3.92s\n",
      "344:\tlearn: 0.0034922\ttotal: 2.06s\tremaining: 3.92s\n"
     ]
    },
    {
     "name": "stdout",
     "output_type": "stream",
     "text": [
      "345:\tlearn: 0.0034922\ttotal: 2.08s\tremaining: 3.93s\n",
      "346:\tlearn: 0.0034922\ttotal: 2.08s\tremaining: 3.92s\n",
      "347:\tlearn: 0.0034922\ttotal: 2.09s\tremaining: 3.92s\n",
      "348:\tlearn: 0.0034922\ttotal: 2.1s\tremaining: 3.91s\n",
      "349:\tlearn: 0.0034922\ttotal: 2.1s\tremaining: 3.9s\n",
      "350:\tlearn: 0.0034922\ttotal: 2.12s\tremaining: 3.92s\n",
      "351:\tlearn: 0.0034922\ttotal: 2.14s\tremaining: 3.94s\n",
      "352:\tlearn: 0.0034922\ttotal: 2.15s\tremaining: 3.93s\n",
      "353:\tlearn: 0.0034921\ttotal: 2.15s\tremaining: 3.92s\n",
      "354:\tlearn: 0.0034921\ttotal: 2.15s\tremaining: 3.91s\n",
      "355:\tlearn: 0.0034921\ttotal: 2.16s\tremaining: 3.91s\n",
      "356:\tlearn: 0.0034921\ttotal: 2.16s\tremaining: 3.9s\n",
      "357:\tlearn: 0.0034921\ttotal: 2.17s\tremaining: 3.89s\n",
      "358:\tlearn: 0.0034921\ttotal: 2.17s\tremaining: 3.88s\n",
      "359:\tlearn: 0.0034921\ttotal: 2.18s\tremaining: 3.88s\n",
      "360:\tlearn: 0.0034921\ttotal: 2.19s\tremaining: 3.87s\n",
      "361:\tlearn: 0.0034921\ttotal: 2.19s\tremaining: 3.86s\n",
      "362:\tlearn: 0.0034921\ttotal: 2.2s\tremaining: 3.86s\n",
      "363:\tlearn: 0.0034921\ttotal: 2.21s\tremaining: 3.85s\n",
      "364:\tlearn: 0.0034921\ttotal: 2.21s\tremaining: 3.85s\n",
      "365:\tlearn: 0.0034921\ttotal: 2.22s\tremaining: 3.84s\n",
      "366:\tlearn: 0.0034885\ttotal: 2.22s\tremaining: 3.84s\n",
      "367:\tlearn: 0.0034885\ttotal: 2.23s\tremaining: 3.83s\n",
      "368:\tlearn: 0.0034885\ttotal: 2.23s\tremaining: 3.82s\n",
      "369:\tlearn: 0.0034885\ttotal: 2.25s\tremaining: 3.83s\n",
      "370:\tlearn: 0.0034885\ttotal: 2.25s\tremaining: 3.82s\n",
      "371:\tlearn: 0.0034815\ttotal: 2.26s\tremaining: 3.81s\n",
      "372:\tlearn: 0.0034815\ttotal: 2.26s\tremaining: 3.8s\n",
      "373:\tlearn: 0.0034815\ttotal: 2.27s\tremaining: 3.79s\n",
      "374:\tlearn: 0.0034815\ttotal: 2.27s\tremaining: 3.79s\n",
      "375:\tlearn: 0.0034815\ttotal: 2.28s\tremaining: 3.79s\n",
      "376:\tlearn: 0.0034737\ttotal: 2.29s\tremaining: 3.78s\n",
      "377:\tlearn: 0.0034737\ttotal: 2.29s\tremaining: 3.77s\n",
      "378:\tlearn: 0.0034737\ttotal: 2.3s\tremaining: 3.77s\n",
      "379:\tlearn: 0.0034737\ttotal: 2.3s\tremaining: 3.76s\n",
      "380:\tlearn: 0.0034736\ttotal: 2.31s\tremaining: 3.75s\n",
      "381:\tlearn: 0.0034736\ttotal: 2.32s\tremaining: 3.75s\n",
      "382:\tlearn: 0.0034736\ttotal: 2.32s\tremaining: 3.74s\n",
      "383:\tlearn: 0.0034736\ttotal: 2.33s\tremaining: 3.73s\n",
      "384:\tlearn: 0.0034736\ttotal: 2.33s\tremaining: 3.72s\n",
      "385:\tlearn: 0.0034736\ttotal: 2.33s\tremaining: 3.71s\n",
      "386:\tlearn: 0.0034736\ttotal: 2.34s\tremaining: 3.7s\n",
      "387:\tlearn: 0.0034736\ttotal: 2.34s\tremaining: 3.69s\n",
      "388:\tlearn: 0.0034736\ttotal: 2.35s\tremaining: 3.7s\n",
      "389:\tlearn: 0.0034736\ttotal: 2.36s\tremaining: 3.69s\n",
      "390:\tlearn: 0.0034692\ttotal: 2.36s\tremaining: 3.68s\n",
      "391:\tlearn: 0.0034692\ttotal: 2.37s\tremaining: 3.67s\n",
      "392:\tlearn: 0.0034692\ttotal: 2.37s\tremaining: 3.66s\n",
      "393:\tlearn: 0.0034692\ttotal: 2.37s\tremaining: 3.65s\n",
      "394:\tlearn: 0.0034692\ttotal: 2.38s\tremaining: 3.64s\n",
      "395:\tlearn: 0.0034648\ttotal: 2.39s\tremaining: 3.64s\n",
      "396:\tlearn: 0.0034648\ttotal: 2.39s\tremaining: 3.63s\n",
      "397:\tlearn: 0.0034614\ttotal: 2.4s\tremaining: 3.62s\n",
      "398:\tlearn: 0.0034614\ttotal: 2.4s\tremaining: 3.62s\n",
      "399:\tlearn: 0.0034614\ttotal: 2.41s\tremaining: 3.61s\n",
      "400:\tlearn: 0.0034614\ttotal: 2.41s\tremaining: 3.6s\n",
      "401:\tlearn: 0.0034614\ttotal: 2.42s\tremaining: 3.6s\n",
      "402:\tlearn: 0.0034614\ttotal: 2.42s\tremaining: 3.59s\n",
      "403:\tlearn: 0.0034613\ttotal: 2.43s\tremaining: 3.59s\n",
      "404:\tlearn: 0.0034613\ttotal: 2.44s\tremaining: 3.58s\n",
      "405:\tlearn: 0.0034613\ttotal: 2.44s\tremaining: 3.57s\n",
      "406:\tlearn: 0.0034613\ttotal: 2.44s\tremaining: 3.56s\n",
      "407:\tlearn: 0.0034613\ttotal: 2.45s\tremaining: 3.56s\n",
      "408:\tlearn: 0.0034613\ttotal: 2.45s\tremaining: 3.55s\n",
      "409:\tlearn: 0.0034613\ttotal: 2.46s\tremaining: 3.54s\n",
      "410:\tlearn: 0.0034613\ttotal: 2.46s\tremaining: 3.53s\n",
      "411:\tlearn: 0.0034613\ttotal: 2.47s\tremaining: 3.52s\n",
      "412:\tlearn: 0.0034613\ttotal: 2.47s\tremaining: 3.51s\n",
      "413:\tlearn: 0.0034613\ttotal: 2.48s\tremaining: 3.51s\n",
      "414:\tlearn: 0.0034613\ttotal: 2.48s\tremaining: 3.5s\n",
      "415:\tlearn: 0.0034613\ttotal: 2.49s\tremaining: 3.49s\n",
      "416:\tlearn: 0.0034613\ttotal: 2.49s\tremaining: 3.48s\n",
      "417:\tlearn: 0.0034613\ttotal: 2.5s\tremaining: 3.48s\n",
      "418:\tlearn: 0.0034613\ttotal: 2.5s\tremaining: 3.47s\n",
      "419:\tlearn: 0.0034613\ttotal: 2.5s\tremaining: 3.46s\n",
      "420:\tlearn: 0.0034613\ttotal: 2.51s\tremaining: 3.45s\n",
      "421:\tlearn: 0.0034613\ttotal: 2.51s\tremaining: 3.44s\n",
      "422:\tlearn: 0.0034613\ttotal: 2.52s\tremaining: 3.43s\n",
      "423:\tlearn: 0.0034613\ttotal: 2.52s\tremaining: 3.42s\n",
      "424:\tlearn: 0.0034612\ttotal: 2.53s\tremaining: 3.42s\n",
      "425:\tlearn: 0.0034612\ttotal: 2.53s\tremaining: 3.41s\n",
      "426:\tlearn: 0.0034612\ttotal: 2.53s\tremaining: 3.4s\n",
      "427:\tlearn: 0.0034612\ttotal: 2.54s\tremaining: 3.39s\n",
      "428:\tlearn: 0.0034612\ttotal: 2.54s\tremaining: 3.39s\n",
      "429:\tlearn: 0.0034612\ttotal: 2.55s\tremaining: 3.38s\n",
      "430:\tlearn: 0.0034612\ttotal: 2.55s\tremaining: 3.37s\n",
      "431:\tlearn: 0.0034612\ttotal: 2.56s\tremaining: 3.36s\n",
      "432:\tlearn: 0.0034612\ttotal: 2.56s\tremaining: 3.35s\n",
      "433:\tlearn: 0.0034612\ttotal: 2.56s\tremaining: 3.34s\n",
      "434:\tlearn: 0.0034612\ttotal: 2.57s\tremaining: 3.33s\n",
      "435:\tlearn: 0.0034612\ttotal: 2.57s\tremaining: 3.33s\n",
      "436:\tlearn: 0.0034612\ttotal: 2.58s\tremaining: 3.32s\n",
      "437:\tlearn: 0.0034612\ttotal: 2.58s\tremaining: 3.31s\n",
      "438:\tlearn: 0.0034612\ttotal: 2.58s\tremaining: 3.3s\n",
      "439:\tlearn: 0.0034612\ttotal: 2.59s\tremaining: 3.29s\n",
      "440:\tlearn: 0.0034612\ttotal: 2.59s\tremaining: 3.29s\n",
      "441:\tlearn: 0.0034612\ttotal: 2.6s\tremaining: 3.28s\n",
      "442:\tlearn: 0.0034612\ttotal: 2.6s\tremaining: 3.27s\n",
      "443:\tlearn: 0.0034612\ttotal: 2.61s\tremaining: 3.26s\n",
      "444:\tlearn: 0.0034612\ttotal: 2.61s\tremaining: 3.26s\n",
      "445:\tlearn: 0.0034612\ttotal: 2.62s\tremaining: 3.25s\n",
      "446:\tlearn: 0.0034612\ttotal: 2.62s\tremaining: 3.24s\n",
      "447:\tlearn: 0.0034612\ttotal: 2.62s\tremaining: 3.23s\n",
      "448:\tlearn: 0.0034612\ttotal: 2.63s\tremaining: 3.22s\n",
      "449:\tlearn: 0.0034612\ttotal: 2.63s\tremaining: 3.21s\n",
      "450:\tlearn: 0.0034612\ttotal: 2.63s\tremaining: 3.21s\n",
      "451:\tlearn: 0.0034612\ttotal: 2.64s\tremaining: 3.2s\n",
      "452:\tlearn: 0.0034611\ttotal: 2.64s\tremaining: 3.19s\n",
      "453:\tlearn: 0.0034611\ttotal: 2.65s\tremaining: 3.18s\n",
      "454:\tlearn: 0.0034611\ttotal: 2.65s\tremaining: 3.17s\n",
      "455:\tlearn: 0.0034611\ttotal: 2.65s\tremaining: 3.17s\n",
      "456:\tlearn: 0.0034611\ttotal: 2.66s\tremaining: 3.16s\n",
      "457:\tlearn: 0.0034611\ttotal: 2.66s\tremaining: 3.15s\n",
      "458:\tlearn: 0.0034611\ttotal: 2.67s\tremaining: 3.14s\n",
      "459:\tlearn: 0.0034611\ttotal: 2.67s\tremaining: 3.13s\n",
      "460:\tlearn: 0.0034611\ttotal: 2.67s\tremaining: 3.13s\n",
      "461:\tlearn: 0.0034611\ttotal: 2.68s\tremaining: 3.12s\n",
      "462:\tlearn: 0.0034611\ttotal: 2.68s\tremaining: 3.11s\n",
      "463:\tlearn: 0.0034533\ttotal: 2.69s\tremaining: 3.11s\n",
      "464:\tlearn: 0.0034533\ttotal: 2.69s\tremaining: 3.1s\n",
      "465:\tlearn: 0.0034533\ttotal: 2.7s\tremaining: 3.09s\n",
      "466:\tlearn: 0.0034533\ttotal: 2.7s\tremaining: 3.08s\n",
      "467:\tlearn: 0.0034533\ttotal: 2.71s\tremaining: 3.08s\n",
      "468:\tlearn: 0.0034533\ttotal: 2.71s\tremaining: 3.07s\n",
      "469:\tlearn: 0.0034533\ttotal: 2.72s\tremaining: 3.06s\n",
      "470:\tlearn: 0.0034533\ttotal: 2.72s\tremaining: 3.06s\n",
      "471:\tlearn: 0.0034533\ttotal: 2.73s\tremaining: 3.05s\n",
      "472:\tlearn: 0.0034533\ttotal: 2.73s\tremaining: 3.04s\n",
      "473:\tlearn: 0.0034533\ttotal: 2.73s\tremaining: 3.03s\n",
      "474:\tlearn: 0.0034533\ttotal: 2.74s\tremaining: 3.02s\n",
      "475:\tlearn: 0.0034533\ttotal: 2.74s\tremaining: 3.02s\n",
      "476:\tlearn: 0.0034533\ttotal: 2.75s\tremaining: 3.01s\n",
      "477:\tlearn: 0.0034533\ttotal: 2.75s\tremaining: 3s\n",
      "478:\tlearn: 0.0034533\ttotal: 2.75s\tremaining: 3s\n",
      "479:\tlearn: 0.0034533\ttotal: 2.76s\tremaining: 2.99s\n",
      "480:\tlearn: 0.0034533\ttotal: 2.76s\tremaining: 2.98s\n",
      "481:\tlearn: 0.0034533\ttotal: 2.77s\tremaining: 2.97s\n",
      "482:\tlearn: 0.0034533\ttotal: 2.77s\tremaining: 2.97s\n",
      "483:\tlearn: 0.0034533\ttotal: 2.78s\tremaining: 2.96s\n",
      "484:\tlearn: 0.0034533\ttotal: 2.78s\tremaining: 2.95s\n",
      "485:\tlearn: 0.0034533\ttotal: 2.79s\tremaining: 2.95s\n",
      "486:\tlearn: 0.0034533\ttotal: 2.79s\tremaining: 2.94s\n",
      "487:\tlearn: 0.0034533\ttotal: 2.79s\tremaining: 2.93s\n",
      "488:\tlearn: 0.0034533\ttotal: 2.8s\tremaining: 2.93s\n",
      "489:\tlearn: 0.0034533\ttotal: 2.8s\tremaining: 2.92s\n",
      "490:\tlearn: 0.0034533\ttotal: 2.81s\tremaining: 2.91s\n",
      "491:\tlearn: 0.0034533\ttotal: 2.81s\tremaining: 2.9s\n",
      "492:\tlearn: 0.0034533\ttotal: 2.82s\tremaining: 2.9s\n",
      "493:\tlearn: 0.0034533\ttotal: 2.82s\tremaining: 2.89s\n",
      "494:\tlearn: 0.0034533\ttotal: 2.83s\tremaining: 2.88s\n",
      "495:\tlearn: 0.0034533\ttotal: 2.83s\tremaining: 2.87s\n",
      "496:\tlearn: 0.0034533\ttotal: 2.83s\tremaining: 2.87s\n",
      "497:\tlearn: 0.0034533\ttotal: 2.84s\tremaining: 2.86s\n",
      "498:\tlearn: 0.0034533\ttotal: 2.84s\tremaining: 2.85s\n",
      "499:\tlearn: 0.0034533\ttotal: 2.84s\tremaining: 2.84s\n",
      "500:\tlearn: 0.0034533\ttotal: 2.85s\tremaining: 2.84s\n",
      "501:\tlearn: 0.0034533\ttotal: 2.85s\tremaining: 2.83s\n",
      "502:\tlearn: 0.0034533\ttotal: 2.86s\tremaining: 2.82s\n",
      "503:\tlearn: 0.0034533\ttotal: 2.86s\tremaining: 2.82s\n",
      "504:\tlearn: 0.0034533\ttotal: 2.87s\tremaining: 2.81s\n",
      "505:\tlearn: 0.0034533\ttotal: 2.87s\tremaining: 2.8s\n",
      "506:\tlearn: 0.0034533\ttotal: 2.87s\tremaining: 2.79s\n",
      "507:\tlearn: 0.0034533\ttotal: 2.88s\tremaining: 2.79s\n",
      "508:\tlearn: 0.0034533\ttotal: 2.88s\tremaining: 2.78s\n",
      "509:\tlearn: 0.0034533\ttotal: 2.88s\tremaining: 2.77s\n",
      "510:\tlearn: 0.0034533\ttotal: 2.89s\tremaining: 2.76s\n",
      "511:\tlearn: 0.0034533\ttotal: 2.89s\tremaining: 2.76s\n",
      "512:\tlearn: 0.0034533\ttotal: 2.9s\tremaining: 2.75s\n",
      "513:\tlearn: 0.0034533\ttotal: 2.9s\tremaining: 2.74s\n",
      "514:\tlearn: 0.0034533\ttotal: 2.9s\tremaining: 2.73s\n",
      "515:\tlearn: 0.0034533\ttotal: 2.91s\tremaining: 2.73s\n",
      "516:\tlearn: 0.0034533\ttotal: 2.91s\tremaining: 2.72s\n",
      "517:\tlearn: 0.0034533\ttotal: 2.91s\tremaining: 2.71s\n",
      "518:\tlearn: 0.0034533\ttotal: 2.92s\tremaining: 2.7s\n",
      "519:\tlearn: 0.0034533\ttotal: 2.92s\tremaining: 2.7s\n",
      "520:\tlearn: 0.0034533\ttotal: 2.93s\tremaining: 2.69s\n"
     ]
    },
    {
     "name": "stdout",
     "output_type": "stream",
     "text": [
      "521:\tlearn: 0.0034533\ttotal: 2.93s\tremaining: 2.68s\n",
      "522:\tlearn: 0.0034533\ttotal: 2.93s\tremaining: 2.68s\n",
      "523:\tlearn: 0.0034533\ttotal: 2.94s\tremaining: 2.67s\n",
      "524:\tlearn: 0.0034533\ttotal: 2.94s\tremaining: 2.66s\n",
      "525:\tlearn: 0.0034533\ttotal: 2.95s\tremaining: 2.66s\n",
      "526:\tlearn: 0.0034533\ttotal: 2.96s\tremaining: 2.65s\n",
      "527:\tlearn: 0.0034533\ttotal: 2.96s\tremaining: 2.65s\n",
      "528:\tlearn: 0.0034533\ttotal: 2.97s\tremaining: 2.64s\n",
      "529:\tlearn: 0.0034533\ttotal: 2.97s\tremaining: 2.63s\n",
      "530:\tlearn: 0.0034533\ttotal: 2.98s\tremaining: 2.63s\n",
      "531:\tlearn: 0.0034533\ttotal: 2.98s\tremaining: 2.62s\n",
      "532:\tlearn: 0.0034533\ttotal: 2.99s\tremaining: 2.62s\n",
      "533:\tlearn: 0.0034533\ttotal: 2.99s\tremaining: 2.61s\n",
      "534:\tlearn: 0.0034533\ttotal: 2.99s\tremaining: 2.6s\n",
      "535:\tlearn: 0.0034533\ttotal: 3s\tremaining: 2.6s\n",
      "536:\tlearn: 0.0034533\ttotal: 3s\tremaining: 2.59s\n",
      "537:\tlearn: 0.0034533\ttotal: 3.01s\tremaining: 2.58s\n",
      "538:\tlearn: 0.0034533\ttotal: 3.01s\tremaining: 2.58s\n",
      "539:\tlearn: 0.0034533\ttotal: 3.02s\tremaining: 2.57s\n",
      "540:\tlearn: 0.0034533\ttotal: 3.02s\tremaining: 2.56s\n",
      "541:\tlearn: 0.0034533\ttotal: 3.02s\tremaining: 2.56s\n",
      "542:\tlearn: 0.0034533\ttotal: 3.03s\tremaining: 2.55s\n",
      "543:\tlearn: 0.0034533\ttotal: 3.03s\tremaining: 2.54s\n",
      "544:\tlearn: 0.0034533\ttotal: 3.04s\tremaining: 2.54s\n",
      "545:\tlearn: 0.0034533\ttotal: 3.04s\tremaining: 2.53s\n",
      "546:\tlearn: 0.0034533\ttotal: 3.05s\tremaining: 2.52s\n",
      "547:\tlearn: 0.0034533\ttotal: 3.05s\tremaining: 2.52s\n",
      "548:\tlearn: 0.0034533\ttotal: 3.06s\tremaining: 2.51s\n",
      "549:\tlearn: 0.0034533\ttotal: 3.06s\tremaining: 2.5s\n",
      "550:\tlearn: 0.0034533\ttotal: 3.06s\tremaining: 2.5s\n",
      "551:\tlearn: 0.0034533\ttotal: 3.07s\tremaining: 2.49s\n",
      "552:\tlearn: 0.0034533\ttotal: 3.07s\tremaining: 2.48s\n",
      "553:\tlearn: 0.0034533\ttotal: 3.08s\tremaining: 2.48s\n",
      "554:\tlearn: 0.0034533\ttotal: 3.08s\tremaining: 2.47s\n",
      "555:\tlearn: 0.0034533\ttotal: 3.09s\tremaining: 2.46s\n",
      "556:\tlearn: 0.0034533\ttotal: 3.09s\tremaining: 2.46s\n",
      "557:\tlearn: 0.0034533\ttotal: 3.1s\tremaining: 2.45s\n",
      "558:\tlearn: 0.0034533\ttotal: 3.1s\tremaining: 2.44s\n",
      "559:\tlearn: 0.0034533\ttotal: 3.1s\tremaining: 2.44s\n",
      "560:\tlearn: 0.0034533\ttotal: 3.11s\tremaining: 2.43s\n",
      "561:\tlearn: 0.0034533\ttotal: 3.11s\tremaining: 2.43s\n",
      "562:\tlearn: 0.0034533\ttotal: 3.12s\tremaining: 2.42s\n",
      "563:\tlearn: 0.0034533\ttotal: 3.12s\tremaining: 2.41s\n",
      "564:\tlearn: 0.0034533\ttotal: 3.13s\tremaining: 2.41s\n",
      "565:\tlearn: 0.0034533\ttotal: 3.13s\tremaining: 2.4s\n",
      "566:\tlearn: 0.0034533\ttotal: 3.14s\tremaining: 2.4s\n",
      "567:\tlearn: 0.0034533\ttotal: 3.14s\tremaining: 2.39s\n",
      "568:\tlearn: 0.0034533\ttotal: 3.14s\tremaining: 2.38s\n",
      "569:\tlearn: 0.0034533\ttotal: 3.15s\tremaining: 2.38s\n",
      "570:\tlearn: 0.0034533\ttotal: 3.15s\tremaining: 2.37s\n",
      "571:\tlearn: 0.0034533\ttotal: 3.15s\tremaining: 2.36s\n",
      "572:\tlearn: 0.0034533\ttotal: 3.16s\tremaining: 2.35s\n",
      "573:\tlearn: 0.0034533\ttotal: 3.16s\tremaining: 2.35s\n",
      "574:\tlearn: 0.0034533\ttotal: 3.17s\tremaining: 2.34s\n",
      "575:\tlearn: 0.0034533\ttotal: 3.17s\tremaining: 2.33s\n",
      "576:\tlearn: 0.0034533\ttotal: 3.17s\tremaining: 2.33s\n",
      "577:\tlearn: 0.0034533\ttotal: 3.18s\tremaining: 2.32s\n",
      "578:\tlearn: 0.0034533\ttotal: 3.18s\tremaining: 2.31s\n",
      "579:\tlearn: 0.0034533\ttotal: 3.19s\tremaining: 2.31s\n",
      "580:\tlearn: 0.0034533\ttotal: 3.19s\tremaining: 2.3s\n",
      "581:\tlearn: 0.0034533\ttotal: 3.19s\tremaining: 2.29s\n",
      "582:\tlearn: 0.0034533\ttotal: 3.2s\tremaining: 2.29s\n",
      "583:\tlearn: 0.0034533\ttotal: 3.2s\tremaining: 2.28s\n",
      "584:\tlearn: 0.0034533\ttotal: 3.21s\tremaining: 2.27s\n",
      "585:\tlearn: 0.0034533\ttotal: 3.21s\tremaining: 2.27s\n",
      "586:\tlearn: 0.0034533\ttotal: 3.21s\tremaining: 2.26s\n",
      "587:\tlearn: 0.0034533\ttotal: 3.22s\tremaining: 2.25s\n",
      "588:\tlearn: 0.0034533\ttotal: 3.22s\tremaining: 2.25s\n",
      "589:\tlearn: 0.0034533\ttotal: 3.23s\tremaining: 2.24s\n",
      "590:\tlearn: 0.0034533\ttotal: 3.23s\tremaining: 2.23s\n",
      "591:\tlearn: 0.0034533\ttotal: 3.23s\tremaining: 2.23s\n",
      "592:\tlearn: 0.0034533\ttotal: 3.24s\tremaining: 2.22s\n",
      "593:\tlearn: 0.0034533\ttotal: 3.24s\tremaining: 2.22s\n",
      "594:\tlearn: 0.0034533\ttotal: 3.25s\tremaining: 2.21s\n",
      "595:\tlearn: 0.0034533\ttotal: 3.25s\tremaining: 2.2s\n",
      "596:\tlearn: 0.0034533\ttotal: 3.26s\tremaining: 2.2s\n",
      "597:\tlearn: 0.0034533\ttotal: 3.26s\tremaining: 2.19s\n",
      "598:\tlearn: 0.0034533\ttotal: 3.26s\tremaining: 2.19s\n",
      "599:\tlearn: 0.0034533\ttotal: 3.27s\tremaining: 2.18s\n",
      "600:\tlearn: 0.0034533\ttotal: 3.27s\tremaining: 2.17s\n",
      "601:\tlearn: 0.0034533\ttotal: 3.28s\tremaining: 2.17s\n",
      "602:\tlearn: 0.0034533\ttotal: 3.28s\tremaining: 2.16s\n",
      "603:\tlearn: 0.0034533\ttotal: 3.29s\tremaining: 2.15s\n",
      "604:\tlearn: 0.0034533\ttotal: 3.29s\tremaining: 2.15s\n",
      "605:\tlearn: 0.0034533\ttotal: 3.3s\tremaining: 2.15s\n",
      "606:\tlearn: 0.0034533\ttotal: 3.31s\tremaining: 2.14s\n",
      "607:\tlearn: 0.0034533\ttotal: 3.31s\tremaining: 2.13s\n",
      "608:\tlearn: 0.0034533\ttotal: 3.31s\tremaining: 2.13s\n",
      "609:\tlearn: 0.0034533\ttotal: 3.32s\tremaining: 2.12s\n",
      "610:\tlearn: 0.0034533\ttotal: 3.32s\tremaining: 2.12s\n",
      "611:\tlearn: 0.0034533\ttotal: 3.33s\tremaining: 2.11s\n",
      "612:\tlearn: 0.0034533\ttotal: 3.33s\tremaining: 2.1s\n",
      "613:\tlearn: 0.0034533\ttotal: 3.33s\tremaining: 2.1s\n",
      "614:\tlearn: 0.0034533\ttotal: 3.34s\tremaining: 2.09s\n",
      "615:\tlearn: 0.0034533\ttotal: 3.34s\tremaining: 2.08s\n",
      "616:\tlearn: 0.0034533\ttotal: 3.35s\tremaining: 2.08s\n",
      "617:\tlearn: 0.0034533\ttotal: 3.35s\tremaining: 2.07s\n",
      "618:\tlearn: 0.0034533\ttotal: 3.36s\tremaining: 2.07s\n",
      "619:\tlearn: 0.0034533\ttotal: 3.36s\tremaining: 2.06s\n",
      "620:\tlearn: 0.0034533\ttotal: 3.37s\tremaining: 2.05s\n",
      "621:\tlearn: 0.0034533\ttotal: 3.37s\tremaining: 2.05s\n",
      "622:\tlearn: 0.0034533\ttotal: 3.37s\tremaining: 2.04s\n",
      "623:\tlearn: 0.0034533\ttotal: 3.38s\tremaining: 2.04s\n",
      "624:\tlearn: 0.0034533\ttotal: 3.38s\tremaining: 2.03s\n",
      "625:\tlearn: 0.0034533\ttotal: 3.39s\tremaining: 2.02s\n",
      "626:\tlearn: 0.0034533\ttotal: 3.39s\tremaining: 2.02s\n",
      "627:\tlearn: 0.0034533\ttotal: 3.4s\tremaining: 2.01s\n",
      "628:\tlearn: 0.0034533\ttotal: 3.4s\tremaining: 2s\n",
      "629:\tlearn: 0.0034533\ttotal: 3.4s\tremaining: 2s\n",
      "630:\tlearn: 0.0034533\ttotal: 3.41s\tremaining: 1.99s\n",
      "631:\tlearn: 0.0034533\ttotal: 3.41s\tremaining: 1.99s\n",
      "632:\tlearn: 0.0034533\ttotal: 3.42s\tremaining: 1.98s\n",
      "633:\tlearn: 0.0034533\ttotal: 3.42s\tremaining: 1.97s\n",
      "634:\tlearn: 0.0034533\ttotal: 3.42s\tremaining: 1.97s\n",
      "635:\tlearn: 0.0034533\ttotal: 3.43s\tremaining: 1.96s\n",
      "636:\tlearn: 0.0034533\ttotal: 3.43s\tremaining: 1.96s\n",
      "637:\tlearn: 0.0034533\ttotal: 3.44s\tremaining: 1.95s\n",
      "638:\tlearn: 0.0034533\ttotal: 3.44s\tremaining: 1.94s\n",
      "639:\tlearn: 0.0034533\ttotal: 3.44s\tremaining: 1.94s\n",
      "640:\tlearn: 0.0034533\ttotal: 3.45s\tremaining: 1.93s\n",
      "641:\tlearn: 0.0034533\ttotal: 3.45s\tremaining: 1.92s\n",
      "642:\tlearn: 0.0034533\ttotal: 3.45s\tremaining: 1.92s\n",
      "643:\tlearn: 0.0034533\ttotal: 3.46s\tremaining: 1.91s\n",
      "644:\tlearn: 0.0034533\ttotal: 3.46s\tremaining: 1.91s\n",
      "645:\tlearn: 0.0034533\ttotal: 3.47s\tremaining: 1.9s\n",
      "646:\tlearn: 0.0034533\ttotal: 3.47s\tremaining: 1.9s\n",
      "647:\tlearn: 0.0034533\ttotal: 3.48s\tremaining: 1.89s\n",
      "648:\tlearn: 0.0034533\ttotal: 3.48s\tremaining: 1.88s\n",
      "649:\tlearn: 0.0034533\ttotal: 3.49s\tremaining: 1.88s\n",
      "650:\tlearn: 0.0034533\ttotal: 3.49s\tremaining: 1.87s\n",
      "651:\tlearn: 0.0034533\ttotal: 3.5s\tremaining: 1.86s\n",
      "652:\tlearn: 0.0034533\ttotal: 3.5s\tremaining: 1.86s\n",
      "653:\tlearn: 0.0034533\ttotal: 3.5s\tremaining: 1.85s\n",
      "654:\tlearn: 0.0034533\ttotal: 3.51s\tremaining: 1.85s\n",
      "655:\tlearn: 0.0034533\ttotal: 3.51s\tremaining: 1.84s\n",
      "656:\tlearn: 0.0034533\ttotal: 3.52s\tremaining: 1.84s\n",
      "657:\tlearn: 0.0034533\ttotal: 3.52s\tremaining: 1.83s\n",
      "658:\tlearn: 0.0034533\ttotal: 3.53s\tremaining: 1.82s\n",
      "659:\tlearn: 0.0034533\ttotal: 3.53s\tremaining: 1.82s\n",
      "660:\tlearn: 0.0034533\ttotal: 3.54s\tremaining: 1.81s\n",
      "661:\tlearn: 0.0034533\ttotal: 3.54s\tremaining: 1.81s\n",
      "662:\tlearn: 0.0034533\ttotal: 3.54s\tremaining: 1.8s\n",
      "663:\tlearn: 0.0034533\ttotal: 3.55s\tremaining: 1.8s\n",
      "664:\tlearn: 0.0034533\ttotal: 3.55s\tremaining: 1.79s\n",
      "665:\tlearn: 0.0034533\ttotal: 3.56s\tremaining: 1.78s\n",
      "666:\tlearn: 0.0034533\ttotal: 3.56s\tremaining: 1.78s\n",
      "667:\tlearn: 0.0034533\ttotal: 3.57s\tremaining: 1.77s\n",
      "668:\tlearn: 0.0034533\ttotal: 3.57s\tremaining: 1.77s\n",
      "669:\tlearn: 0.0034533\ttotal: 3.58s\tremaining: 1.76s\n",
      "670:\tlearn: 0.0034533\ttotal: 3.58s\tremaining: 1.75s\n",
      "671:\tlearn: 0.0034533\ttotal: 3.58s\tremaining: 1.75s\n",
      "672:\tlearn: 0.0034533\ttotal: 3.59s\tremaining: 1.74s\n",
      "673:\tlearn: 0.0034533\ttotal: 3.59s\tremaining: 1.74s\n",
      "674:\tlearn: 0.0034533\ttotal: 3.6s\tremaining: 1.73s\n",
      "675:\tlearn: 0.0034533\ttotal: 3.6s\tremaining: 1.73s\n",
      "676:\tlearn: 0.0034533\ttotal: 3.6s\tremaining: 1.72s\n",
      "677:\tlearn: 0.0034533\ttotal: 3.61s\tremaining: 1.71s\n",
      "678:\tlearn: 0.0034533\ttotal: 3.61s\tremaining: 1.71s\n",
      "679:\tlearn: 0.0034533\ttotal: 3.62s\tremaining: 1.7s\n",
      "680:\tlearn: 0.0034533\ttotal: 3.62s\tremaining: 1.7s\n",
      "681:\tlearn: 0.0034533\ttotal: 3.63s\tremaining: 1.69s\n"
     ]
    },
    {
     "name": "stdout",
     "output_type": "stream",
     "text": [
      "682:\tlearn: 0.0034533\ttotal: 3.63s\tremaining: 1.69s\n",
      "683:\tlearn: 0.0034533\ttotal: 3.64s\tremaining: 1.68s\n",
      "684:\tlearn: 0.0034533\ttotal: 3.64s\tremaining: 1.67s\n",
      "685:\tlearn: 0.0034533\ttotal: 3.64s\tremaining: 1.67s\n",
      "686:\tlearn: 0.0034533\ttotal: 3.65s\tremaining: 1.66s\n",
      "687:\tlearn: 0.0034533\ttotal: 3.65s\tremaining: 1.66s\n",
      "688:\tlearn: 0.0034533\ttotal: 3.66s\tremaining: 1.65s\n",
      "689:\tlearn: 0.0034533\ttotal: 3.66s\tremaining: 1.65s\n",
      "690:\tlearn: 0.0034533\ttotal: 3.67s\tremaining: 1.64s\n",
      "691:\tlearn: 0.0034533\ttotal: 3.67s\tremaining: 1.63s\n",
      "692:\tlearn: 0.0034533\ttotal: 3.67s\tremaining: 1.63s\n",
      "693:\tlearn: 0.0034533\ttotal: 3.68s\tremaining: 1.62s\n",
      "694:\tlearn: 0.0034533\ttotal: 3.68s\tremaining: 1.62s\n",
      "695:\tlearn: 0.0034533\ttotal: 3.69s\tremaining: 1.61s\n",
      "696:\tlearn: 0.0034533\ttotal: 3.69s\tremaining: 1.6s\n",
      "697:\tlearn: 0.0034533\ttotal: 3.69s\tremaining: 1.6s\n",
      "698:\tlearn: 0.0034533\ttotal: 3.7s\tremaining: 1.59s\n",
      "699:\tlearn: 0.0034533\ttotal: 3.7s\tremaining: 1.59s\n",
      "700:\tlearn: 0.0034533\ttotal: 3.71s\tremaining: 1.58s\n",
      "701:\tlearn: 0.0034533\ttotal: 3.71s\tremaining: 1.57s\n",
      "702:\tlearn: 0.0034533\ttotal: 3.71s\tremaining: 1.57s\n",
      "703:\tlearn: 0.0034533\ttotal: 3.72s\tremaining: 1.56s\n",
      "704:\tlearn: 0.0034533\ttotal: 3.72s\tremaining: 1.56s\n",
      "705:\tlearn: 0.0034533\ttotal: 3.72s\tremaining: 1.55s\n",
      "706:\tlearn: 0.0034533\ttotal: 3.73s\tremaining: 1.54s\n",
      "707:\tlearn: 0.0034533\ttotal: 3.73s\tremaining: 1.54s\n",
      "708:\tlearn: 0.0034533\ttotal: 3.73s\tremaining: 1.53s\n",
      "709:\tlearn: 0.0034533\ttotal: 3.74s\tremaining: 1.53s\n",
      "710:\tlearn: 0.0034533\ttotal: 3.74s\tremaining: 1.52s\n",
      "711:\tlearn: 0.0034533\ttotal: 3.75s\tremaining: 1.51s\n",
      "712:\tlearn: 0.0034533\ttotal: 3.75s\tremaining: 1.51s\n",
      "713:\tlearn: 0.0034533\ttotal: 3.76s\tremaining: 1.5s\n",
      "714:\tlearn: 0.0034533\ttotal: 3.76s\tremaining: 1.5s\n",
      "715:\tlearn: 0.0034533\ttotal: 3.76s\tremaining: 1.49s\n",
      "716:\tlearn: 0.0034533\ttotal: 3.77s\tremaining: 1.49s\n",
      "717:\tlearn: 0.0034533\ttotal: 3.77s\tremaining: 1.48s\n",
      "718:\tlearn: 0.0034533\ttotal: 3.78s\tremaining: 1.48s\n",
      "719:\tlearn: 0.0034533\ttotal: 3.78s\tremaining: 1.47s\n",
      "720:\tlearn: 0.0034533\ttotal: 3.79s\tremaining: 1.47s\n",
      "721:\tlearn: 0.0034533\ttotal: 3.79s\tremaining: 1.46s\n",
      "722:\tlearn: 0.0034533\ttotal: 3.8s\tremaining: 1.45s\n",
      "723:\tlearn: 0.0034533\ttotal: 3.8s\tremaining: 1.45s\n",
      "724:\tlearn: 0.0034533\ttotal: 3.81s\tremaining: 1.44s\n",
      "725:\tlearn: 0.0034533\ttotal: 3.81s\tremaining: 1.44s\n",
      "726:\tlearn: 0.0034533\ttotal: 3.81s\tremaining: 1.43s\n",
      "727:\tlearn: 0.0034533\ttotal: 3.82s\tremaining: 1.43s\n",
      "728:\tlearn: 0.0034533\ttotal: 3.82s\tremaining: 1.42s\n",
      "729:\tlearn: 0.0034533\ttotal: 3.83s\tremaining: 1.42s\n",
      "730:\tlearn: 0.0034533\ttotal: 3.83s\tremaining: 1.41s\n",
      "731:\tlearn: 0.0034533\ttotal: 3.84s\tremaining: 1.41s\n",
      "732:\tlearn: 0.0034533\ttotal: 3.84s\tremaining: 1.4s\n",
      "733:\tlearn: 0.0034533\ttotal: 3.85s\tremaining: 1.39s\n",
      "734:\tlearn: 0.0034533\ttotal: 3.85s\tremaining: 1.39s\n",
      "735:\tlearn: 0.0034533\ttotal: 3.86s\tremaining: 1.38s\n",
      "736:\tlearn: 0.0034533\ttotal: 3.86s\tremaining: 1.38s\n",
      "737:\tlearn: 0.0034533\ttotal: 3.86s\tremaining: 1.37s\n",
      "738:\tlearn: 0.0034533\ttotal: 3.87s\tremaining: 1.37s\n",
      "739:\tlearn: 0.0034533\ttotal: 3.87s\tremaining: 1.36s\n",
      "740:\tlearn: 0.0034533\ttotal: 3.88s\tremaining: 1.35s\n",
      "741:\tlearn: 0.0034533\ttotal: 3.88s\tremaining: 1.35s\n",
      "742:\tlearn: 0.0034533\ttotal: 3.89s\tremaining: 1.34s\n",
      "743:\tlearn: 0.0034533\ttotal: 3.89s\tremaining: 1.34s\n",
      "744:\tlearn: 0.0034533\ttotal: 3.9s\tremaining: 1.33s\n",
      "745:\tlearn: 0.0034533\ttotal: 3.9s\tremaining: 1.33s\n",
      "746:\tlearn: 0.0034533\ttotal: 3.9s\tremaining: 1.32s\n",
      "747:\tlearn: 0.0034533\ttotal: 3.91s\tremaining: 1.32s\n",
      "748:\tlearn: 0.0034533\ttotal: 3.92s\tremaining: 1.31s\n",
      "749:\tlearn: 0.0034533\ttotal: 3.92s\tremaining: 1.31s\n",
      "750:\tlearn: 0.0034533\ttotal: 3.92s\tremaining: 1.3s\n",
      "751:\tlearn: 0.0034533\ttotal: 3.93s\tremaining: 1.29s\n",
      "752:\tlearn: 0.0034533\ttotal: 3.93s\tremaining: 1.29s\n",
      "753:\tlearn: 0.0034533\ttotal: 3.93s\tremaining: 1.28s\n",
      "754:\tlearn: 0.0034533\ttotal: 3.94s\tremaining: 1.28s\n",
      "755:\tlearn: 0.0034533\ttotal: 3.94s\tremaining: 1.27s\n",
      "756:\tlearn: 0.0034533\ttotal: 3.94s\tremaining: 1.27s\n",
      "757:\tlearn: 0.0034533\ttotal: 3.95s\tremaining: 1.26s\n",
      "758:\tlearn: 0.0034533\ttotal: 3.95s\tremaining: 1.25s\n",
      "759:\tlearn: 0.0034533\ttotal: 3.96s\tremaining: 1.25s\n",
      "760:\tlearn: 0.0034533\ttotal: 3.96s\tremaining: 1.24s\n",
      "761:\tlearn: 0.0034533\ttotal: 3.96s\tremaining: 1.24s\n",
      "762:\tlearn: 0.0034533\ttotal: 3.97s\tremaining: 1.23s\n",
      "763:\tlearn: 0.0034533\ttotal: 3.97s\tremaining: 1.23s\n",
      "764:\tlearn: 0.0034533\ttotal: 3.97s\tremaining: 1.22s\n",
      "765:\tlearn: 0.0034533\ttotal: 3.99s\tremaining: 1.22s\n",
      "766:\tlearn: 0.0034533\ttotal: 3.99s\tremaining: 1.21s\n",
      "767:\tlearn: 0.0034533\ttotal: 3.99s\tremaining: 1.21s\n",
      "768:\tlearn: 0.0034533\ttotal: 4s\tremaining: 1.2s\n",
      "769:\tlearn: 0.0034533\ttotal: 4s\tremaining: 1.2s\n",
      "770:\tlearn: 0.0034533\ttotal: 4s\tremaining: 1.19s\n",
      "771:\tlearn: 0.0034533\ttotal: 4.01s\tremaining: 1.18s\n",
      "772:\tlearn: 0.0034533\ttotal: 4.01s\tremaining: 1.18s\n",
      "773:\tlearn: 0.0034533\ttotal: 4.02s\tremaining: 1.17s\n",
      "774:\tlearn: 0.0034533\ttotal: 4.02s\tremaining: 1.17s\n",
      "775:\tlearn: 0.0034533\ttotal: 4.03s\tremaining: 1.16s\n",
      "776:\tlearn: 0.0034533\ttotal: 4.03s\tremaining: 1.16s\n",
      "777:\tlearn: 0.0034533\ttotal: 4.03s\tremaining: 1.15s\n",
      "778:\tlearn: 0.0034533\ttotal: 4.04s\tremaining: 1.15s\n",
      "779:\tlearn: 0.0034533\ttotal: 4.04s\tremaining: 1.14s\n",
      "780:\tlearn: 0.0034533\ttotal: 4.05s\tremaining: 1.14s\n",
      "781:\tlearn: 0.0034533\ttotal: 4.06s\tremaining: 1.13s\n",
      "782:\tlearn: 0.0034533\ttotal: 4.06s\tremaining: 1.13s\n",
      "783:\tlearn: 0.0034533\ttotal: 4.07s\tremaining: 1.12s\n",
      "784:\tlearn: 0.0034533\ttotal: 4.07s\tremaining: 1.11s\n",
      "785:\tlearn: 0.0034533\ttotal: 4.07s\tremaining: 1.11s\n",
      "786:\tlearn: 0.0034533\ttotal: 4.08s\tremaining: 1.1s\n",
      "787:\tlearn: 0.0034533\ttotal: 4.08s\tremaining: 1.1s\n",
      "788:\tlearn: 0.0034533\ttotal: 4.09s\tremaining: 1.09s\n",
      "789:\tlearn: 0.0034533\ttotal: 4.09s\tremaining: 1.09s\n",
      "790:\tlearn: 0.0034533\ttotal: 4.1s\tremaining: 1.08s\n",
      "791:\tlearn: 0.0034533\ttotal: 4.1s\tremaining: 1.08s\n",
      "792:\tlearn: 0.0034533\ttotal: 4.11s\tremaining: 1.07s\n",
      "793:\tlearn: 0.0034533\ttotal: 4.11s\tremaining: 1.07s\n",
      "794:\tlearn: 0.0034533\ttotal: 4.12s\tremaining: 1.06s\n",
      "795:\tlearn: 0.0034533\ttotal: 4.12s\tremaining: 1.05s\n",
      "796:\tlearn: 0.0034533\ttotal: 4.12s\tremaining: 1.05s\n",
      "797:\tlearn: 0.0034533\ttotal: 4.13s\tremaining: 1.04s\n",
      "798:\tlearn: 0.0034533\ttotal: 4.13s\tremaining: 1.04s\n",
      "799:\tlearn: 0.0034533\ttotal: 4.13s\tremaining: 1.03s\n",
      "800:\tlearn: 0.0034533\ttotal: 4.14s\tremaining: 1.03s\n",
      "801:\tlearn: 0.0034533\ttotal: 4.14s\tremaining: 1.02s\n",
      "802:\tlearn: 0.0034533\ttotal: 4.15s\tremaining: 1.02s\n",
      "803:\tlearn: 0.0034533\ttotal: 4.15s\tremaining: 1.01s\n",
      "804:\tlearn: 0.0034533\ttotal: 4.16s\tremaining: 1.01s\n",
      "805:\tlearn: 0.0034533\ttotal: 4.16s\tremaining: 1s\n",
      "806:\tlearn: 0.0034533\ttotal: 4.16s\tremaining: 996ms\n",
      "807:\tlearn: 0.0034533\ttotal: 4.17s\tremaining: 990ms\n",
      "808:\tlearn: 0.0034533\ttotal: 4.17s\tremaining: 985ms\n",
      "809:\tlearn: 0.0034533\ttotal: 4.18s\tremaining: 980ms\n",
      "810:\tlearn: 0.0034533\ttotal: 4.18s\tremaining: 975ms\n",
      "811:\tlearn: 0.0034533\ttotal: 4.18s\tremaining: 969ms\n",
      "812:\tlearn: 0.0034533\ttotal: 4.19s\tremaining: 964ms\n",
      "813:\tlearn: 0.0034533\ttotal: 4.19s\tremaining: 958ms\n",
      "814:\tlearn: 0.0034533\ttotal: 4.2s\tremaining: 953ms\n",
      "815:\tlearn: 0.0034533\ttotal: 4.2s\tremaining: 947ms\n",
      "816:\tlearn: 0.0034533\ttotal: 4.21s\tremaining: 942ms\n",
      "817:\tlearn: 0.0034533\ttotal: 4.21s\tremaining: 936ms\n",
      "818:\tlearn: 0.0034533\ttotal: 4.21s\tremaining: 931ms\n",
      "819:\tlearn: 0.0034533\ttotal: 4.22s\tremaining: 925ms\n",
      "820:\tlearn: 0.0034533\ttotal: 4.22s\tremaining: 920ms\n",
      "821:\tlearn: 0.0034533\ttotal: 4.22s\tremaining: 915ms\n",
      "822:\tlearn: 0.0034533\ttotal: 4.23s\tremaining: 909ms\n",
      "823:\tlearn: 0.0034533\ttotal: 4.23s\tremaining: 904ms\n",
      "824:\tlearn: 0.0034533\ttotal: 4.23s\tremaining: 898ms\n",
      "825:\tlearn: 0.0034533\ttotal: 4.24s\tremaining: 893ms\n",
      "826:\tlearn: 0.0034533\ttotal: 4.24s\tremaining: 887ms\n",
      "827:\tlearn: 0.0034533\ttotal: 4.24s\tremaining: 882ms\n",
      "828:\tlearn: 0.0034533\ttotal: 4.25s\tremaining: 876ms\n",
      "829:\tlearn: 0.0034533\ttotal: 4.25s\tremaining: 871ms\n",
      "830:\tlearn: 0.0034533\ttotal: 4.25s\tremaining: 865ms\n",
      "831:\tlearn: 0.0034533\ttotal: 4.26s\tremaining: 860ms\n",
      "832:\tlearn: 0.0034533\ttotal: 4.26s\tremaining: 855ms\n",
      "833:\tlearn: 0.0034533\ttotal: 4.27s\tremaining: 849ms\n",
      "834:\tlearn: 0.0034533\ttotal: 4.27s\tremaining: 844ms\n",
      "835:\tlearn: 0.0034533\ttotal: 4.27s\tremaining: 839ms\n",
      "836:\tlearn: 0.0034533\ttotal: 4.28s\tremaining: 833ms\n",
      "837:\tlearn: 0.0034533\ttotal: 4.28s\tremaining: 828ms\n",
      "838:\tlearn: 0.0034533\ttotal: 4.29s\tremaining: 822ms\n",
      "839:\tlearn: 0.0034533\ttotal: 4.29s\tremaining: 817ms\n",
      "840:\tlearn: 0.0034533\ttotal: 4.29s\tremaining: 812ms\n",
      "841:\tlearn: 0.0034533\ttotal: 4.3s\tremaining: 807ms\n",
      "842:\tlearn: 0.0034533\ttotal: 4.3s\tremaining: 801ms\n",
      "843:\tlearn: 0.0034533\ttotal: 4.31s\tremaining: 796ms\n",
      "844:\tlearn: 0.0034533\ttotal: 4.31s\tremaining: 791ms\n",
      "845:\tlearn: 0.0034533\ttotal: 4.32s\tremaining: 785ms\n"
     ]
    },
    {
     "name": "stdout",
     "output_type": "stream",
     "text": [
      "846:\tlearn: 0.0034533\ttotal: 4.32s\tremaining: 780ms\n",
      "847:\tlearn: 0.0034533\ttotal: 4.32s\tremaining: 775ms\n",
      "848:\tlearn: 0.0034533\ttotal: 4.33s\tremaining: 770ms\n",
      "849:\tlearn: 0.0034533\ttotal: 4.33s\tremaining: 765ms\n",
      "850:\tlearn: 0.0034533\ttotal: 4.34s\tremaining: 760ms\n",
      "851:\tlearn: 0.0034533\ttotal: 4.34s\tremaining: 755ms\n",
      "852:\tlearn: 0.0034533\ttotal: 4.35s\tremaining: 749ms\n",
      "853:\tlearn: 0.0034533\ttotal: 4.35s\tremaining: 744ms\n",
      "854:\tlearn: 0.0034533\ttotal: 4.36s\tremaining: 739ms\n",
      "855:\tlearn: 0.0034533\ttotal: 4.36s\tremaining: 734ms\n",
      "856:\tlearn: 0.0034533\ttotal: 4.36s\tremaining: 728ms\n",
      "857:\tlearn: 0.0034533\ttotal: 4.37s\tremaining: 723ms\n",
      "858:\tlearn: 0.0034533\ttotal: 4.37s\tremaining: 718ms\n",
      "859:\tlearn: 0.0034533\ttotal: 4.38s\tremaining: 713ms\n",
      "860:\tlearn: 0.0034533\ttotal: 4.38s\tremaining: 707ms\n",
      "861:\tlearn: 0.0034533\ttotal: 4.38s\tremaining: 702ms\n",
      "862:\tlearn: 0.0034533\ttotal: 4.39s\tremaining: 697ms\n",
      "863:\tlearn: 0.0034533\ttotal: 4.39s\tremaining: 692ms\n",
      "864:\tlearn: 0.0034533\ttotal: 4.4s\tremaining: 686ms\n",
      "865:\tlearn: 0.0034533\ttotal: 4.4s\tremaining: 681ms\n",
      "866:\tlearn: 0.0034533\ttotal: 4.41s\tremaining: 676ms\n",
      "867:\tlearn: 0.0034533\ttotal: 4.41s\tremaining: 671ms\n",
      "868:\tlearn: 0.0034533\ttotal: 4.42s\tremaining: 666ms\n",
      "869:\tlearn: 0.0034533\ttotal: 4.42s\tremaining: 661ms\n",
      "870:\tlearn: 0.0034533\ttotal: 4.42s\tremaining: 655ms\n",
      "871:\tlearn: 0.0034533\ttotal: 4.43s\tremaining: 650ms\n",
      "872:\tlearn: 0.0034533\ttotal: 4.43s\tremaining: 645ms\n",
      "873:\tlearn: 0.0034533\ttotal: 4.44s\tremaining: 640ms\n",
      "874:\tlearn: 0.0034533\ttotal: 4.44s\tremaining: 635ms\n",
      "875:\tlearn: 0.0034533\ttotal: 4.45s\tremaining: 629ms\n",
      "876:\tlearn: 0.0034533\ttotal: 4.45s\tremaining: 624ms\n",
      "877:\tlearn: 0.0034533\ttotal: 4.45s\tremaining: 619ms\n",
      "878:\tlearn: 0.0034533\ttotal: 4.46s\tremaining: 614ms\n",
      "879:\tlearn: 0.0034533\ttotal: 4.46s\tremaining: 608ms\n",
      "880:\tlearn: 0.0034533\ttotal: 4.47s\tremaining: 603ms\n",
      "881:\tlearn: 0.0034533\ttotal: 4.47s\tremaining: 598ms\n",
      "882:\tlearn: 0.0034533\ttotal: 4.47s\tremaining: 593ms\n",
      "883:\tlearn: 0.0034533\ttotal: 4.48s\tremaining: 588ms\n",
      "884:\tlearn: 0.0034533\ttotal: 4.48s\tremaining: 582ms\n",
      "885:\tlearn: 0.0034533\ttotal: 4.48s\tremaining: 577ms\n",
      "886:\tlearn: 0.0034533\ttotal: 4.49s\tremaining: 572ms\n",
      "887:\tlearn: 0.0034533\ttotal: 4.5s\tremaining: 567ms\n",
      "888:\tlearn: 0.0034533\ttotal: 4.5s\tremaining: 562ms\n",
      "889:\tlearn: 0.0034533\ttotal: 4.5s\tremaining: 557ms\n",
      "890:\tlearn: 0.0034533\ttotal: 4.51s\tremaining: 552ms\n",
      "891:\tlearn: 0.0034533\ttotal: 4.51s\tremaining: 546ms\n",
      "892:\tlearn: 0.0034533\ttotal: 4.52s\tremaining: 541ms\n",
      "893:\tlearn: 0.0034533\ttotal: 4.52s\tremaining: 536ms\n",
      "894:\tlearn: 0.0034533\ttotal: 4.52s\tremaining: 531ms\n",
      "895:\tlearn: 0.0034533\ttotal: 4.53s\tremaining: 526ms\n",
      "896:\tlearn: 0.0034533\ttotal: 4.53s\tremaining: 520ms\n",
      "897:\tlearn: 0.0034533\ttotal: 4.53s\tremaining: 515ms\n",
      "898:\tlearn: 0.0034533\ttotal: 4.54s\tremaining: 510ms\n",
      "899:\tlearn: 0.0034533\ttotal: 4.54s\tremaining: 505ms\n",
      "900:\tlearn: 0.0034533\ttotal: 4.55s\tremaining: 500ms\n",
      "901:\tlearn: 0.0034533\ttotal: 4.55s\tremaining: 494ms\n",
      "902:\tlearn: 0.0034533\ttotal: 4.56s\tremaining: 490ms\n",
      "903:\tlearn: 0.0034533\ttotal: 4.56s\tremaining: 484ms\n",
      "904:\tlearn: 0.0034533\ttotal: 4.57s\tremaining: 479ms\n",
      "905:\tlearn: 0.0034533\ttotal: 4.57s\tremaining: 474ms\n",
      "906:\tlearn: 0.0034533\ttotal: 4.58s\tremaining: 469ms\n",
      "907:\tlearn: 0.0034533\ttotal: 4.58s\tremaining: 464ms\n",
      "908:\tlearn: 0.0034533\ttotal: 4.58s\tremaining: 459ms\n",
      "909:\tlearn: 0.0034533\ttotal: 4.59s\tremaining: 454ms\n",
      "910:\tlearn: 0.0034533\ttotal: 4.59s\tremaining: 449ms\n",
      "911:\tlearn: 0.0034533\ttotal: 4.6s\tremaining: 444ms\n",
      "912:\tlearn: 0.0034533\ttotal: 4.6s\tremaining: 439ms\n",
      "913:\tlearn: 0.0034533\ttotal: 4.61s\tremaining: 434ms\n",
      "914:\tlearn: 0.0034533\ttotal: 4.61s\tremaining: 428ms\n",
      "915:\tlearn: 0.0034533\ttotal: 4.62s\tremaining: 423ms\n",
      "916:\tlearn: 0.0034533\ttotal: 4.62s\tremaining: 418ms\n",
      "917:\tlearn: 0.0034533\ttotal: 4.63s\tremaining: 413ms\n",
      "918:\tlearn: 0.0034533\ttotal: 4.63s\tremaining: 408ms\n",
      "919:\tlearn: 0.0034533\ttotal: 4.63s\tremaining: 403ms\n",
      "920:\tlearn: 0.0034533\ttotal: 4.64s\tremaining: 398ms\n",
      "921:\tlearn: 0.0034533\ttotal: 4.64s\tremaining: 393ms\n",
      "922:\tlearn: 0.0034533\ttotal: 4.65s\tremaining: 388ms\n",
      "923:\tlearn: 0.0034533\ttotal: 4.65s\tremaining: 383ms\n",
      "924:\tlearn: 0.0034533\ttotal: 4.66s\tremaining: 378ms\n",
      "925:\tlearn: 0.0034533\ttotal: 4.66s\tremaining: 373ms\n",
      "926:\tlearn: 0.0034533\ttotal: 4.67s\tremaining: 367ms\n",
      "927:\tlearn: 0.0034533\ttotal: 4.67s\tremaining: 362ms\n",
      "928:\tlearn: 0.0034533\ttotal: 4.67s\tremaining: 357ms\n",
      "929:\tlearn: 0.0034533\ttotal: 4.68s\tremaining: 352ms\n",
      "930:\tlearn: 0.0034533\ttotal: 4.69s\tremaining: 347ms\n",
      "931:\tlearn: 0.0034533\ttotal: 4.69s\tremaining: 342ms\n",
      "932:\tlearn: 0.0034533\ttotal: 4.7s\tremaining: 337ms\n",
      "933:\tlearn: 0.0034533\ttotal: 4.7s\tremaining: 332ms\n",
      "934:\tlearn: 0.0034533\ttotal: 4.7s\tremaining: 327ms\n",
      "935:\tlearn: 0.0034533\ttotal: 4.71s\tremaining: 322ms\n",
      "936:\tlearn: 0.0034533\ttotal: 4.71s\tremaining: 317ms\n",
      "937:\tlearn: 0.0034533\ttotal: 4.72s\tremaining: 312ms\n",
      "938:\tlearn: 0.0034533\ttotal: 4.72s\tremaining: 307ms\n",
      "939:\tlearn: 0.0034533\ttotal: 4.73s\tremaining: 302ms\n",
      "940:\tlearn: 0.0034533\ttotal: 4.73s\tremaining: 297ms\n",
      "941:\tlearn: 0.0034533\ttotal: 4.74s\tremaining: 292ms\n",
      "942:\tlearn: 0.0034533\ttotal: 4.74s\tremaining: 287ms\n",
      "943:\tlearn: 0.0034533\ttotal: 4.74s\tremaining: 281ms\n",
      "944:\tlearn: 0.0034533\ttotal: 4.75s\tremaining: 276ms\n",
      "945:\tlearn: 0.0034533\ttotal: 4.75s\tremaining: 271ms\n",
      "946:\tlearn: 0.0034533\ttotal: 4.76s\tremaining: 266ms\n",
      "947:\tlearn: 0.0034533\ttotal: 4.76s\tremaining: 261ms\n",
      "948:\tlearn: 0.0034533\ttotal: 4.76s\tremaining: 256ms\n",
      "949:\tlearn: 0.0034533\ttotal: 4.77s\tremaining: 251ms\n",
      "950:\tlearn: 0.0034533\ttotal: 4.77s\tremaining: 246ms\n",
      "951:\tlearn: 0.0034533\ttotal: 4.77s\tremaining: 241ms\n",
      "952:\tlearn: 0.0034533\ttotal: 4.78s\tremaining: 236ms\n",
      "953:\tlearn: 0.0034533\ttotal: 4.78s\tremaining: 231ms\n",
      "954:\tlearn: 0.0034533\ttotal: 4.79s\tremaining: 226ms\n",
      "955:\tlearn: 0.0034533\ttotal: 4.79s\tremaining: 220ms\n",
      "956:\tlearn: 0.0034533\ttotal: 4.79s\tremaining: 215ms\n",
      "957:\tlearn: 0.0034533\ttotal: 4.8s\tremaining: 210ms\n",
      "958:\tlearn: 0.0034533\ttotal: 4.8s\tremaining: 205ms\n",
      "959:\tlearn: 0.0034533\ttotal: 4.8s\tremaining: 200ms\n",
      "960:\tlearn: 0.0034533\ttotal: 4.81s\tremaining: 195ms\n",
      "961:\tlearn: 0.0034533\ttotal: 4.81s\tremaining: 190ms\n",
      "962:\tlearn: 0.0034533\ttotal: 4.82s\tremaining: 185ms\n",
      "963:\tlearn: 0.0034533\ttotal: 4.82s\tremaining: 180ms\n",
      "964:\tlearn: 0.0034533\ttotal: 4.83s\tremaining: 175ms\n",
      "965:\tlearn: 0.0034533\ttotal: 4.83s\tremaining: 170ms\n",
      "966:\tlearn: 0.0034533\ttotal: 4.83s\tremaining: 165ms\n",
      "967:\tlearn: 0.0034533\ttotal: 4.84s\tremaining: 160ms\n",
      "968:\tlearn: 0.0034533\ttotal: 4.84s\tremaining: 155ms\n",
      "969:\tlearn: 0.0034533\ttotal: 4.85s\tremaining: 150ms\n",
      "970:\tlearn: 0.0034533\ttotal: 4.85s\tremaining: 145ms\n",
      "971:\tlearn: 0.0034533\ttotal: 4.86s\tremaining: 140ms\n",
      "972:\tlearn: 0.0034533\ttotal: 4.86s\tremaining: 135ms\n",
      "973:\tlearn: 0.0034533\ttotal: 4.87s\tremaining: 130ms\n",
      "974:\tlearn: 0.0034533\ttotal: 4.87s\tremaining: 125ms\n",
      "975:\tlearn: 0.0034533\ttotal: 4.87s\tremaining: 120ms\n",
      "976:\tlearn: 0.0034533\ttotal: 4.88s\tremaining: 115ms\n",
      "977:\tlearn: 0.0034533\ttotal: 4.88s\tremaining: 110ms\n",
      "978:\tlearn: 0.0034533\ttotal: 4.89s\tremaining: 105ms\n",
      "979:\tlearn: 0.0034533\ttotal: 4.89s\tremaining: 99.8ms\n",
      "980:\tlearn: 0.0034533\ttotal: 4.89s\tremaining: 94.8ms\n",
      "981:\tlearn: 0.0034533\ttotal: 4.9s\tremaining: 89.8ms\n",
      "982:\tlearn: 0.0034533\ttotal: 4.9s\tremaining: 84.8ms\n",
      "983:\tlearn: 0.0034533\ttotal: 4.91s\tremaining: 79.8ms\n",
      "984:\tlearn: 0.0034533\ttotal: 4.91s\tremaining: 74.8ms\n",
      "985:\tlearn: 0.0034533\ttotal: 4.91s\tremaining: 69.8ms\n",
      "986:\tlearn: 0.0034533\ttotal: 4.92s\tremaining: 64.8ms\n",
      "987:\tlearn: 0.0034533\ttotal: 4.92s\tremaining: 59.8ms\n",
      "988:\tlearn: 0.0034533\ttotal: 4.92s\tremaining: 54.8ms\n",
      "989:\tlearn: 0.0034533\ttotal: 4.93s\tremaining: 49.8ms\n",
      "990:\tlearn: 0.0034533\ttotal: 4.93s\tremaining: 44.8ms\n",
      "991:\tlearn: 0.0034533\ttotal: 4.93s\tremaining: 39.8ms\n",
      "992:\tlearn: 0.0034533\ttotal: 4.94s\tremaining: 34.8ms\n",
      "993:\tlearn: 0.0034533\ttotal: 4.94s\tremaining: 29.8ms\n",
      "994:\tlearn: 0.0034533\ttotal: 4.95s\tremaining: 24.9ms\n",
      "995:\tlearn: 0.0034533\ttotal: 4.95s\tremaining: 19.9ms\n",
      "996:\tlearn: 0.0034533\ttotal: 4.95s\tremaining: 14.9ms\n",
      "997:\tlearn: 0.0034533\ttotal: 4.96s\tremaining: 9.94ms\n",
      "998:\tlearn: 0.0034533\ttotal: 4.96s\tremaining: 4.97ms\n",
      "999:\tlearn: 0.0034533\ttotal: 4.97s\tremaining: 0us\n",
      "5.854356288909912\n",
      "fitting done !!!\n",
      "              precision    recall  f1-score   support\n",
      "\n",
      "           0     0.9870    0.9757    0.9813      1398\n",
      "           1     0.9776    0.9880    0.9828      1500\n",
      "\n",
      "    accuracy                         0.9821      2898\n",
      "   macro avg     0.9823    0.9818    0.9820      2898\n",
      "weighted avg     0.9821    0.9821    0.9821      2898\n",
      "\n"
     ]
    }
   ],
   "source": [
    "from catboost import CatBoostClassifier\n",
    "cb = CatBoostClassifier()\n",
    "start = time.time() # Measuring the processing time\n",
    "cb.fit(feat_train,np.argmax(y_train,axis=1))\n",
    "end = time.time()\n",
    "print(end - start) # Total\n",
    "\n",
    "print('fitting done !!!')\n",
    "Pred_labels = et.predict(feat_test)\n",
    "print(classification_report(Pred_labels, np.argmax(y_test,axis =1), digits=4))"
   ]
  },
  {
   "cell_type": "code",
   "execution_count": null,
   "metadata": {},
   "outputs": [],
   "source": []
  },
  {
   "cell_type": "code",
   "execution_count": null,
   "metadata": {},
   "outputs": [],
   "source": []
  },
  {
   "cell_type": "code",
   "execution_count": null,
   "metadata": {},
   "outputs": [],
   "source": []
  },
  {
   "cell_type": "code",
   "execution_count": null,
   "metadata": {},
   "outputs": [],
   "source": []
  },
  {
   "cell_type": "code",
   "execution_count": null,
   "metadata": {},
   "outputs": [],
   "source": []
  },
  {
   "cell_type": "code",
   "execution_count": 48,
   "metadata": {},
   "outputs": [],
   "source": [
    "estimators = list()\n",
    "estimators.append(('RF', RandomForestClassifier()))\n",
    "estimators.append(('LR', LogisticRegression()))\n",
    "estimators.append(('DTC', DecisionTreeClassifier()))\n",
    "estimators.append(('KNN', KNeighborsClassifier()))\n",
    "estimators.append(('LDA', LinearDiscriminantAnalysis()))\n",
    "estimators.append(('NB', GaussianNB()))\n",
    "#estimators.append(('SVM', GradientBoostingClassifier(learning_rate=0.01, n_estimators=1500,max_depth=4, min_samples_split=40, min_samples_leaf=7,max_features=4 , subsample=0.95, random_state=10)))\n",
    "estimators.append(('XGB', XGBClassifier()))"
   ]
  },
  {
   "cell_type": "code",
   "execution_count": 49,
   "metadata": {},
   "outputs": [
    {
     "name": "stdout",
     "output_type": "stream",
     "text": [
      "0.6259691715240479\n",
      "fitting done !!!\n",
      "              precision    recall  f1-score   support\n",
      "\n",
      "           0     0.9877    0.9771    0.9824      1397\n",
      "           1     0.9789    0.9887    0.9838      1501\n",
      "\n",
      "    accuracy                         0.9831      2898\n",
      "   macro avg     0.9833    0.9829    0.9831      2898\n",
      "weighted avg     0.9831    0.9831    0.9831      2898\n",
      "\n"
     ]
    }
   ],
   "source": [
    "ensemble = VotingClassifier(estimators=estimators, voting='soft')\n",
    "start = time.time() # Measuring the processing time\n",
    "ensemble.fit(feat_train,np.argmax(y_train,axis=1))\n",
    "end = time.time()\n",
    "print(end - start)\n",
    "\n",
    "print('fitting done !!!')\n",
    "Pred_labels = ensemble.predict(feat_test)\n",
    "print(classification_report(Pred_labels, np.argmax(y_test,axis =1),digits=4))"
   ]
  },
  {
   "cell_type": "code",
   "execution_count": 50,
   "metadata": {},
   "outputs": [
    {
     "data": {
      "image/png": "[encoded data removed]",
      "text/plain": [
       "<Figure size 864x864 with 2 Axes>"
      ]
     },
     "metadata": {
      "needs_background": "light"
     },
     "output_type": "display_data"
    }
   ],
   "source": [
    "plot_heatmap(confusion_matrix(pred, np.argmax(y_test,axis =1)),'VEC')"
   ]
  },
  {
   "cell_type": "code",
   "execution_count": 52,
   "metadata": {},
   "outputs": [
    {
     "data": {
      "image/png": "[encoded data removed]",
      "text/plain": [
       "<Figure size 720x576 with 1 Axes>"
      ]
     },
     "metadata": {
      "needs_background": "light"
     },
     "output_type": "display_data"
    }
   ],
   "source": [
    "from sklearn import metrics\n",
    "from sklearn.metrics import roc_curve\n",
    "\n",
    "\n",
    "clf2=LogisticRegression().fit(feat_train,np.argmax(y_train,axis=1))\n",
    "y_pred2 = clf2.predict(feat_test)\n",
    "\n",
    "clf3 = GaussianNB().fit(feat_train,np.argmax(y_train,axis=1))\n",
    "y_pred3 = clf3.predict(feat_test)\n",
    "\n",
    "clf4 = ensemble.fit(feat_train,np.argmax(y_train,axis=1))\n",
    "y_pred4 = clf4.predict(feat_test)\n",
    "\n",
    "clf6=LinearDiscriminantAnalysis().fit(feat_train,np.argmax(y_train,axis=1))\n",
    "y_pred6 = clf6.predict(feat_test)\n",
    "\n",
    "#clf7=SVC(kernel='rbf').fit(feat_train,np.argmax(y_train,axis=1))\n",
    "#y_pred7 = clf7.predict(feat_test)\n",
    "\n",
    "y_pred_proba2 = clf2.predict_proba(feat_test)[::,1]\n",
    "fpr2, tpr2, _ = metrics.roc_curve(np.argmax(y_test,axis =1),  y_pred_proba2)\n",
    "auc2 = metrics.roc_auc_score(np.argmax(y_test,axis =1), y_pred_proba2)\n",
    "\n",
    "y_pred_proba3 = clf3.predict_proba(feat_test)[::,1]\n",
    "fpr3, tpr3, _ = metrics.roc_curve(np.argmax(y_test,axis =1),  y_pred_proba3)\n",
    "auc3 = metrics.roc_auc_score(np.argmax(y_test,axis =1), y_pred_proba3)\n",
    "\n",
    "y_pred_proba4 = clf4.predict_proba(feat_test)[::,1]\n",
    "fpr4, tpr4, _ = metrics.roc_curve(np.argmax(y_test,axis =1),  y_pred_proba4)\n",
    "auc4 = metrics.roc_auc_score(np.argmax(y_test,axis =1), y_pred_proba4)\n",
    "\n",
    "y_pred_proba6 = clf6.predict_proba(feat_test)[::,1]\n",
    "fpr6, tpr6, _ = metrics.roc_curve(np.argmax(y_test,axis =1),  y_pred_proba6)\n",
    "auc6 = metrics.roc_auc_score(np.argmax(y_test,axis =1), y_pred_proba6)\n",
    "\n",
    "#y_pred_proba7 = clf7.predict_proba(feat_test)[::,1]\n",
    "#fpr7, tpr7, _ = metrics.roc_curve(np.argmax(y_test,axis =1),  y_pred_proba7)\n",
    "#auc7 = metrics.roc_auc_score(np.argmax(y_test,axis =1), y_pred_proba7)\n",
    "\n",
    "\n",
    "plt.figure(figsize=(10, 8))\n",
    "plt.plot([0, 1], [0, 1], 'k--')\n",
    "plt.plot(fpr2,tpr2,label=\"LogisticRegression Classifier, auc=\"+str(auc2))\n",
    "plt.plot(fpr3,tpr3,label=\"Naive bayes Classifier, auc=\"+str(auc3))\n",
    "plt.plot(fpr4,tpr4,label=\"Ensemble, auc=\"+str(auc4))\n",
    "plt.plot(fpr6,tpr6,label=\"LinearDiscriminantAnalysis Classifier, auc=\"+str(auc6))\n",
    "#plt.plot(fpr7,tpr7,label=\"SVC Classifier, auc=\"+str(auc7))\n",
    "plt.xlabel('False positive rate')\n",
    "plt.ylabel('True positive rate')\n",
    "plt.title('ROC curve')\n",
    "plt.legend(frameon=False)\n",
    "plt.show()"
   ]
  },
  {
   "cell_type": "code",
   "execution_count": null,
   "metadata": {},
   "outputs": [],
   "source": []
  }
 ],
 "metadata": {
  "kernelspec": {
   "display_name": "Python 3 (ipykernel)",
   "language": "python",
   "name": "python3"
  },
  "language_info": {
   "codemirror_mode": {
    "name": "ipython",
    "version": 3
   },
   "file_extension": ".py",
   "mimetype": "text/x-python",
   "name": "python",
   "nbconvert_exporter": "python",
   "pygments_lexer": "ipython3",
   "version": "3.9.12"
  }
 },
 "nbformat": 4,
 "nbformat_minor": 2
}
